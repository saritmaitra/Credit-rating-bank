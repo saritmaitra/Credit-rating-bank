{
  "nbformat": 4,
  "nbformat_minor": 0,
  "metadata": {
    "kernelspec": {
      "display_name": "R",
      "language": "R",
      "name": "ir"
    },
    "language_info": {
      "codemirror_mode": "r",
      "file_extension": ".r",
      "mimetype": "text/x-r-source",
      "name": "R",
      "pygments_lexer": "r",
      "version": "3.6.0"
    },
    "colab": {
      "name": "Credit.ipynb",
      "version": "0.3.2",
      "provenance": [],
      "include_colab_link": true
    }
  },
  "cells": [
    {
      "cell_type": "markdown",
      "metadata": {
        "id": "view-in-github",
        "colab_type": "text"
      },
      "source": [
        "<a href=\"https://colab.research.google.com/github/saritmaitra/Credit-rating-bank/blob/master/Credit.ipynb\" target=\"_parent\"><img src=\"https://colab.research.google.com/assets/colab-badge.svg\" alt=\"Open In Colab\"/></a>"
      ]
    },
    {
      "cell_type": "code",
      "metadata": {
        "id": "3jAkXULOVVET",
        "colab_type": "code",
        "colab": {},
        "outputId": "2a363607-f815-4ca7-8923-271a72a9451c"
      },
      "source": [
        "install.packages('rpart')"
      ],
      "execution_count": 0,
      "outputs": [
        {
          "output_type": "stream",
          "text": [
            "package 'rpart' successfully unpacked and MD5 sums checked\n",
            "\n",
            "The downloaded binary packages are in\n",
            "\tC:\\Users\\Sarit\\AppData\\Local\\Temp\\RtmpM1UrMh\\downloaded_packages\n"
          ],
          "name": "stdout"
        }
      ]
    },
    {
      "cell_type": "code",
      "metadata": {
        "id": "4RlJJglMVVEX",
        "colab_type": "code",
        "colab": {},
        "outputId": "bdc77a3e-3c7e-4172-914e-fe75b5f8c621"
      },
      "source": [
        "library(knitr)\n",
        "library(dplyr)\n",
        "library(tidyr)\n",
        "library(reshape2)\n",
        "library(RColorBrewer)\n",
        "library(ggplot2)\n",
        "library(caret)\n",
        "library(glmnet)\n",
        "library(boot)"
      ],
      "execution_count": 0,
      "outputs": [
        {
          "output_type": "stream",
          "text": [
            "Loading required package: Matrix\n",
            "\n",
            "Attaching package: 'Matrix'\n",
            "\n",
            "The following object is masked from 'package:tidyr':\n",
            "\n",
            "    expand\n",
            "\n",
            "Loading required package: foreach\n",
            "Loaded glmnet 2.0-16\n",
            "\n",
            "\n",
            "Attaching package: 'boot'\n",
            "\n",
            "The following object is masked from 'package:lattice':\n",
            "\n",
            "    melanoma\n",
            "\n"
          ],
          "name": "stderr"
        }
      ]
    },
    {
      "cell_type": "code",
      "metadata": {
        "id": "w1v63A3HVVEZ",
        "colab_type": "code",
        "colab": {},
        "outputId": "b59245db-b5c0-40ef-940c-8af2d306285a"
      },
      "source": [
        "install.packages('verification')"
      ],
      "execution_count": 0,
      "outputs": [
        {
          "output_type": "stream",
          "text": [
            "package 'verification' successfully unpacked and MD5 sums checked\n",
            "\n",
            "The downloaded binary packages are in\n",
            "\tC:\\Users\\Sarit\\AppData\\Local\\Temp\\RtmpM1UrMh\\downloaded_packages\n"
          ],
          "name": "stdout"
        }
      ]
    },
    {
      "cell_type": "code",
      "metadata": {
        "id": "K9xDYD2zVVEb",
        "colab_type": "code",
        "colab": {},
        "outputId": "6d040fb2-a630-49b6-c9e3-f915efdbd59d"
      },
      "source": [
        "library(verification)"
      ],
      "execution_count": 0,
      "outputs": [
        {
          "output_type": "stream",
          "text": [
            "Warning message:\n",
            "\"package 'verification' was built under R version 3.6.1\"Loading required package: fields\n",
            "Warning message:\n",
            "\"package 'fields' was built under R version 3.6.1\"Loading required package: spam\n",
            "Warning message:\n",
            "\"package 'spam' was built under R version 3.6.1\"Loading required package: dotCall64\n",
            "Warning message:\n",
            "\"package 'dotCall64' was built under R version 3.6.1\"Loading required package: grid\n",
            "Spam version 2.2-2 (2019-03-07) is loaded.\n",
            "Type 'help( Spam)' or 'demo( spam)' for a short introduction \n",
            "and overview of this package.\n",
            "Help for individual functions is also obtained by adding the\n",
            "suffix '.spam' to the function name, e.g. 'help( chol.spam)'.\n",
            "\n",
            "Attaching package: 'spam'\n",
            "\n",
            "The following object is masked from 'package:Matrix':\n",
            "\n",
            "    det\n",
            "\n",
            "The following objects are masked from 'package:base':\n",
            "\n",
            "    backsolve, forwardsolve\n",
            "\n",
            "Loading required package: maps\n",
            "See https://github.com/NCAR/Fields for\n",
            " an extensive vignette, other supplements and source code \n",
            "Loading required package: CircStats\n",
            "Warning message:\n",
            "\"package 'CircStats' was built under R version 3.6.1\"Loading required package: MASS\n",
            "\n",
            "Attaching package: 'MASS'\n",
            "\n",
            "The following object is masked from 'package:dplyr':\n",
            "\n",
            "    select\n",
            "\n",
            "Loading required package: dtw\n",
            "Warning message:\n",
            "\"package 'dtw' was built under R version 3.6.1\"Loading required package: proxy\n",
            "Warning message:\n",
            "\"package 'proxy' was built under R version 3.6.1\"\n",
            "Attaching package: 'proxy'\n",
            "\n",
            "The following object is masked from 'package:spam':\n",
            "\n",
            "    as.matrix\n",
            "\n",
            "The following object is masked from 'package:Matrix':\n",
            "\n",
            "    as.matrix\n",
            "\n",
            "The following objects are masked from 'package:stats':\n",
            "\n",
            "    as.dist, dist\n",
            "\n",
            "The following object is masked from 'package:base':\n",
            "\n",
            "    as.matrix\n",
            "\n",
            "Loaded dtw v1.20-1. See ?dtw for help, citation(\"dtw\") for use in publication.\n",
            "\n"
          ],
          "name": "stderr"
        }
      ]
    },
    {
      "cell_type": "code",
      "metadata": {
        "id": "ioRSxhtSVVEe",
        "colab_type": "code",
        "colab": {}
      },
      "source": [
        "df = read.csv(\"credit.csv\")\n"
      ],
      "execution_count": 0,
      "outputs": []
    },
    {
      "cell_type": "markdown",
      "metadata": {
        "id": "Z-B_WYeWVVEg",
        "colab_type": "text"
      },
      "source": [
        "### Data mining"
      ]
    },
    {
      "cell_type": "code",
      "metadata": {
        "id": "aYwNqtSyVVEh",
        "colab_type": "code",
        "colab": {},
        "outputId": "45090536-fdc7-426b-f671-11b477d666cc"
      },
      "source": [
        "str(df)"
      ],
      "execution_count": 0,
      "outputs": [
        {
          "output_type": "stream",
          "text": [
            "'data.frame':\t1000 obs. of  17 variables:\n",
            " $ checking_balance    : Factor w/ 4 levels \"< 0 DM\",\"> 200 DM\",..: 1 3 4 1 1 4 4 3 4 3 ...\n",
            " $ months_loan_duration: int  6 48 12 42 24 36 24 36 12 30 ...\n",
            " $ credit_history      : Factor w/ 5 levels \"critical\",\"good\",..: 1 2 1 2 4 2 2 2 2 1 ...\n",
            " $ purpose             : Factor w/ 6 levels \"business\",\"car\",..: 5 5 4 5 2 4 5 2 5 2 ...\n",
            " $ amount              : int  1169 5951 2096 7882 4870 9055 2835 6948 3059 5234 ...\n",
            " $ savings_balance     : Factor w/ 5 levels \"< 100 DM\",\"> 1000 DM\",..: 5 1 1 1 1 5 4 1 2 1 ...\n",
            " $ employment_duration : Factor w/ 5 levels \"< 1 year\",\"> 7 years\",..: 2 3 4 4 3 3 2 3 4 5 ...\n",
            " $ percent_of_income   : int  4 2 2 2 3 2 3 2 2 4 ...\n",
            " $ years_at_residence  : int  4 2 3 4 4 4 4 2 4 2 ...\n",
            " $ age                 : int  67 22 49 45 53 35 53 35 61 28 ...\n",
            " $ other_credit        : Factor w/ 3 levels \"bank\",\"none\",..: 2 2 2 2 2 2 2 2 2 2 ...\n",
            " $ housing             : Factor w/ 3 levels \"other\",\"own\",..: 2 2 2 1 1 1 2 3 2 2 ...\n",
            " $ existing_loans_count: int  2 1 1 1 2 1 1 1 1 2 ...\n",
            " $ job                 : Factor w/ 4 levels \"management\",\"skilled\",..: 2 2 4 2 2 4 2 1 4 1 ...\n",
            " $ dependents          : int  1 1 2 2 2 2 1 1 1 1 ...\n",
            " $ phone               : Factor w/ 2 levels \"no\",\"yes\": 2 1 1 1 1 2 1 2 1 1 ...\n",
            " $ default             : Factor w/ 2 levels \"no\",\"yes\": 1 2 1 1 2 1 1 1 1 2 ...\n"
          ],
          "name": "stdout"
        }
      ]
    },
    {
      "cell_type": "markdown",
      "metadata": {
        "id": "G_TdksL1VVEk",
        "colab_type": "text"
      },
      "source": [
        " - Above output displays quite a few factor variables e.g.checking_variables, credit_history, purpose etc., these are\n",
        "   categorical variables"
      ]
    },
    {
      "cell_type": "code",
      "metadata": {
        "id": "B5ioww3yVVEl",
        "colab_type": "code",
        "colab": {}
      },
      "source": [
        "require(dplyr)"
      ],
      "execution_count": 0,
      "outputs": []
    },
    {
      "cell_type": "code",
      "metadata": {
        "id": "jxQTw-iRVVEn",
        "colab_type": "code",
        "colab": {},
        "outputId": "4937b66c-9322-447e-b3e6-7b5435edc11c"
      },
      "source": [
        "install.packages('Hmisc')"
      ],
      "execution_count": 0,
      "outputs": [
        {
          "output_type": "stream",
          "text": [
            "package 'Hmisc' successfully unpacked and MD5 sums checked\n",
            "\n",
            "The downloaded binary packages are in\n",
            "\tC:\\Users\\Sarit\\AppData\\Local\\Temp\\RtmpM1UrMh\\downloaded_packages\n"
          ],
          "name": "stdout"
        }
      ]
    },
    {
      "cell_type": "code",
      "metadata": {
        "id": "mB5D19y6VVEq",
        "colab_type": "code",
        "colab": {},
        "outputId": "392df67d-cf08-438c-9602-bc45c79e6b10"
      },
      "source": [
        "library('Hmisc')"
      ],
      "execution_count": 0,
      "outputs": [
        {
          "output_type": "stream",
          "text": [
            "Warning message:\n",
            "\"package 'Hmisc' was built under R version 3.6.1\"Loading required package: survival\n",
            "\n",
            "Attaching package: 'survival'\n",
            "\n",
            "The following object is masked from 'package:boot':\n",
            "\n",
            "    aml\n",
            "\n",
            "The following object is masked from 'package:caret':\n",
            "\n",
            "    cluster\n",
            "\n",
            "Loading required package: Formula\n",
            "\n",
            "Attaching package: 'Hmisc'\n",
            "\n",
            "The following object is masked from 'package:fields':\n",
            "\n",
            "    describe\n",
            "\n",
            "The following objects are masked from 'package:dplyr':\n",
            "\n",
            "    src, summarize\n",
            "\n",
            "The following objects are masked from 'package:base':\n",
            "\n",
            "    format.pval, units\n",
            "\n"
          ],
          "name": "stderr"
        }
      ]
    },
    {
      "cell_type": "code",
      "metadata": {
        "id": "p1PVu_kFVVEu",
        "colab_type": "code",
        "colab": {},
        "outputId": "a72ae8ee-16dd-4ca9-d9aa-5033bde1cec4"
      },
      "source": [
        "install.packages('GGally')"
      ],
      "execution_count": 0,
      "outputs": [
        {
          "output_type": "stream",
          "text": [
            "package 'GGally' successfully unpacked and MD5 sums checked\n",
            "\n",
            "The downloaded binary packages are in\n",
            "\tC:\\Users\\Sarit\\AppData\\Local\\Temp\\RtmpM1UrMh\\downloaded_packages\n"
          ],
          "name": "stdout"
        }
      ]
    },
    {
      "cell_type": "code",
      "metadata": {
        "id": "wit6a5XrVVEw",
        "colab_type": "code",
        "colab": {},
        "outputId": "32ce7a28-7bbb-40f9-9e8e-60b40024c747"
      },
      "source": [
        "library('GGally')"
      ],
      "execution_count": 0,
      "outputs": [
        {
          "output_type": "stream",
          "text": [
            "Warning message:\n",
            "\"package 'GGally' was built under R version 3.6.1\"Registered S3 method overwritten by 'GGally':\n",
            "  method from   \n",
            "  +.gg   ggplot2\n",
            "\n",
            "Attaching package: 'GGally'\n",
            "\n",
            "The following object is masked from 'package:dplyr':\n",
            "\n",
            "    nasa\n",
            "\n"
          ],
          "name": "stderr"
        }
      ]
    },
    {
      "cell_type": "code",
      "metadata": {
        "id": "K8cUfXEPVVEz",
        "colab_type": "code",
        "colab": {},
        "outputId": "5628aada-2bc6-4fad-bed8-73acccbc304a"
      },
      "source": [
        "head(df)"
      ],
      "execution_count": 0,
      "outputs": [
        {
          "output_type": "display_data",
          "data": {
            "text/html": [
              "<table>\n",
              "<thead><tr><th scope=col>checking_balance</th><th scope=col>months_loan_duration</th><th scope=col>credit_history</th><th scope=col>purpose</th><th scope=col>amount</th><th scope=col>savings_balance</th><th scope=col>employment_duration</th><th scope=col>percent_of_income</th><th scope=col>years_at_residence</th><th scope=col>age</th><th scope=col>other_credit</th><th scope=col>housing</th><th scope=col>existing_loans_count</th><th scope=col>job</th><th scope=col>dependents</th><th scope=col>phone</th><th scope=col>default</th></tr></thead>\n",
              "<tbody>\n",
              "\t<tr><td><span style=white-space:pre-wrap>&lt; 0 DM    </span> </td><td> 6                                                    </td><td>critical                                              </td><td>furniture/appliances                                  </td><td>1169                                                  </td><td>unknown                                               </td><td><span style=white-space:pre-wrap>&gt; 7 years  </span></td><td>4                                                     </td><td>4                                                     </td><td>67                                                    </td><td>none                                                  </td><td><span style=white-space:pre-wrap>own  </span>         </td><td>2                                                     </td><td><span style=white-space:pre-wrap>skilled  </span>     </td><td>1                                                     </td><td>yes                                                   </td><td>no                                                    </td></tr>\n",
              "\t<tr><td>1 - 200 DM                                       </td><td>48                                               </td><td><span style=white-space:pre-wrap>good    </span> </td><td>furniture/appliances                             </td><td>5951                                             </td><td>&lt; 100 DM                                      </td><td>1 - 4 years                                      </td><td>2                                                </td><td>2                                                </td><td>22                                               </td><td>none                                             </td><td><span style=white-space:pre-wrap>own  </span>    </td><td>1                                                </td><td><span style=white-space:pre-wrap>skilled  </span></td><td>1                                                </td><td>no                                               </td><td>yes                                              </td></tr>\n",
              "\t<tr><td><span style=white-space:pre-wrap>unknown   </span>          </td><td>12                                                          </td><td>critical                                                    </td><td><span style=white-space:pre-wrap>education           </span></td><td>2096                                                        </td><td>&lt; 100 DM                                                 </td><td>4 - 7 years                                                 </td><td>2                                                           </td><td>3                                                           </td><td>49                                                          </td><td>none                                                        </td><td><span style=white-space:pre-wrap>own  </span>               </td><td>1                                                           </td><td>unskilled                                                   </td><td>2                                                           </td><td>no                                                          </td><td>no                                                          </td></tr>\n",
              "\t<tr><td><span style=white-space:pre-wrap>&lt; 0 DM    </span></td><td>42                                                   </td><td><span style=white-space:pre-wrap>good    </span>     </td><td>furniture/appliances                                 </td><td>7882                                                 </td><td>&lt; 100 DM                                          </td><td>4 - 7 years                                          </td><td>2                                                    </td><td>4                                                    </td><td>45                                                   </td><td>none                                                 </td><td>other                                                </td><td>1                                                    </td><td><span style=white-space:pre-wrap>skilled  </span>    </td><td>2                                                    </td><td>no                                                   </td><td>no                                                   </td></tr>\n",
              "\t<tr><td><span style=white-space:pre-wrap>&lt; 0 DM    </span>       </td><td>24                                                          </td><td><span style=white-space:pre-wrap>poor    </span>            </td><td><span style=white-space:pre-wrap>car                 </span></td><td>4870                                                        </td><td>&lt; 100 DM                                                 </td><td>1 - 4 years                                                 </td><td>3                                                           </td><td>4                                                           </td><td>53                                                          </td><td>none                                                        </td><td>other                                                       </td><td>2                                                           </td><td><span style=white-space:pre-wrap>skilled  </span>           </td><td>2                                                           </td><td>no                                                          </td><td>yes                                                         </td></tr>\n",
              "\t<tr><td>unknown             </td><td>36                  </td><td>good                </td><td>education           </td><td>9055                </td><td>unknown             </td><td>1 - 4 years         </td><td>2                   </td><td>4                   </td><td>35                  </td><td>none                </td><td>other               </td><td>1                   </td><td>unskilled           </td><td>2                   </td><td>yes                 </td><td>no                  </td></tr>\n",
              "</tbody>\n",
              "</table>\n"
            ],
            "text/latex": "\\begin{tabular}{r|lllllllllllllllll}\n checking\\_balance & months\\_loan\\_duration & credit\\_history & purpose & amount & savings\\_balance & employment\\_duration & percent\\_of\\_income & years\\_at\\_residence & age & other\\_credit & housing & existing\\_loans\\_count & job & dependents & phone & default\\\\\n\\hline\n\t < 0 DM               &  6                   & critical             & furniture/appliances & 1169                 & unknown              & > 7 years            & 4                    & 4                    & 67                   & none                 & own                  & 2                    & skilled              & 1                    & yes                  & no                  \\\\\n\t 1 - 200 DM           & 48                   & good                 & furniture/appliances & 5951                 & < 100 DM             & 1 - 4 years          & 2                    & 2                    & 22                   & none                 & own                  & 1                    & skilled              & 1                    & no                   & yes                 \\\\\n\t unknown              & 12                   & critical             & education            & 2096                 & < 100 DM             & 4 - 7 years          & 2                    & 3                    & 49                   & none                 & own                  & 1                    & unskilled            & 2                    & no                   & no                  \\\\\n\t < 0 DM               & 42                   & good                 & furniture/appliances & 7882                 & < 100 DM             & 4 - 7 years          & 2                    & 4                    & 45                   & none                 & other                & 1                    & skilled              & 2                    & no                   & no                  \\\\\n\t < 0 DM               & 24                   & poor                 & car                  & 4870                 & < 100 DM             & 1 - 4 years          & 3                    & 4                    & 53                   & none                 & other                & 2                    & skilled              & 2                    & no                   & yes                 \\\\\n\t unknown              & 36                   & good                 & education            & 9055                 & unknown              & 1 - 4 years          & 2                    & 4                    & 35                   & none                 & other                & 1                    & unskilled            & 2                    & yes                  & no                  \\\\\n\\end{tabular}\n",
            "text/markdown": "\n| checking_balance | months_loan_duration | credit_history | purpose | amount | savings_balance | employment_duration | percent_of_income | years_at_residence | age | other_credit | housing | existing_loans_count | job | dependents | phone | default |\n|---|---|---|---|---|---|---|---|---|---|---|---|---|---|---|---|---|\n| < 0 DM               |  6                   | critical             | furniture/appliances | 1169                 | unknown              | > 7 years            | 4                    | 4                    | 67                   | none                 | own                  | 2                    | skilled              | 1                    | yes                  | no                   |\n| 1 - 200 DM           | 48                   | good                 | furniture/appliances | 5951                 | < 100 DM             | 1 - 4 years          | 2                    | 2                    | 22                   | none                 | own                  | 1                    | skilled              | 1                    | no                   | yes                  |\n| unknown              | 12                   | critical             | education            | 2096                 | < 100 DM             | 4 - 7 years          | 2                    | 3                    | 49                   | none                 | own                  | 1                    | unskilled            | 2                    | no                   | no                   |\n| < 0 DM               | 42                   | good                 | furniture/appliances | 7882                 | < 100 DM             | 4 - 7 years          | 2                    | 4                    | 45                   | none                 | other                | 1                    | skilled              | 2                    | no                   | no                   |\n| < 0 DM               | 24                   | poor                 | car                  | 4870                 | < 100 DM             | 1 - 4 years          | 3                    | 4                    | 53                   | none                 | other                | 2                    | skilled              | 2                    | no                   | yes                  |\n| unknown              | 36                   | good                 | education            | 9055                 | unknown              | 1 - 4 years          | 2                    | 4                    | 35                   | none                 | other                | 1                    | unskilled            | 2                    | yes                  | no                   |\n\n",
            "text/plain": [
              "  checking_balance months_loan_duration credit_history purpose             \n",
              "1 < 0 DM            6                   critical       furniture/appliances\n",
              "2 1 - 200 DM       48                   good           furniture/appliances\n",
              "3 unknown          12                   critical       education           \n",
              "4 < 0 DM           42                   good           furniture/appliances\n",
              "5 < 0 DM           24                   poor           car                 \n",
              "6 unknown          36                   good           education           \n",
              "  amount savings_balance employment_duration percent_of_income\n",
              "1 1169   unknown         > 7 years           4                \n",
              "2 5951   < 100 DM        1 - 4 years         2                \n",
              "3 2096   < 100 DM        4 - 7 years         2                \n",
              "4 7882   < 100 DM        4 - 7 years         2                \n",
              "5 4870   < 100 DM        1 - 4 years         3                \n",
              "6 9055   unknown         1 - 4 years         2                \n",
              "  years_at_residence age other_credit housing existing_loans_count job      \n",
              "1 4                  67  none         own     2                    skilled  \n",
              "2 2                  22  none         own     1                    skilled  \n",
              "3 3                  49  none         own     1                    unskilled\n",
              "4 4                  45  none         other   1                    skilled  \n",
              "5 4                  53  none         other   2                    skilled  \n",
              "6 4                  35  none         other   1                    unskilled\n",
              "  dependents phone default\n",
              "1 1          yes   no     \n",
              "2 1          no    yes    \n",
              "3 2          no    no     \n",
              "4 2          no    no     \n",
              "5 2          no    yes    \n",
              "6 2          yes   no     "
            ]
          },
          "metadata": {
            "tags": []
          }
        }
      ]
    },
    {
      "cell_type": "markdown",
      "metadata": {
        "id": "W6zVsa2EVVE2",
        "colab_type": "text"
      },
      "source": [
        "#### Data Structure\n",
        "There are 17 variables- \n",
        "\n",
        " 1  checking_balance\t\n",
        " 2  months_loan_duration\t\n",
        " 3  credit_history\t\n",
        " 4  purpose\t\n",
        " 5  amount\t\n",
        " 6  savings_balance\t\n",
        " 7  employment_duration\t\n",
        " 8  percent_of_income\t\n",
        " 9  years_at_residence\t\n",
        " 10 age\t\n",
        " 11 other_credit\t\n",
        " 12 housing\t\n",
        " 13 existing_loans_count\t\n",
        " 14 job\t\n",
        " 15 dependents\t\n",
        " 15 phone\t\n",
        " 17 default"
      ]
    },
    {
      "cell_type": "code",
      "metadata": {
        "id": "Fg17Am9nVVE2",
        "colab_type": "code",
        "colab": {},
        "outputId": "09685fa5-d8b8-4b53-da6f-0da903d06364"
      },
      "source": [
        "ggcorr(df, label = TRUE)"
      ],
      "execution_count": 0,
      "outputs": [
        {
          "output_type": "stream",
          "text": [
            "Warning message in ggcorr(df, label = TRUE):\n",
            "\"data in column(s) 'checking_balance', 'credit_history', 'purpose', 'savings_balance', 'employment_duration', 'other_credit', 'housing', 'job', 'phone', 'default' are not numeric and were ignored\""
          ],
          "name": "stderr"
        },
        {
          "output_type": "display_data",
          "data": {
            "image/png": "[encoded data removed]",
            "text/plain": [
              "plot without title"
            ]
          },
          "metadata": {
            "tags": []
          }
        }
      ]
    },
    {
      "cell_type": "markdown",
      "metadata": {
        "id": "KnGPluRtVVE4",
        "colab_type": "text"
      },
      "source": [
        " - age over years_at_residence, correlation coefficient of these two variables is 0.3 signifies moderate correlation\n",
        " - anount over percent_of_income have moderate negative correlation (-0.3)\n",
        " - amount and months_loan_duration has significant positive correlation (0.6)\n",
        " \n",
        "The applicant’s checking, savings account balance and credit history are categorical variables in the dataset. Let’s take a look at the output of these loan features that seem likely to predict a default. "
      ]
    },
    {
      "cell_type": "code",
      "metadata": {
        "id": "LIjvqK-EVVE5",
        "colab_type": "code",
        "colab": {},
        "outputId": "fda2cce2-7abd-470c-a405-bd66b51d8987"
      },
      "source": [
        "table(df$checking_balance)"
      ],
      "execution_count": 0,
      "outputs": [
        {
          "output_type": "display_data",
          "data": {
            "text/plain": [
              "\n",
              "    < 0 DM   > 200 DM 1 - 200 DM    unknown \n",
              "       274         63        269        394 "
            ]
          },
          "metadata": {
            "tags": []
          }
        }
      ]
    },
    {
      "cell_type": "code",
      "metadata": {
        "id": "G8XP5YMGVVE7",
        "colab_type": "code",
        "colab": {},
        "outputId": "eff2d021-28d8-4527-910f-5cf631ab32d0"
      },
      "source": [
        "table(df$savings_balance)"
      ],
      "execution_count": 0,
      "outputs": [
        {
          "output_type": "display_data",
          "data": {
            "text/plain": [
              "\n",
              "     < 100 DM     > 1000 DM  100 - 500 DM 500 - 1000 DM       unknown \n",
              "          603            48           103            63           183 "
            ]
          },
          "metadata": {
            "tags": []
          }
        }
      ]
    },
    {
      "cell_type": "code",
      "metadata": {
        "id": "hFcXC-PEVVE9",
        "colab_type": "code",
        "colab": {},
        "outputId": "f661f5a0-7d15-4910-f3eb-a1ad48ebab1b"
      },
      "source": [
        "table(df$credit_history)"
      ],
      "execution_count": 0,
      "outputs": [
        {
          "output_type": "display_data",
          "data": {
            "text/plain": [
              "\n",
              " critical      good   perfect      poor very good \n",
              "      293       530        40        88        49 "
            ]
          },
          "metadata": {
            "tags": []
          }
        }
      ]
    },
    {
      "cell_type": "markdown",
      "metadata": {
        "id": "J2n693tvVVE_",
        "colab_type": "text"
      },
      "source": [
        " - The checking, savings account balance and credit are always important predictors from loan default perspective. The currency\n",
        "   is recorded in Deutsche Marks (DM). Some of the loan’s features are numeric, such as its duration and the amount of credit      requested."
      ]
    },
    {
      "cell_type": "code",
      "metadata": {
        "id": "4acrVSJjVVFA",
        "colab_type": "code",
        "colab": {},
        "outputId": "d60e8938-a10d-45df-aa70-02002bba7194"
      },
      "source": [
        "summary(df)"
      ],
      "execution_count": 0,
      "outputs": [
        {
          "output_type": "display_data",
          "data": {
            "text/plain": [
              "   checking_balance months_loan_duration   credit_history\n",
              " < 0 DM    :274     Min.   : 4.0         critical :293   \n",
              " > 200 DM  : 63     1st Qu.:12.0         good     :530   \n",
              " 1 - 200 DM:269     Median :18.0         perfect  : 40   \n",
              " unknown   :394     Mean   :20.9         poor     : 88   \n",
              "                    3rd Qu.:24.0         very good: 49   \n",
              "                    Max.   :72.0                         \n",
              "                 purpose        amount           savings_balance\n",
              " business            : 97   Min.   :  250   < 100 DM     :603   \n",
              " car                 :337   1st Qu.: 1366   > 1000 DM    : 48   \n",
              " car0                : 12   Median : 2320   100 - 500 DM :103   \n",
              " education           : 59   Mean   : 3271   500 - 1000 DM: 63   \n",
              " furniture/appliances:473   3rd Qu.: 3972   unknown      :183   \n",
              " renovations         : 22   Max.   :18424                       \n",
              "  employment_duration percent_of_income years_at_residence      age       \n",
              " < 1 year   :172      Min.   :1.000     Min.   :1.000      Min.   :19.00  \n",
              " > 7 years  :253      1st Qu.:2.000     1st Qu.:2.000      1st Qu.:27.00  \n",
              " 1 - 4 years:339      Median :3.000     Median :3.000      Median :33.00  \n",
              " 4 - 7 years:174      Mean   :2.973     Mean   :2.845      Mean   :35.55  \n",
              " unemployed : 62      3rd Qu.:4.000     3rd Qu.:4.000      3rd Qu.:42.00  \n",
              "                      Max.   :4.000     Max.   :4.000      Max.   :75.00  \n",
              " other_credit  housing    existing_loans_count         job        dependents   \n",
              " bank :139    other:108   Min.   :1.000        management:148   Min.   :1.000  \n",
              " none :814    own  :713   1st Qu.:1.000        skilled   :630   1st Qu.:1.000  \n",
              " store: 47    rent :179   Median :1.000        unemployed: 22   Median :1.000  \n",
              "                          Mean   :1.407        unskilled :200   Mean   :1.155  \n",
              "                          3rd Qu.:2.000                         3rd Qu.:1.000  \n",
              "                          Max.   :4.000                         Max.   :2.000  \n",
              " phone     default  \n",
              " no :596   no :700  \n",
              " yes:404   yes:300  \n",
              "                    \n",
              "                    \n",
              "                    \n",
              "                    "
            ]
          },
          "metadata": {
            "tags": []
          }
        }
      ]
    },
    {
      "cell_type": "markdown",
      "metadata": {
        "id": "XsN9W5tGVVFC",
        "colab_type": "text"
      },
      "source": [
        "#### Exploratory Data Analysis of Continuous Data\n",
        " - The amount ranged from 250 DM to 18,424 DM (this is loan amount) across months_loan_duration of 4 to 72 months with a median\n",
        "   duration of 18 months and an amount of 2,320 DM.\n",
        " - From purpose, seems most of loan application towards car (337) and furniture/appliances (473).\n",
        " - From default, there are quite a number of default (300).\n",
        " - months_loan_duration, amount and age have primary impact on default. "
      ]
    },
    {
      "cell_type": "code",
      "metadata": {
        "id": "T-ZA4GmyVVFD",
        "colab_type": "code",
        "colab": {},
        "outputId": "0d009124-25f4-44ff-ad42-f99947a20f6c"
      },
      "source": [
        "par(cex=0.7, mai=c(0.1,0.1,0.2,0.1))\n",
        "# define area for the histogram\n",
        "par(fig=c(0.1,0.7,0.3,0.9))\n",
        "hist(df$months_loan_duration, xlab = \"Duration Month\")\n",
        "# define area for the boxplot\n",
        "par(fig=c(0.8,1,0,1), new=TRUE)\n",
        "boxplot(df$months_loan_duration, main = \"Box plot_Credit Month\")"
      ],
      "execution_count": 0,
      "outputs": [
        {
          "output_type": "display_data",
          "data": {
            "image/png": "[encoded data removed]",
            "text/plain": [
              "Plot with title \"Box plot_Credit Month\""
            ]
          },
          "metadata": {
            "tags": []
          }
        }
      ]
    },
    {
      "cell_type": "code",
      "metadata": {
        "id": "gceg-72XVVFH",
        "colab_type": "code",
        "colab": {},
        "outputId": "3d3dd0f4-dfbe-4f32-d6c4-8f850707cd8e"
      },
      "source": [
        "par(cex=0.7, mai=c(0.1,0.1,0.2,0.1))\n",
        "# define area for the histogram\n",
        "par(fig=c(0.1,0.7,0.3,0.9))\n",
        "hist(df$amount)\n",
        "# define area for the boxplot\n",
        "par(fig=c(0.8,1,0,1), new=TRUE)\n",
        "boxplot(df$amount, main = \"BoxPlot_Credit amount\")\n"
      ],
      "execution_count": 0,
      "outputs": [
        {
          "output_type": "display_data",
          "data": {
            "image/png": "[encoded data removed]",
            "text/plain": [
              "Plot with title \"BoxPlot_Credit amount\""
            ]
          },
          "metadata": {
            "tags": []
          }
        }
      ]
    },
    {
      "cell_type": "code",
      "metadata": {
        "id": "yudnitWRVVFK",
        "colab_type": "code",
        "colab": {},
        "outputId": "73a2faf4-566b-4203-b54e-498ad881170b"
      },
      "source": [
        "par(cex=0.7, mai=c(0.1,0.1,0.2,0.1))\n",
        "\n",
        "par(fig=c(0.1,0.7,0.3,0.9))\n",
        "hist(df$age)\n",
        "# define area for the boxplot\n",
        "par(fig=c(0.8,1,0,1), new=TRUE)\n",
        "boxplot(df$age, main=\"Boxplot of Age\")"
      ],
      "execution_count": 0,
      "outputs": [
        {
          "output_type": "display_data",
          "data": {
            "image/png": "[encoded data removed]",
            "text/plain": [
              "Plot with title \"Boxplot of Age\""
            ]
          },
          "metadata": {
            "tags": []
          }
        }
      ]
    },
    {
      "cell_type": "markdown",
      "metadata": {
        "id": "wVDywhGcVVFO",
        "colab_type": "text"
      },
      "source": [
        " - All the three variables show marked positive skewness. Its even more clear looking at box plots.\n",
        "\n",
        "#### Exploratory Data Analysis of Categorical Data"
      ]
    },
    {
      "cell_type": "code",
      "metadata": {
        "id": "d8h7i3duVVFP",
        "colab_type": "code",
        "colab": {},
        "outputId": "2bbfecfe-4c29-447e-f5c2-ff060a53ea7c"
      },
      "source": [
        "ggplot(df, aes(checking_balance, ..count..)) + \n",
        "  geom_bar(aes(fill = credit_history), position = \"dodge\") "
      ],
      "execution_count": 0,
      "outputs": [
        {
          "output_type": "display_data",
          "data": {
            "image/png": "[encoded data removed]",
            "text/plain": [
              "plot without title"
            ]
          },
          "metadata": {
            "tags": []
          }
        }
      ]
    },
    {
      "cell_type": "markdown",
      "metadata": {
        "id": "QdJcjTTtVVFS",
        "colab_type": "text"
      },
      "source": [
        " - For checking_balance we see that, the current status of the checking balance matters as the frequency of the crtical credit\n",
        "   history is a lot in unknown category."
      ]
    },
    {
      "cell_type": "code",
      "metadata": {
        "id": "-s8dFwWPVVFS",
        "colab_type": "code",
        "colab": {},
        "outputId": "1529211c-44bc-4666-96bb-cb1c524764f0"
      },
      "source": [
        "ggplot(df, aes(checking_balance, ..count..)) + \n",
        "  geom_bar(aes(fill = default), position = \"dodge\") "
      ],
      "execution_count": 0,
      "outputs": [
        {
          "output_type": "display_data",
          "data": {
            "image/png": "[encoded data removed]",
            "text/plain": [
              "plot without title"
            ]
          },
          "metadata": {
            "tags": []
          }
        }
      ]
    },
    {
      "cell_type": "markdown",
      "metadata": {
        "id": "I1ePkZeUVVFV",
        "colab_type": "text"
      },
      "source": [
        " - Here we see that <0 checking_balance has maximum number of deualt."
      ]
    },
    {
      "cell_type": "code",
      "metadata": {
        "id": "16J6zlHYVVFX",
        "colab_type": "code",
        "colab": {},
        "outputId": "c99e5747-07ea-425e-9e24-3a12dc7b0912"
      },
      "source": [
        "ggplot(df, aes(credit_history, ..count..)) + \n",
        "  geom_bar(aes(fill = default), position = \"dodge\")"
      ],
      "execution_count": 0,
      "outputs": [
        {
          "output_type": "display_data",
          "data": {
            "image/png": "[encoded data removed]",
            "text/plain": [
              "plot without title"
            ]
          },
          "metadata": {
            "tags": []
          }
        }
      ]
    },
    {
      "cell_type": "markdown",
      "metadata": {
        "id": "E0QyD5HJVVFZ",
        "colab_type": "text"
      },
      "source": [
        " - For credit_history, we observe that proportion of the default varies significantly, for categories critical and poor, we see\n",
        "   the number of default records are greater."
      ]
    },
    {
      "cell_type": "code",
      "metadata": {
        "id": "dQ4C-cA7VVFa",
        "colab_type": "code",
        "colab": {},
        "outputId": "c5dd016d-a4d6-448f-9b0d-8e8fd4093d04"
      },
      "source": [
        "ggplot(df, aes(purpose, ..count..)) + \n",
        "  geom_bar(aes(fill = default), position = \"dodge\") "
      ],
      "execution_count": 0,
      "outputs": [
        {
          "output_type": "display_data",
          "data": {
            "image/png": "[encoded data removed]",
            "text/plain": [
              "plot without title"
            ]
          },
          "metadata": {
            "tags": []
          }
        }
      ]
    },
    {
      "cell_type": "markdown",
      "metadata": {
        "id": "Gk3pomw6VVFc",
        "colab_type": "text"
      },
      "source": [
        " - We already have seen that many are buying car and furniture/appliances. We see here, that the proportion of default varies."
      ]
    },
    {
      "cell_type": "code",
      "metadata": {
        "id": "wJGfTCygVVFc",
        "colab_type": "code",
        "colab": {},
        "outputId": "334e468a-975f-4835-a5e2-7667158d93b2"
      },
      "source": [
        "ggplot(df, aes(savings_balance, ..count..)) + \n",
        "  geom_bar(aes(fill = default), position = \"dodge\") "
      ],
      "execution_count": 0,
      "outputs": [
        {
          "output_type": "display_data",
          "data": {
            "image/png": "[encoded data removed]",
            "text/plain": [
              "plot without title"
            ]
          },
          "metadata": {
            "tags": []
          }
        }
      ]
    },
    {
      "cell_type": "code",
      "metadata": {
        "id": "0pog-btoVVFe",
        "colab_type": "code",
        "colab": {},
        "outputId": "07f78ad3-d2fc-4607-d19a-baec959de796"
      },
      "source": [
        "ggplot(df, aes(job, ..count..)) + \n",
        "  geom_bar(aes(fill = default), position = \"dodge\") "
      ],
      "execution_count": 0,
      "outputs": [
        {
          "output_type": "display_data",
          "data": {
            "image/png": "[encoded data removed]",
            "text/plain": [
              "plot without title"
            ]
          },
          "metadata": {
            "tags": []
          }
        }
      ]
    },
    {
      "cell_type": "code",
      "metadata": {
        "scrolled": true,
        "id": "Tbc6IflxVVFg",
        "colab_type": "code",
        "colab": {},
        "outputId": "29a1e18a-d07e-467d-d036-0f8c5a812f39"
      },
      "source": [
        "ggplot(df, aes(housing, ..count..)) + \n",
        "  geom_bar(aes(fill = default), position = \"dodge\") "
      ],
      "execution_count": 0,
      "outputs": [
        {
          "output_type": "display_data",
          "data": {
            "image/png": "[encoded data removed]",
            "text/plain": [
              "plot without title"
            ]
          },
          "metadata": {
            "tags": []
          }
        }
      ]
    },
    {
      "cell_type": "code",
      "metadata": {
        "id": "IixSzvrhVVFi",
        "colab_type": "code",
        "colab": {},
        "outputId": "4d5425b7-1ef4-4295-ced0-e80730514942"
      },
      "source": [
        "library(lattice)\n",
        "xyplot(amount ~ age|purpose, df, grid = TRUE, \n",
        "       group = credit_history,auto.key = list(points = FALSE, rectangles = TRUE, \n",
        "                                             space = \"right\"),main=\"Age vs credit amount for various purposes\")\n",
        "\n"
      ],
      "execution_count": 0,
      "outputs": [
        {
          "output_type": "display_data",
          "data": {
            "image/png": "[encoded data removed]",
            "text/plain": [
              "plot without title"
            ]
          },
          "metadata": {
            "tags": []
          }
        }
      ]
    },
    {
      "cell_type": "code",
      "metadata": {
        "id": "RgKeXS9OVVFk",
        "colab_type": "code",
        "colab": {},
        "outputId": "648ce1b6-696d-4d52-c81b-f231a6891bb1"
      },
      "source": [
        "xyplot(amount ~ age|job, df, grid = TRUE, \n",
        "       group = credit_history,auto.key = list(points = FALSE, rectangles = TRUE, space = \"right\"),\n",
        "       main=\"Job vs credit amount\")"
      ],
      "execution_count": 0,
      "outputs": [
        {
          "output_type": "display_data",
          "data": {
            "image/png": "[encoded data removed]",
            "text/plain": [
              "plot without title"
            ]
          },
          "metadata": {
            "tags": []
          }
        }
      ]
    },
    {
      "cell_type": "markdown",
      "metadata": {
        "id": "NYWtVBz8VVFm",
        "colab_type": "text"
      },
      "source": [
        "##### Split data into train & test set\n",
        "Out of the 1000 observations, 900 were permuated and stored in a train_sample object. This object contains a vector of 900 elements which numbers are randomized out of the possibilities of 1000 numbers. I have sued 90/10 split, where 900 store in 'train' as the train dataset. The remaining 100 observations stre in a 'test' as a test dataset."
      ]
    },
    {
      "cell_type": "code",
      "metadata": {
        "id": "7Q7Akxk-VVFm",
        "colab_type": "code",
        "colab": {}
      },
      "source": [
        "set.seed(123)\n",
        "train_sample = sample(1000, 900)"
      ],
      "execution_count": 0,
      "outputs": []
    },
    {
      "cell_type": "code",
      "metadata": {
        "id": "CcpZlFUbVVFo",
        "colab_type": "code",
        "colab": {},
        "outputId": "1252472a-8cfb-4bf6-ee5f-8899c07a8b8a"
      },
      "source": [
        "glimpse(train_sample)"
      ],
      "execution_count": 0,
      "outputs": [
        {
          "output_type": "stream",
          "text": [
            " int [1:900] 415 463 179 526 195 938 818 118 299 229 ...\n"
          ],
          "name": "stdout"
        }
      ]
    },
    {
      "cell_type": "markdown",
      "metadata": {
        "id": "gaUtKBNqVVFq",
        "colab_type": "text"
      },
      "source": [
        " - As expected, the resulting train_sample object is a vector of 900 random integers"
      ]
    },
    {
      "cell_type": "code",
      "metadata": {
        "id": "ayPMjAytVVFr",
        "colab_type": "code",
        "colab": {}
      },
      "source": [
        "train = df[train_sample, ]\n",
        "test  = df[-train_sample, ]"
      ],
      "execution_count": 0,
      "outputs": []
    },
    {
      "cell_type": "code",
      "metadata": {
        "id": "MY6CCFZ0VVFs",
        "colab_type": "code",
        "colab": {},
        "outputId": "f4404b8c-48d2-4002-8db7-f2c489d5c650"
      },
      "source": [
        "prop.table(table(train$default))"
      ],
      "execution_count": 0,
      "outputs": [
        {
          "output_type": "display_data",
          "data": {
            "text/plain": [
              "\n",
              "       no       yes \n",
              "0.7055556 0.2944444 "
            ]
          },
          "metadata": {
            "tags": []
          }
        }
      ]
    },
    {
      "cell_type": "code",
      "metadata": {
        "id": "5RhAsZxtVVFv",
        "colab_type": "code",
        "colab": {},
        "outputId": "ecb9e11b-6356-4292-9f8b-cc1ddbd6e373"
      },
      "source": [
        "prop.table(table(test$default))"
      ],
      "execution_count": 0,
      "outputs": [
        {
          "output_type": "display_data",
          "data": {
            "text/plain": [
              "\n",
              "  no  yes \n",
              "0.65 0.35 "
            ]
          },
          "metadata": {
            "tags": []
          }
        }
      ]
    },
    {
      "cell_type": "markdown",
      "metadata": {
        "id": "eBtCt-CqVVFx",
        "colab_type": "text"
      },
      "source": [
        "This appears a fairly even split, so we can now build our decision tree. \n",
        "### Training a model on train set"
      ]
    },
    {
      "cell_type": "code",
      "metadata": {
        "id": "3OOyz_zHVVFx",
        "colab_type": "code",
        "colab": {},
        "outputId": "c3cee22d-29a5-46c0-f36e-9283536e522c"
      },
      "source": [
        "install.packages('C50')"
      ],
      "execution_count": 0,
      "outputs": [
        {
          "output_type": "stream",
          "text": [
            "package 'C50' successfully unpacked and MD5 sums checked\n",
            "\n",
            "The downloaded binary packages are in\n",
            "\tC:\\Users\\Sarit\\AppData\\Local\\Temp\\RtmpM1UrMh\\downloaded_packages\n"
          ],
          "name": "stdout"
        }
      ]
    },
    {
      "cell_type": "code",
      "metadata": {
        "id": "oISN0YeMVVFz",
        "colab_type": "code",
        "colab": {},
        "outputId": "b8942635-963c-460a-cf73-d7d5d0f2e523"
      },
      "source": [
        "library('C50')"
      ],
      "execution_count": 0,
      "outputs": [
        {
          "output_type": "stream",
          "text": [
            "Warning message:\n",
            "\"package 'C50' was built under R version 3.6.1\""
          ],
          "name": "stderr"
        }
      ]
    },
    {
      "cell_type": "markdown",
      "metadata": {
        "id": "IaOTwjjlVVF1",
        "colab_type": "text"
      },
      "source": [
        "### Classification tree model\n",
        "Pre-pruning a decision tree before letting the tree grow to an optimal size could miss important patterns. The purpose of a decision tree is to learn the data in depth and pre-pruning would decrease those chances. I have used post-prune to allow the decision tree to maximize the depth of the decision tree. This will allow the algorithm to have all of the important data."
      ]
    },
    {
      "cell_type": "code",
      "metadata": {
        "id": "2ZMyTdfdVVF2",
        "colab_type": "code",
        "colab": {},
        "outputId": "99841a97-9099-49d4-f913-83afbf10991a"
      },
      "source": [
        "DT = C5.0(default ~ checking_balance + months_loan_duration+credit_history+\n",
        "                              purpose+amount+savings_balance+employment_duration+percent_of_income+\n",
        "                              years_at_residence+age+other_credit+housing+existing_loans_count+job+dependents+phone, \n",
        "           data = train)\n",
        "# View the forest results.\n",
        "print(DT) "
      ],
      "execution_count": 0,
      "outputs": [
        {
          "output_type": "stream",
          "text": [
            "\n",
            "Call:\n",
            "C5.0.formula(formula = default ~ checking_balance + months_loan_duration\n",
            " + percent_of_income + years_at_residence + age + other_credit + housing\n",
            " + existing_loans_count + job + dependents + phone, data = train)\n",
            "\n",
            "Classification Tree\n",
            "Number of samples: 900 \n",
            "Number of predictors: 16 \n",
            "\n",
            "Tree size: 69 \n",
            "\n",
            "Non-standard options: attempt to group attributes\n",
            "\n"
          ],
          "name": "stdout"
        }
      ]
    },
    {
      "cell_type": "code",
      "metadata": {
        "id": "e8rW-T9WVVF3",
        "colab_type": "code",
        "colab": {},
        "outputId": "3f1e55ac-e848-4301-a704-f14db8158228"
      },
      "source": [
        "summary(DT)"
      ],
      "execution_count": 0,
      "outputs": [
        {
          "output_type": "display_data",
          "data": {
            "text/plain": [
              "\n",
              "Call:\n",
              "C5.0.formula(formula = default ~ checking_balance + months_loan_duration\n",
              " + percent_of_income + years_at_residence + age + other_credit + housing\n",
              " + existing_loans_count + job + dependents + phone, data = train)\n",
              "\n",
              "\n",
              "C5.0 [Release 2.07 GPL Edition]  \tTue Aug 06 12:42:22 2019\n",
              "-------------------------------\n",
              "\n",
              "Class specified by attribute `outcome'\n",
              "\n",
              "Read 900 cases (17 attributes) from undefined.data\n",
              "\n",
              "Decision tree:\n",
              "\n",
              "checking_balance in {> 200 DM,unknown}: no (412/54)\n",
              "checking_balance in {< 0 DM,1 - 200 DM}:\n",
              ":...credit_history in {perfect,very good}:\n",
              "    :...housing = rent: yes (16/1)\n",
              "    :   housing = other:\n",
              "    :   :...employment_duration in {> 7 years,1 - 4 years,\n",
              "    :   :   :                       4 - 7 years}: yes (10)\n",
              "    :   :   employment_duration in {< 1 year,unemployed}:\n",
              "    :   :   :...job in {management,unemployed,unskilled}: no (3)\n",
              "    :   :       job = skilled: yes (1)\n",
              "    :   housing = own:\n",
              "    :   :...purpose in {business,education}: no (9/2)\n",
              "    :       purpose in {car0,renovations}: yes (3)\n",
              "    :       purpose = car:\n",
              "    :       :...months_loan_duration <= 18: yes (5)\n",
              "    :       :   months_loan_duration > 18:\n",
              "    :       :   :...job in {management,skilled,unemployed}: no (3)\n",
              "    :       :       job = unskilled: yes (1)\n",
              "    :       purpose = furniture/appliances:\n",
              "    :       :...other_credit = store: no (4)\n",
              "    :           other_credit in {bank,none}:\n",
              "    :           :...existing_loans_count <= 1: yes (6)\n",
              "    :               existing_loans_count > 1: no (2)\n",
              "    credit_history in {critical,good,poor}:\n",
              "    :...months_loan_duration <= 15:\n",
              "        :...purpose in {business,car0}: no (10)\n",
              "        :   purpose = education:\n",
              "        :   :...savings_balance in {< 100 DM,> 1000 DM,100 - 500 DM,\n",
              "        :   :   :                   500 - 1000 DM}: yes (7/1)\n",
              "        :   :   savings_balance = unknown: no (3)\n",
              "        :   purpose = furniture/appliances:\n",
              "        :   :...savings_balance in {< 100 DM,> 1000 DM,500 - 1000 DM,\n",
              "        :   :   :                   unknown}: no (88/14)\n",
              "        :   :   savings_balance = 100 - 500 DM: yes (3)\n",
              "        :   purpose = renovations:\n",
              "        :   :...other_credit in {bank,none}: no (5/1)\n",
              "        :   :   other_credit = store: yes (1)\n",
              "        :   purpose = car:\n",
              "        :   :...credit_history in {critical,poor}: no (27/4)\n",
              "        :       credit_history = good:\n",
              "        :       :...existing_loans_count > 1: yes (2)\n",
              "        :           existing_loans_count <= 1:\n",
              "        :           :...savings_balance in {> 1000 DM,100 - 500 DM,\n",
              "        :               :                   500 - 1000 DM}: no (6/1)\n",
              "        :               savings_balance = unknown:\n",
              "        :               :...age <= 23: yes (2)\n",
              "        :               :   age > 23: no (5)\n",
              "        :               savings_balance = < 100 DM:\n",
              "        :               :...years_at_residence <= 3:\n",
              "        :                   :...percent_of_income <= 2: no (3/1)\n",
              "        :                   :   percent_of_income > 2: yes (7)\n",
              "        :                   years_at_residence > 3:\n",
              "        :                   :...employment_duration in {< 1 year,1 - 4 years,\n",
              "        :                       :                       4 - 7 years,\n",
              "        :                       :                       unemployed}: no (8)\n",
              "        :                       employment_duration = > 7 years: yes (3)\n",
              "        months_loan_duration > 15:\n",
              "        :...savings_balance in {> 1000 DM,unknown}:\n",
              "            :...credit_history in {critical,poor}: no (14)\n",
              "            :   credit_history = good:\n",
              "            :   :...amount > 6110:\n",
              "            :       :...checking_balance = < 0 DM: yes (3)\n",
              "            :       :   checking_balance = 1 - 200 DM:\n",
              "            :       :   :...amount <= 9629: no (2)\n",
              "            :       :       amount > 9629: yes (2)\n",
              "            :       amount <= 6110:\n",
              "            :       :...phone = yes: no (11)\n",
              "            :           phone = no:\n",
              "            :           :...savings_balance = > 1000 DM: no (2)\n",
              "            :               savings_balance = unknown:\n",
              "            :               :...months_loan_duration <= 27: yes (9/2)\n",
              "            :                   months_loan_duration > 27: no (3)\n",
              "            savings_balance in {< 100 DM,100 - 500 DM,500 - 1000 DM}:\n",
              "            :...months_loan_duration > 47: yes (23/3)\n",
              "                months_loan_duration <= 47:\n",
              "                :...employment_duration = unemployed:\n",
              "                    :...years_at_residence <= 2: yes (7)\n",
              "                    :   years_at_residence > 2: no (12/2)\n",
              "                    employment_duration = < 1 year:\n",
              "                    :...years_at_residence <= 1:\n",
              "                    :   :...housing in {other,own}: no (14/4)\n",
              "                    :   :   housing = rent: yes (2)\n",
              "                    :   years_at_residence > 1:\n",
              "                    :   :...job in {management,unemployed,\n",
              "                    :       :       unskilled}: yes (11/1)\n",
              "                    :       job = skilled:\n",
              "                    :       :...percent_of_income <= 2: no (4)\n",
              "                    :           percent_of_income > 2: yes (12/1)\n",
              "                    employment_duration = > 7 years:\n",
              "                    :...other_credit = store: no (2)\n",
              "                    :   other_credit = bank:\n",
              "                    :   :...job in {management,unskilled}: no (4/1)\n",
              "                    :   :   job in {skilled,unemployed}: yes (6)\n",
              "                    :   other_credit = none:\n",
              "                    :   :...purpose = business: yes (2)\n",
              "                    :       purpose in {car0,education,\n",
              "                    :       :           renovations}: no (1)\n",
              "                    :       purpose = furniture/appliances:\n",
              "                    :       :...job = management: yes (2)\n",
              "                    :       :   job in {skilled,unemployed,unskilled}: no (9)\n",
              "                    :       purpose = car:\n",
              "                    :       :...amount <= 6999: no (7/1)\n",
              "                    :           amount > 6999: [S1]\n",
              "                    employment_duration = 1 - 4 years:\n",
              "                    :...purpose in {business,car0}: no (5/2)\n",
              "                    :   purpose in {education,renovations}: yes (4)\n",
              "                    :   purpose = car:\n",
              "                    :   :...phone = yes: no (6)\n",
              "                    :   :   phone = no:\n",
              "                    :   :   :...checking_balance = < 0 DM: yes (4)\n",
              "                    :   :       checking_balance = 1 - 200 DM: no (3/1)\n",
              "                    :   purpose = furniture/appliances:\n",
              "                    :   :...savings_balance in {100 - 500 DM,\n",
              "                    :       :                   500 - 1000 DM}: yes (6)\n",
              "                    :       savings_balance = < 100 DM:\n",
              "                    :       :...months_loan_duration <= 22: yes (12/1)\n",
              "                    :           months_loan_duration > 22:\n",
              "                    :           :...amount <= 2325: yes (3)\n",
              "                    :               amount > 2325: no (6)\n",
              "                    employment_duration = 4 - 7 years:\n",
              "                    :...savings_balance in {100 - 500 DM,\n",
              "                        :                   500 - 1000 DM}: no (8)\n",
              "                        savings_balance = < 100 DM:\n",
              "                        :...job in {management,unemployed,\n",
              "                            :       unskilled}: no (6)\n",
              "                            job = skilled:\n",
              "                            :...dependents > 1: no (3/1)\n",
              "                                dependents <= 1:\n",
              "                                :...months_loan_duration <= 22: no (3)\n",
              "                                    months_loan_duration > 22: yes (8)\n",
              "\n",
              "SubTree [S1]\n",
              "\n",
              "checking_balance = < 0 DM: no (1)\n",
              "checking_balance = 1 - 200 DM: yes (3)\n",
              "\n",
              "\n",
              "Evaluation on training data (900 cases):\n",
              "\n",
              "\t    Decision Tree   \n",
              "\t  ----------------  \n",
              "\t  Size      Errors  \n",
              "\n",
              "\t    69   99(11.0%)   <<\n",
              "\n",
              "\n",
              "\t   (a)   (b)    <-classified as\n",
              "\t  ----  ----\n",
              "\t   625    10    (a): class no\n",
              "\t    89   176    (b): class yes\n",
              "\n",
              "\n",
              "\tAttribute usage:\n",
              "\n",
              "\t100.00%\tchecking_balance\n",
              "\t 54.22%\tcredit_history\n",
              "\t 48.22%\tmonths_loan_duration\n",
              "\t 42.22%\tsavings_balance\n",
              "\t 31.89%\tpurpose\n",
              "\t 22.33%\temployment_duration\n",
              "\t  9.22%\tyears_at_residence\n",
              "\t  8.78%\thousing\n",
              "\t  8.44%\tjob\n",
              "\t  6.11%\tother_credit\n",
              "\t  5.78%\tamount\n",
              "\t  4.89%\texisting_loans_count\n",
              "\t  4.22%\tphone\n",
              "\t  2.89%\tpercent_of_income\n",
              "\t  1.56%\tdependents\n",
              "\t  0.78%\tage\n",
              "\n",
              "\n",
              "Time: 0.0 secs\n"
            ]
          },
          "metadata": {
            "tags": []
          }
        }
      ]
    },
    {
      "cell_type": "markdown",
      "metadata": {
        "id": "AYD4wQz4VVF5",
        "colab_type": "text"
      },
      "source": [
        " - If the checking account balance is unknown or > 200 DM, then classify as “not likely to default.” Otherwise, if the checking \n",
        "   account balance is <0 or between 1 - 200 DM. And the credit history is perfect or very good, then classify as “likely to \n",
        "   default.”\n",
        " - The numbers in parentheses indicate the number of examples meeting the criteria for that decision, and the number\n",
        "   incorrectly classified by the decision. For instance, on the first line, 412/54 indicates that of the 412 examples reaching    the decision, 54 were incorrectly classified as not likely to default. In other words, 54 applicants actually defaulted, in \n",
        "   spite of the model’s prediction to the contrary.\n",
        "\n",
        "Sometimes a tree results in decisions that make little logical sense. For example, why would an applicant whose credit history is very good be likely to default, while those whose checking balance is unknown are not likely to default? Contradictory rules like this occur sometimes. They might reflect a real pattern in the data, or they may be a statistical anomaly. In either case, it is important to investigate such strange decisions to see whether the tree’s logic makes sense for business use.\n",
        "\n",
        "##### Model performance \n",
        "The Errors output notes that the model correctly classified all but 99 of the 900 training instances for an error rate of 11%. A total of 10 actual no values were incorrectly classified as yes (false positives), while 89 yes values were misclassified as no (false negatives).\n",
        "\n",
        "Decision trees are known for having a tendency to overfit the model to the training data. For this reason, the error rate reported on training data may be overly optimistic, and it is especially important to evaluate decision trees on a test data set."
      ]
    },
    {
      "cell_type": "code",
      "metadata": {
        "id": "H_xM43IPVVF6",
        "colab_type": "code",
        "colab": {},
        "outputId": "6ea81daf-44bf-4e27-81ed-7b8474f82d27"
      },
      "source": [
        "library(gmodels)\n"
      ],
      "execution_count": 0,
      "outputs": [
        {
          "output_type": "stream",
          "text": [
            "Warning message:\n",
            "\"package 'gmodels' was built under R version 3.6.1\""
          ],
          "name": "stderr"
        }
      ]
    },
    {
      "cell_type": "code",
      "metadata": {
        "id": "PLqeZPImVVF9",
        "colab_type": "code",
        "colab": {},
        "outputId": "9513621a-054a-4493-af10-7d6283274115"
      },
      "source": [
        "pred = predict(DT, test)\n",
        "CrossTable(test$default, pred,\n",
        "             prop.chisq = FALSE, prop.c = FALSE, prop.r = FALSE,\n",
        "             dnn = c('actual default', 'predicted default'))"
      ],
      "execution_count": 0,
      "outputs": [
        {
          "output_type": "stream",
          "text": [
            "\n",
            " \n",
            "   Cell Contents\n",
            "|-------------------------|\n",
            "|                       N |\n",
            "|         N / Table Total |\n",
            "|-------------------------|\n",
            "\n",
            " \n",
            "Total Observations in Table:  100 \n",
            "\n",
            " \n",
            "               | predicted default \n",
            "actual default |        no |       yes | Row Total | \n",
            "---------------|-----------|-----------|-----------|\n",
            "            no |        55 |        10 |        65 | \n",
            "               |     0.550 |     0.100 |           | \n",
            "---------------|-----------|-----------|-----------|\n",
            "           yes |        20 |        15 |        35 | \n",
            "               |     0.200 |     0.150 |           | \n",
            "---------------|-----------|-----------|-----------|\n",
            "  Column Total |        75 |        25 |       100 | \n",
            "---------------|-----------|-----------|-----------|\n",
            "\n",
            " \n"
          ],
          "name": "stdout"
        }
      ]
    },
    {
      "cell_type": "markdown",
      "metadata": {
        "id": "x85o0WvUVVGC",
        "colab_type": "text"
      },
      "source": [
        "##### We have 55 TNs (True Negatives) and 15 TPs (True Positives) out of 100 rows.\n",
        "#### Evaluation DT"
      ]
    },
    {
      "cell_type": "code",
      "metadata": {
        "id": "urQidKRNVVGC",
        "colab_type": "code",
        "colab": {},
        "outputId": "795f0477-ab3e-4a17-dfff-007a62b05a25"
      },
      "source": [
        "confusionMatrix(pred, test$default, dnn = c(\"Predicted\", \"Actual\"))"
      ],
      "execution_count": 0,
      "outputs": [
        {
          "output_type": "display_data",
          "data": {
            "text/plain": [
              "Confusion Matrix and Statistics\n",
              "\n",
              "         Actual\n",
              "Predicted no yes\n",
              "      no  55  20\n",
              "      yes 10  15\n",
              "                                          \n",
              "               Accuracy : 0.7             \n",
              "                 95% CI : (0.6002, 0.7876)\n",
              "    No Information Rate : 0.65            \n",
              "    P-Value [Acc > NIR] : 0.1730          \n",
              "                                          \n",
              "                  Kappa : 0.2941          \n",
              "                                          \n",
              " Mcnemar's Test P-Value : 0.1003          \n",
              "                                          \n",
              "            Sensitivity : 0.8462          \n",
              "            Specificity : 0.4286          \n",
              "         Pos Pred Value : 0.7333          \n",
              "         Neg Pred Value : 0.6000          \n",
              "             Prevalence : 0.6500          \n",
              "         Detection Rate : 0.5500          \n",
              "   Detection Prevalence : 0.7500          \n",
              "      Balanced Accuracy : 0.6374          \n",
              "                                          \n",
              "       'Positive' Class : no              \n",
              "                                          "
            ]
          },
          "metadata": {
            "tags": []
          }
        }
      ]
    },
    {
      "cell_type": "markdown",
      "metadata": {
        "id": "fk_IC0emVVGE",
        "colab_type": "text"
      },
      "source": [
        "The table indicates that out of 100 records in the test set 55 defaults were mis-classified i.e type II error with error rate 30%; also the model only correctly predicted 15 of the 35 actual loan defaults in the test data, (15/35= 42.85% (type1 error)). This type of error is a potentially very costly mistake, as the bank loses money on each default. We missed 10 defaults, which can be costly. \n",
        "\n",
        "### Decision Tree Includes Default and Age\n",
        "This age gap shows major underlying issues of defaulting because of the age groups. This could be for a variety of reasons such as not having financial responsibility or stable employment. "
      ]
    },
    {
      "cell_type": "code",
      "metadata": {
        "id": "QaOSWxl8VVGE",
        "colab_type": "code",
        "colab": {},
        "outputId": "246ea98e-c88c-4612-e242-024c9fcf4b87"
      },
      "source": [
        "library(partykit)"
      ],
      "execution_count": 0,
      "outputs": [
        {
          "output_type": "stream",
          "text": [
            "Warning message:\n",
            "\"package 'partykit' was built under R version 3.6.1\"Loading required package: libcoin\n",
            "Warning message:\n",
            "\"package 'libcoin' was built under R version 3.6.1\"Loading required package: mvtnorm\n"
          ],
          "name": "stderr"
        }
      ]
    },
    {
      "cell_type": "code",
      "metadata": {
        "id": "XOyUeJHVVVGI",
        "colab_type": "code",
        "colab": {}
      },
      "source": [
        "#credit_train = df[train_sample, ]\n",
        "ctree_age = ctree(default ~ age, data = train )"
      ],
      "execution_count": 0,
      "outputs": []
    },
    {
      "cell_type": "code",
      "metadata": {
        "id": "1D-eUHpKVVGL",
        "colab_type": "code",
        "colab": {},
        "outputId": "cc49cafe-809e-46af-c2f2-e17bbb367119"
      },
      "source": [
        "plot(ctree_age)"
      ],
      "execution_count": 0,
      "outputs": [
        {
          "output_type": "display_data",
          "data": {
            "image/png": "[encoded data removed]",
            "text/plain": [
              "plot without title"
            ]
          },
          "metadata": {
            "tags": []
          }
        }
      ]
    },
    {
      "cell_type": "markdown",
      "metadata": {
        "id": "iZHpa8rDVVGN",
        "colab_type": "text"
      },
      "source": [
        "##### Total percentage breakdown:\n",
        " - Node 2 – 168 applicants * 0.39 = 66 defaults\n",
        " - Node 3 – 732 applicants * 0.25 = 183 defaults\n",
        " \n",
        "Based on the decision tree, there are 168 applicants <25 years-old but account about 39% of defaults. However, there are 732 applicants >25 years-old and account for about 25% of this age category. \n",
        "\n",
        "#### Decision Tree Includes Employment Duration\n",
        "If instability to keep a job is a factor, adding the employment_duration to the decision tree will show how the age groups ranks. "
      ]
    },
    {
      "cell_type": "code",
      "metadata": {
        "scrolled": true,
        "id": "34HQ1Ow6VVGO",
        "colab_type": "code",
        "colab": {},
        "outputId": "e470a737-aa2f-4fd9-c8bc-75672a406496"
      },
      "source": [
        "ctree_job = ctree(default ~ employment_duration, data = train )\n",
        "plot(ctree_job)"
      ],
      "execution_count": 0,
      "outputs": [
        {
          "output_type": "display_data",
          "data": {
            "image/png": "[encoded data removed]",
            "text/plain": [
              "plot without title"
            ]
          },
          "metadata": {
            "tags": []
          }
        }
      ]
    },
    {
      "cell_type": "markdown",
      "metadata": {
        "id": "TcXCdQsIVVGQ",
        "colab_type": "text"
      },
      "source": [
        "As we can see, node 2 has an employment duration of less than a year and unknown shows a total of 521 applicants with 38% default. On node 3, there are a total of 379 applicants. Their employment duration is greater than 7 years, 4-7 years and 1-4 years with 22% default.\n",
        "\n",
        "##### Total percentage breakdown\n",
        "\n",
        " - Node 2 – 521 applicants * 0.38 = 198 defaults\n",
        " - Node 3 – 379 applicants * 0.22 = 83 defaults\n",
        "\n",
        "From the above analysis, there’s a larger default percentage with employment duration versus the age. Logically loss of employment is the biggest factor for payment default.\n",
        "\n",
        "#### Decision Tree Includes Savings Balance\n",
        "The biggest personal concern for me with a large loan such as a mortgage is to think of the worst."
      ]
    },
    {
      "cell_type": "code",
      "metadata": {
        "id": "BQr4ZEqAVVGR",
        "colab_type": "code",
        "colab": {},
        "outputId": "470e794f-cf63-4e0e-846c-f9e9b81eb617"
      },
      "source": [
        "ctree_savings <- ctree(default ~ savings_balance, data = train )\n",
        "plot(ctree_savings)"
      ],
      "execution_count": 0,
      "outputs": [
        {
          "output_type": "display_data",
          "data": {
            "image/png": "[encoded data removed]",
            "text/plain": [
              "plot without title"
            ]
          },
          "metadata": {
            "tags": []
          }
        }
      ]
    },
    {
      "cell_type": "markdown",
      "metadata": {
        "id": "J7BOFbyuVVGS",
        "colab_type": "text"
      },
      "source": [
        "The above decision tree based on savings, this shows a great difference between having a large sum of savings saved up. There are two nodes broken up between > 100 upto < 1000 in savings. Node three is broken into less than 500 -1000 in savings.\n",
        "\n",
        "#### Total percentage breakdown\n",
        "\n",
        " - Node 2 – 639 applicants * 0.38 defaults = 243 defaults\n",
        " - Node 3 – 261 applicants * 0.18 defaults = 47 defaults\n",
        "\n",
        "### Decision Tree Includes Multiple Factors"
      ]
    },
    {
      "cell_type": "code",
      "metadata": {
        "id": "0GuZnESFVVGS",
        "colab_type": "code",
        "colab": {},
        "outputId": "0ba133e2-f5fb-4c01-a5b1-d32aea471c5f"
      },
      "source": [
        "output_tree = ctree(default ~ checking_balance + other_credit + months_loan_duration + credit_history + \n",
        "                                         savings_balance, data = train)\n",
        "plot(output_tree, gp = gpar(fontsize = 6),    \n",
        "  inner_panel=node_inner,\n",
        "  ip_args=list(id = FALSE)\n",
        "  )"
      ],
      "execution_count": 0,
      "outputs": [
        {
          "output_type": "display_data",
          "data": {
            "image/png": "[encoded data removed]",
            "text/plain": [
              "plot without title"
            ]
          },
          "metadata": {
            "tags": []
          }
        }
      ]
    },
    {
      "cell_type": "code",
      "metadata": {
        "id": "XrYD030yVVGU",
        "colab_type": "code",
        "colab": {},
        "outputId": "087299f8-b6fd-44b1-986c-41dcdcd6b492"
      },
      "source": [
        "output_tree"
      ],
      "execution_count": 0,
      "outputs": [
        {
          "output_type": "display_data",
          "data": {
            "text/plain": [
              "\n",
              "Model formula:\n",
              "default ~ checking_balance + other_credit + months_loan_duration + \n",
              "    credit_history + savings_balance\n",
              "\n",
              "Fitted party:\n",
              "[1] root\n",
              "|   [2] checking_balance < 0 DM, 1 - 200 DM\n",
              "|   |   [3] months_loan_duration <= 21\n",
              "|   |   |   [4] credit_history in critical, good, poor\n",
              "|   |   |   |   [5] months_loan_duration <= 11: no (n = 76, err = 17.1%)\n",
              "|   |   |   |   [6] months_loan_duration > 11\n",
              "|   |   |   |   |   [7] checking_balance < 0 DM: no (n = 90, err = 44.4%)\n",
              "|   |   |   |   |   [8] checking_balance in 1 - 200 DM: no (n = 87, err = 25.3%)\n",
              "|   |   |   [9] credit_history in perfect, very good: yes (n = 27, err = 25.9%)\n",
              "|   |   [10] months_loan_duration > 21\n",
              "|   |   |   [11] savings_balance < 100 DM, 100 - 500 DM, 500 - 1000 DM\n",
              "|   |   |   |   [12] months_loan_duration <= 47: yes (n = 139, err = 43.9%)\n",
              "|   |   |   |   [13] months_loan_duration > 47: yes (n = 33, err = 15.2%)\n",
              "|   |   |   [14] savings_balance > 1000 DM, unknown\n",
              "|   |   |   |   [15] checking_balance < 0 DM: yes (n = 14, err = 42.9%)\n",
              "|   |   |   |   [16] checking_balance in 1 - 200 DM: no (n = 22, err = 9.1%)\n",
              "|   [17] checking_balance > 200 DM, unknown\n",
              "|   |   [18] other_credit in bank, store: no (n = 72, err = 29.2%)\n",
              "|   |   [19] other_credit in none\n",
              "|   |   |   [20] checking_balance > 200 DM: no (n = 47, err = 21.3%)\n",
              "|   |   |   [21] checking_balance in unknown\n",
              "|   |   |   |   [22] credit_history in critical, perfect, very good: no (n = 123, err = 1.6%)\n",
              "|   |   |   |   [23] credit_history in good, poor: no (n = 170, err = 12.4%)\n",
              "\n",
              "Number of inner nodes:    11\n",
              "Number of terminal nodes: 12"
            ]
          },
          "metadata": {
            "tags": []
          }
        }
      ]
    },
    {
      "cell_type": "markdown",
      "metadata": {
        "id": "iv1owkzsVVGV",
        "colab_type": "text"
      },
      "source": [
        "As we can see in the above plot, the data is split into 23 nodes and 12 terminal nodes. \n",
        "### Improving model performance\n",
        "The model’s error rate is too high for deployment in a real-time credit scoring application. \n",
        "\n",
        "## Adaptive Boosting\n",
        "Trials over numerous datasets, large and small, show that 10-classifier boosting on average reduces the number of errors on test cases by about 25%."
      ]
    },
    {
      "cell_type": "code",
      "metadata": {
        "id": "-PM7U7NwVVGW",
        "colab_type": "code",
        "colab": {},
        "outputId": "5f24b596-a6bf-43c0-9f7a-78b02798f80d"
      },
      "source": [
        "DTboost = C5.0(train[-17], train$default, trials = 10)\n",
        "DTboost"
      ],
      "execution_count": 0,
      "outputs": [
        {
          "output_type": "display_data",
          "data": {
            "text/plain": [
              "\n",
              "Call:\n",
              "C5.0.default(x = train[-17], y = train$default, trials = 10)\n",
              "\n",
              "Classification Tree\n",
              "Number of samples: 900 \n",
              "Number of predictors: 16 \n",
              "\n",
              "Number of boosting iterations: 10 \n",
              "Average tree size: 56.6 \n",
              "\n",
              "Non-standard options: attempt to group attributes\n"
            ]
          },
          "metadata": {
            "tags": []
          }
        }
      ]
    },
    {
      "cell_type": "markdown",
      "metadata": {
        "id": "xCiJWq6MVVGX",
        "colab_type": "text"
      },
      "source": [
        " - Across the 10 iterations, the tree size shrunk. \n",
        " - Some additional lines have been added, reflecting the changes."
      ]
    },
    {
      "cell_type": "code",
      "metadata": {
        "id": "LbbvggjfVVGY",
        "colab_type": "code",
        "colab": {},
        "outputId": "419d8a4b-74cf-4cf6-cebc-ed67c02a5cbc"
      },
      "source": [
        "summary(DTboost) # model’s performance on the training data:"
      ],
      "execution_count": 0,
      "outputs": [
        {
          "output_type": "display_data",
          "data": {
            "text/plain": [
              "\n",
              "Call:\n",
              "C5.0.default(x = train[-17], y = train$default, trials = 10)\n",
              "\n",
              "\n",
              "C5.0 [Release 2.07 GPL Edition]  \tTue Aug 06 16:08:41 2019\n",
              "-------------------------------\n",
              "\n",
              "Class specified by attribute `outcome'\n",
              "\n",
              "Read 900 cases (17 attributes) from undefined.data\n",
              "\n",
              "-----  Trial 0:  -----\n",
              "\n",
              "Decision tree:\n",
              "\n",
              "checking_balance in {> 200 DM,unknown}: no (412/54)\n",
              "checking_balance in {< 0 DM,1 - 200 DM}:\n",
              ":...credit_history in {perfect,very good}:\n",
              "    :...housing = rent: yes (16/1)\n",
              "    :   housing = other:\n",
              "    :   :...employment_duration in {> 7 years,1 - 4 years,\n",
              "    :   :   :                       4 - 7 years}: yes (10)\n",
              "    :   :   employment_duration in {< 1 year,unemployed}:\n",
              "    :   :   :...job in {management,unemployed,unskilled}: no (3)\n",
              "    :   :       job = skilled: yes (1)\n",
              "    :   housing = own:\n",
              "    :   :...purpose in {business,education}: no (9/2)\n",
              "    :       purpose in {car0,renovations}: yes (3)\n",
              "    :       purpose = car:\n",
              "    :       :...months_loan_duration <= 18: yes (5)\n",
              "    :       :   months_loan_duration > 18:\n",
              "    :       :   :...job in {management,skilled,unemployed}: no (3)\n",
              "    :       :       job = unskilled: yes (1)\n",
              "    :       purpose = furniture/appliances:\n",
              "    :       :...other_credit = store: no (4)\n",
              "    :           other_credit in {bank,none}:\n",
              "    :           :...existing_loans_count <= 1: yes (6)\n",
              "    :               existing_loans_count > 1: no (2)\n",
              "    credit_history in {critical,good,poor}:\n",
              "    :...months_loan_duration <= 15:\n",
              "        :...purpose in {business,car0}: no (10)\n",
              "        :   purpose = education:\n",
              "        :   :...savings_balance in {< 100 DM,> 1000 DM,100 - 500 DM,\n",
              "        :   :   :                   500 - 1000 DM}: yes (7/1)\n",
              "        :   :   savings_balance = unknown: no (3)\n",
              "        :   purpose = furniture/appliances:\n",
              "        :   :...savings_balance in {< 100 DM,> 1000 DM,500 - 1000 DM,\n",
              "        :   :   :                   unknown}: no (88/14)\n",
              "        :   :   savings_balance = 100 - 500 DM: yes (3)\n",
              "        :   purpose = renovations:\n",
              "        :   :...other_credit in {bank,none}: no (5/1)\n",
              "        :   :   other_credit = store: yes (1)\n",
              "        :   purpose = car:\n",
              "        :   :...credit_history in {critical,poor}: no (27/4)\n",
              "        :       credit_history = good:\n",
              "        :       :...existing_loans_count > 1: yes (2)\n",
              "        :           existing_loans_count <= 1:\n",
              "        :           :...savings_balance in {> 1000 DM,100 - 500 DM,\n",
              "        :               :                   500 - 1000 DM}: no (6/1)\n",
              "        :               savings_balance = unknown:\n",
              "        :               :...age <= 23: yes (2)\n",
              "        :               :   age > 23: no (5)\n",
              "        :               savings_balance = < 100 DM:\n",
              "        :               :...years_at_residence <= 3:\n",
              "        :                   :...percent_of_income <= 2: no (3/1)\n",
              "        :                   :   percent_of_income > 2: yes (7)\n",
              "        :                   years_at_residence > 3:\n",
              "        :                   :...employment_duration in {< 1 year,1 - 4 years,\n",
              "        :                       :                       4 - 7 years,\n",
              "        :                       :                       unemployed}: no (8)\n",
              "        :                       employment_duration = > 7 years: yes (3)\n",
              "        months_loan_duration > 15:\n",
              "        :...savings_balance in {> 1000 DM,unknown}:\n",
              "            :...credit_history in {critical,poor}: no (14)\n",
              "            :   credit_history = good:\n",
              "            :   :...amount > 6110:\n",
              "            :       :...checking_balance = < 0 DM: yes (3)\n",
              "            :       :   checking_balance = 1 - 200 DM:\n",
              "            :       :   :...amount <= 9629: no (2)\n",
              "            :       :       amount > 9629: yes (2)\n",
              "            :       amount <= 6110:\n",
              "            :       :...phone = yes: no (11)\n",
              "            :           phone = no:\n",
              "            :           :...savings_balance = > 1000 DM: no (2)\n",
              "            :               savings_balance = unknown:\n",
              "            :               :...months_loan_duration <= 27: yes (9/2)\n",
              "            :                   months_loan_duration > 27: no (3)\n",
              "            savings_balance in {< 100 DM,100 - 500 DM,500 - 1000 DM}:\n",
              "            :...months_loan_duration > 47: yes (23/3)\n",
              "                months_loan_duration <= 47:\n",
              "                :...employment_duration = unemployed:\n",
              "                    :...years_at_residence <= 2: yes (7)\n",
              "                    :   years_at_residence > 2: no (12/2)\n",
              "                    employment_duration = < 1 year:\n",
              "                    :...years_at_residence <= 1:\n",
              "                    :   :...housing in {other,own}: no (14/4)\n",
              "                    :   :   housing = rent: yes (2)\n",
              "                    :   years_at_residence > 1:\n",
              "                    :   :...job in {management,unemployed,\n",
              "                    :       :       unskilled}: yes (11/1)\n",
              "                    :       job = skilled:\n",
              "                    :       :...percent_of_income <= 2: no (4)\n",
              "                    :           percent_of_income > 2: yes (12/1)\n",
              "                    employment_duration = > 7 years:\n",
              "                    :...other_credit = store: no (2)\n",
              "                    :   other_credit = bank:\n",
              "                    :   :...job in {management,unskilled}: no (4/1)\n",
              "                    :   :   job in {skilled,unemployed}: yes (6)\n",
              "                    :   other_credit = none:\n",
              "                    :   :...purpose = business: yes (2)\n",
              "                    :       purpose in {car0,education,\n",
              "                    :       :           renovations}: no (1)\n",
              "                    :       purpose = furniture/appliances:\n",
              "                    :       :...job = management: yes (2)\n",
              "                    :       :   job in {skilled,unemployed,unskilled}: no (9)\n",
              "                    :       purpose = car:\n",
              "                    :       :...amount <= 6999: no (7/1)\n",
              "                    :           amount > 6999: [S1]\n",
              "                    employment_duration = 1 - 4 years:\n",
              "                    :...purpose in {business,car0}: no (5/2)\n",
              "                    :   purpose in {education,renovations}: yes (4)\n",
              "                    :   purpose = car:\n",
              "                    :   :...phone = yes: no (6)\n",
              "                    :   :   phone = no:\n",
              "                    :   :   :...checking_balance = < 0 DM: yes (4)\n",
              "                    :   :       checking_balance = 1 - 200 DM: no (3/1)\n",
              "                    :   purpose = furniture/appliances:\n",
              "                    :   :...savings_balance in {100 - 500 DM,\n",
              "                    :       :                   500 - 1000 DM}: yes (6)\n",
              "                    :       savings_balance = < 100 DM:\n",
              "                    :       :...months_loan_duration <= 22: yes (12/1)\n",
              "                    :           months_loan_duration > 22:\n",
              "                    :           :...amount <= 2325: yes (3)\n",
              "                    :               amount > 2325: no (6)\n",
              "                    employment_duration = 4 - 7 years:\n",
              "                    :...savings_balance in {100 - 500 DM,\n",
              "                        :                   500 - 1000 DM}: no (8)\n",
              "                        savings_balance = < 100 DM:\n",
              "                        :...job in {management,unemployed,\n",
              "                            :       unskilled}: no (6)\n",
              "                            job = skilled:\n",
              "                            :...dependents > 1: no (3/1)\n",
              "                                dependents <= 1:\n",
              "                                :...months_loan_duration <= 22: no (3)\n",
              "                                    months_loan_duration > 22: yes (8)\n",
              "\n",
              "SubTree [S1]\n",
              "\n",
              "checking_balance = < 0 DM: no (1)\n",
              "checking_balance = 1 - 200 DM: yes (3)\n",
              "\n",
              "-----  Trial 1:  -----\n",
              "\n",
              "Decision tree:\n",
              "\n",
              "months_loan_duration <= 7:\n",
              ":...job = management: yes (10.2/3.9)\n",
              ":   job in {skilled,unemployed,unskilled}:\n",
              ":   :...amount <= 4139: no (53.1/3.1)\n",
              ":       amount > 4139: yes (4.3/0.8)\n",
              "months_loan_duration > 7:\n",
              ":...checking_balance in {< 0 DM,> 200 DM,1 - 200 DM}:\n",
              "    :...savings_balance in {> 1000 DM,unknown}:\n",
              "    :   :...checking_balance = 1 - 200 DM: no (42.2/7.5)\n",
              "    :   :   checking_balance in {< 0 DM,> 200 DM}:\n",
              "    :   :   :...savings_balance = > 1000 DM: no (4.7)\n",
              "    :   :       savings_balance = unknown:\n",
              "    :   :       :...amount <= 1887: yes (16.1/2.3)\n",
              "    :   :           amount > 1887: no (13.7/3.1)\n",
              "    :   savings_balance in {< 100 DM,100 - 500 DM,500 - 1000 DM}:\n",
              "    :   :...credit_history = perfect: yes (28.6/6.2)\n",
              "    :       credit_history = poor:\n",
              "    :       :...checking_balance = < 0 DM: yes (11.8/1.6)\n",
              "    :       :   checking_balance in {> 200 DM,1 - 200 DM}: no (18.4/4.7)\n",
              "    :       credit_history = very good:\n",
              "    :       :...age <= 23: no (5.1)\n",
              "    :       :   age > 23: yes (20.7/3.9)\n",
              "    :       credit_history = critical:\n",
              "    :       :...purpose in {business,furniture/appliances}: no (37.6/12.1)\n",
              "    :       :   purpose in {car0,education,renovations}: yes (13.8/3.1)\n",
              "    :       :   purpose = car:\n",
              "    :       :   :...percent_of_income <= 2: no (11.7/1.6)\n",
              "    :       :       percent_of_income > 2:\n",
              "    :       :       :...existing_loans_count <= 1: no (5.5/0.8)\n",
              "    :       :           existing_loans_count > 1:\n",
              "    :       :           :...months_loan_duration <= 11: no (2.3)\n",
              "    :       :               months_loan_duration > 11: yes (25.6/5.5)\n",
              "    :       credit_history = good:\n",
              "    :       :...purpose in {business,car0,education}: no (29.8/11.8)\n",
              "    :           purpose = renovations: yes (8.7/2.3)\n",
              "    :           purpose = car:\n",
              "    :           :...percent_of_income > 2: yes (42.4/10.6)\n",
              "    :           :   percent_of_income <= 2:\n",
              "    :           :   :...amount <= 1386: yes (7.1)\n",
              "    :           :       amount > 1386: no (15.6/3.1)\n",
              "    :           purpose = furniture/appliances:\n",
              "    :           :...savings_balance = 100 - 500 DM: yes (11.7/3.1)\n",
              "    :               savings_balance = 500 - 1000 DM: no (7.5/2.8)\n",
              "    :               savings_balance = < 100 DM:\n",
              "    :               :...job = management: no (12.6/4.3)\n",
              "    :                   job = unemployed: yes (0.8)\n",
              "    :                   job = unskilled:\n",
              "    :                   :...checking_balance in {< 0 DM,\n",
              "    :                   :   :                    1 - 200 DM}: no (21.9/5.9)\n",
              "    :                   :   checking_balance = > 200 DM: yes (10.7/2.3)\n",
              "    :                   job = skilled:\n",
              "    :                   :...checking_balance = > 200 DM: no (14.1/5.5)\n",
              "    :                       checking_balance = 1 - 200 DM: yes (29.6/7)\n",
              "    :                       checking_balance = < 0 DM:\n",
              "    :                       :...years_at_residence <= 1: no (6.2/0.8)\n",
              "    :                           years_at_residence > 1: yes (26.2/9.4)\n",
              "    checking_balance = unknown:\n",
              "    :...other_credit in {bank,store}:\n",
              "        :...employment_duration = 4 - 7 years: no (7.8)\n",
              "        :   employment_duration in {< 1 year,> 7 years,1 - 4 years,unemployed}:\n",
              "        :   :...purpose in {business,car,education,renovations}: yes (50.2/8.6)\n",
              "        :       purpose in {car0,furniture/appliances}: no (21.6/8.3)\n",
              "        other_credit = none:\n",
              "        :...credit_history in {critical,perfect,very good}: no (91.4/5.5)\n",
              "            credit_history in {good,poor}:\n",
              "            :...existing_loans_count > 1:\n",
              "                :...employment_duration = 4 - 7 years: no (7)\n",
              "                :   employment_duration in {< 1 year,> 7 years,1 - 4 years,\n",
              "                :   :                       unemployed}:\n",
              "                :   :...housing in {other,rent}: yes (11.9/0.8)\n",
              "                :       housing = own:\n",
              "                :       :...job in {management,unemployed}: yes (8.3)\n",
              "                :           job in {skilled,unskilled}:\n",
              "                :           :...years_at_residence <= 1: yes (5.5)\n",
              "                :               years_at_residence > 1: no (15.3/2.8)\n",
              "                existing_loans_count <= 1:\n",
              "                :...credit_history = poor: yes (7.9/2.3)\n",
              "                    credit_history = good:\n",
              "                    :...savings_balance in {> 1000 DM,100 - 500 DM,\n",
              "                        :                   unknown}: no (37.5)\n",
              "                        savings_balance in {< 100 DM,500 - 1000 DM}:\n",
              "                        :...employment_duration = > 7 years: no (13.3)\n",
              "                            employment_duration = unemployed: yes (2.8)\n",
              "                            employment_duration in {< 1 year,1 - 4 years,\n",
              "                            :                       4 - 7 years}:\n",
              "                            :...phone = yes: no (18.4/2.8)\n",
              "                                phone = no: [S1]\n",
              "\n",
              "SubTree [S1]\n",
              "\n",
              "savings_balance = 500 - 1000 DM: yes (8.7/3.1)\n",
              "savings_balance = < 100 DM:\n",
              ":...age <= 23: yes (8.3)\n",
              "    age > 23: no (13.7/2.8)\n",
              "\n",
              "-----  Trial 2:  -----\n",
              "\n",
              "Decision tree:\n",
              "\n",
              "checking_balance = unknown:\n",
              ":...other_credit in {bank,store}:\n",
              ":   :...employment_duration = 4 - 7 years: no (6.3)\n",
              ":   :   employment_duration in {< 1 year,> 7 years,1 - 4 years,unemployed}:\n",
              ":   :   :...existing_loans_count > 2: no (3.9)\n",
              ":   :       existing_loans_count <= 2:\n",
              ":   :       :...savings_balance in {> 1000 DM,100 - 500 DM}: no (8.3/2.2)\n",
              ":   :           savings_balance = 500 - 1000 DM: yes (10.6/2.5)\n",
              ":   :           savings_balance = < 100 DM:\n",
              ":   :           :...percent_of_income <= 1: no (4.9)\n",
              ":   :           :   percent_of_income > 1: yes (30.4/6.7)\n",
              ":   :           savings_balance = unknown:\n",
              ":   :           :...housing in {other,rent}: no (4.9)\n",
              ":   :               housing = own: yes (13.2/2.9)\n",
              ":   other_credit = none:\n",
              ":   :...age > 30:\n",
              ":       :...age <= 46: no (100.7/8.1)\n",
              ":       :   age > 46:\n",
              ":       :   :...dependents <= 1: no (31.9/4.5)\n",
              ":       :       dependents > 1: yes (7.1/1.3)\n",
              ":       age <= 30:\n",
              ":       :...percent_of_income <= 3: no (45.6/11.2)\n",
              ":           percent_of_income > 3:\n",
              ":           :...credit_history = perfect: no (0.6)\n",
              ":               credit_history in {poor,very good}: yes (9.6/0.6)\n",
              ":               credit_history in {critical,good}:\n",
              ":               :...job = unemployed: no (0)\n",
              ":                   job in {management,unskilled}: yes (14.9/3.1)\n",
              ":                   job = skilled:\n",
              ":                   :...purpose in {business,car,car0,\n",
              ":                       :           furniture/appliances}: no (20.6/2.2)\n",
              ":                       purpose in {education,renovations}: yes (6.5/0.6)\n",
              "checking_balance in {< 0 DM,> 200 DM,1 - 200 DM}:\n",
              ":...months_loan_duration <= 11:\n",
              "    :...credit_history in {critical,good,poor}: no (90.4/25.9)\n",
              "    :   credit_history in {perfect,very good}: yes (8.4/0.6)\n",
              "    months_loan_duration > 11:\n",
              "    :...savings_balance = > 1000 DM: no (11.4/3.3)\n",
              "        savings_balance = 100 - 500 DM:\n",
              "        :...housing in {other,own}: no (42.4/16.3)\n",
              "        :   housing = rent: yes (12.2/3.1)\n",
              "        savings_balance = 500 - 1000 DM:\n",
              "        :...percent_of_income <= 3: no (10.2/2.3)\n",
              "        :   percent_of_income > 3: yes (9.4/1.3)\n",
              "        savings_balance = unknown:\n",
              "        :...purpose in {business,education,renovations}: no (9.5)\n",
              "        :   purpose in {car,car0,furniture/appliances}:\n",
              "        :   :...months_loan_duration <= 45: yes (44.5/18.4)\n",
              "        :       months_loan_duration > 45: no (3.8)\n",
              "        savings_balance = < 100 DM:\n",
              "        :...months_loan_duration > 42: yes (31.5/6.5)\n",
              "            months_loan_duration <= 42:\n",
              "            :...percent_of_income <= 3:\n",
              "                :...employment_duration = unemployed: no (14.4/6.7)\n",
              "                :   employment_duration = < 1 year:\n",
              "                :   :...housing = other: no (3.3)\n",
              "                :   :   housing in {own,rent}: yes (34.3/9.9)\n",
              "                :   employment_duration = > 7 years:\n",
              "                :   :...job in {management,unskilled}: no (9.3/0.6)\n",
              "                :   :   job in {skilled,unemployed}: yes (19.3/5.4)\n",
              "                :   employment_duration = 1 - 4 years:\n",
              "                :   :...amount <= 7685: no (50/13.4)\n",
              "                :   :   amount > 7685: yes (4.5)\n",
              "                :   employment_duration = 4 - 7 years:\n",
              "                :   :...housing in {other,rent}: no (9)\n",
              "                :       housing = own: yes (17.7/6.4)\n",
              "                percent_of_income > 3:\n",
              "                :...dependents > 1:\n",
              "                    :...age <= 42: yes (16.1/0.6)\n",
              "                    :   age > 42: no (2.9)\n",
              "                    dependents <= 1:\n",
              "                    :...credit_history in {perfect,poor,\n",
              "                        :                  very good}: yes (18.5/2.3)\n",
              "                        credit_history = critical:\n",
              "                        :...age > 62: no (4.9)\n",
              "                        :   age <= 62:\n",
              "                        :   :...months_loan_duration <= 15: no (10.3/2.2)\n",
              "                        :       months_loan_duration > 15: yes (17.6/6.6)\n",
              "                        credit_history = good:\n",
              "                        :...years_at_residence <= 1: no (14.3/3.5)\n",
              "                            years_at_residence > 1:\n",
              "                            :...housing = other: yes (5.5)\n",
              "                                housing in {own,rent}:\n",
              "                                :...existing_loans_count > 1: no (4.5/1.3)\n",
              "                                    existing_loans_count <= 1:\n",
              "                                    :...years_at_residence <= 3: yes (30.7/7)\n",
              "                                        years_at_residence > 3: no (19.3/7.4)\n",
              "\n",
              "-----  Trial 3:  -----\n",
              "\n",
              "Decision tree:\n",
              "\n",
              "employment_duration in {> 7 years,4 - 7 years}:\n",
              ":...checking_balance = unknown:\n",
              ":   :...months_loan_duration > 24: no (26.5)\n",
              ":   :   months_loan_duration <= 24:\n",
              ":   :   :...amount > 10222: yes (3)\n",
              ":   :       amount <= 10222:\n",
              ":   :       :...age <= 22: yes (5.8/1)\n",
              ":   :           age > 22: no (88.1/14.4)\n",
              ":   checking_balance in {< 0 DM,> 200 DM,1 - 200 DM}:\n",
              ":   :...years_at_residence <= 1: no (23/3.7)\n",
              ":       years_at_residence > 1:\n",
              ":       :...other_credit = bank: yes (37.4/14.3)\n",
              ":           other_credit = store: no (3.9/1.5)\n",
              ":           other_credit = none:\n",
              ":           :...housing = other:\n",
              ":               :...purpose in {business,car0,education,\n",
              ":               :   :           renovations}: yes (8.2)\n",
              ":               :   purpose in {car,furniture/appliances}:\n",
              ":               :   :...percent_of_income <= 1: yes (4.3)\n",
              ":               :       percent_of_income > 1: no (20.6/7.9)\n",
              ":               housing in {own,rent}:\n",
              ":               :...percent_of_income <= 1: no (12.3)\n",
              ":                   percent_of_income > 1:\n",
              ":                   :...savings_balance in {> 1000 DM,100 - 500 DM,\n",
              ":                       :                   unknown}: no (41.7/5.5)\n",
              ":                       savings_balance = 500 - 1000 DM: yes (2.9/1)\n",
              ":                       savings_balance = < 100 DM:\n",
              ":                       :...checking_balance = > 200 DM: no (5)\n",
              ":                           checking_balance = 1 - 200 DM:\n",
              ":                           :...job in {unemployed,unskilled}: no (6.9)\n",
              ":                           :   job in {management,skilled}: [S1]\n",
              ":                           checking_balance = < 0 DM:\n",
              ":                           :...dependents > 1: no (5.4/0.5)\n",
              ":                               dependents <= 1:\n",
              ":                               :...months_loan_duration <= 11: no (3.4)\n",
              ":                                   months_loan_duration > 11:\n",
              ":                                   :...amount <= 666: no (3.2)\n",
              ":                                       amount > 666: yes (24.5/2.4)\n",
              "employment_duration in {< 1 year,1 - 4 years,unemployed}:\n",
              ":...amount > 9566: yes (30/4.2)\n",
              "    amount <= 9566:\n",
              "    :...purpose = car0: no (4.2)\n",
              "        purpose = renovations: yes (17.1/6.9)\n",
              "        purpose = education:\n",
              "        :...savings_balance in {< 100 DM,> 1000 DM,100 - 500 DM}: yes (25.3/6.6)\n",
              "        :   savings_balance in {500 - 1000 DM,unknown}: no (6.3)\n",
              "        purpose = business:\n",
              "        :...housing = other: no (1.9)\n",
              "        :   housing = rent: yes (5.2/0.5)\n",
              "        :   housing = own:\n",
              "        :   :...age > 35: yes (18.8/2.6)\n",
              "        :       age <= 35:\n",
              "        :       :...credit_history in {critical,good,perfect}: no (13.8)\n",
              "        :           credit_history in {poor,very good}: yes (8.4/2.9)\n",
              "        purpose = car:\n",
              "        :...dependents > 1: no (24.5/5)\n",
              "        :   dependents <= 1:\n",
              "        :   :...checking_balance in {> 200 DM,unknown}: no (49.2/16.1)\n",
              "        :       checking_balance = < 0 DM:\n",
              "        :       :...percent_of_income <= 2: no (7.6/1.8)\n",
              "        :       :   percent_of_income > 2: yes (22.5/5.3)\n",
              "        :       checking_balance = 1 - 200 DM:\n",
              "        :       :...other_credit in {bank,store}: yes (8/1.9)\n",
              "        :           other_credit = none:\n",
              "        :           :...job = management: yes (9.8/3.2)\n",
              "        :               job in {unemployed,unskilled}: no (5.2/1)\n",
              "        :               job = skilled:\n",
              "        :               :...housing in {other,own}: no (13.5/3.2)\n",
              "        :                   housing = rent: yes (4.7/1)\n",
              "        purpose = furniture/appliances:\n",
              "        :...savings_balance = > 1000 DM: no (5.7)\n",
              "            savings_balance in {< 100 DM,100 - 500 DM,500 - 1000 DM,unknown}:\n",
              "            :...dependents > 1:\n",
              "                :...months_loan_duration <= 15: no (5.2)\n",
              "                :   months_loan_duration > 15: yes (15.6/1.3)\n",
              "                dependents <= 1:\n",
              "                :...months_loan_duration > 30: yes (27.7/6.8)\n",
              "                    months_loan_duration <= 30:\n",
              "                    :...housing = other: no (10/2.9)\n",
              "                        housing = rent:\n",
              "                        :...credit_history in {critical,poor}: no (11.1/4.8)\n",
              "                        :   credit_history in {perfect,\n",
              "                        :   :                  very good}: yes (1.5)\n",
              "                        :   credit_history = good:\n",
              "                        :   :...job in {management,unemployed}: no (6.3)\n",
              "                        :       job in {skilled,unskilled}:\n",
              "                        :       :...age <= 34: yes (31.1/6.5)\n",
              "                        :           age > 34: no (2.4)\n",
              "                        housing = own:\n",
              "                        :...checking_balance = unknown:\n",
              "                            :...amount <= 4594: no (24.1)\n",
              "                            :   amount > 4594: yes (6.4/0.5)\n",
              "                            checking_balance in {< 0 DM,> 200 DM,1 - 200 DM}:\n",
              "                            :...employment_duration = unemployed: yes (12.4/2.7)\n",
              "                                employment_duration in {< 1 year,1 - 4 years}:\n",
              "                                :...years_at_residence <= 1: no (23.3/5.3)\n",
              "                                    years_at_residence > 1: [S2]\n",
              "\n",
              "SubTree [S1]\n",
              "\n",
              "employment_duration = > 7 years: yes (12.2/4.5)\n",
              "employment_duration = 4 - 7 years: no (13.8/3.7)\n",
              "\n",
              "SubTree [S2]\n",
              "\n",
              "savings_balance = 100 - 500 DM: yes (5)\n",
              "savings_balance in {< 100 DM,500 - 1000 DM,unknown}:\n",
              ":...credit_history = critical: yes (8.2/2.9)\n",
              "    credit_history in {perfect,poor,very good}: no (12.7/3.4)\n",
              "    credit_history = good:\n",
              "    :...other_credit = bank: no (1/0.5)\n",
              "        other_credit = store: yes (3)\n",
              "        other_credit = none:\n",
              "        :...job in {management,unemployed}: no (0.5)\n",
              "            job = unskilled: yes (23.7/10.3)\n",
              "            job = skilled:\n",
              "            :...percent_of_income <= 1: yes (2.9)\n",
              "                percent_of_income > 1:\n",
              "                :...age <= 24: yes (11.7/1.9)\n",
              "                    age > 24: no (20.6/4.5)\n",
              "\n",
              "-----  Trial 4:  -----\n",
              "\n",
              "Decision tree:\n",
              "\n",
              "checking_balance = < 0 DM:\n",
              ":...savings_balance in {> 1000 DM,100 - 500 DM,500 - 1000 DM}: no (23.2/8.7)\n",
              ":   savings_balance = unknown:\n",
              ":   :...other_credit = bank: no (4/0.4)\n",
              ":   :   other_credit = store: yes (1.3)\n",
              ":   :   other_credit = none:\n",
              ":   :   :...housing = other: yes (3.2)\n",
              ":   :       housing in {own,rent}:\n",
              ":   :       :...employment_duration in {< 1 year,> 7 years,\n",
              ":   :           :                       unemployed}: no (7.9)\n",
              ":   :           employment_duration in {1 - 4 years,4 - 7 years}: yes (11.1/2.6)\n",
              ":   savings_balance = < 100 DM:\n",
              ":   :...job = unemployed: yes (7.7/2.1)\n",
              ":       job = management:\n",
              ":       :...percent_of_income <= 1: yes (4.8)\n",
              ":       :   percent_of_income > 1: no (26.2/6.8)\n",
              ":       job = unskilled:\n",
              ":       :...existing_loans_count > 1: no (12.8/4.1)\n",
              ":       :   existing_loans_count <= 1:\n",
              ":       :   :...employment_duration in {> 7 years,4 - 7 years,\n",
              ":       :       :                       unemployed}: no (5.7/0.4)\n",
              ":       :       employment_duration in {< 1 year,1 - 4 years}:\n",
              ":       :       :...months_loan_duration <= 36: yes (23.9/7.2)\n",
              ":       :           months_loan_duration > 36: no (2.1)\n",
              ":       job = skilled:\n",
              ":       :...purpose in {car0,education,renovations}: yes (9.5)\n",
              ":           purpose in {business,car,furniture/appliances}:\n",
              ":           :...existing_loans_count > 1: yes (43.4/10.5)\n",
              ":               existing_loans_count <= 1:\n",
              ":               :...credit_history in {critical,perfect}: no (7.5/1.5)\n",
              ":                   credit_history in {poor,very good}: yes (8.4/1.5)\n",
              ":                   credit_history = good:\n",
              ":                   :...dependents > 1: no (14.6/3.8)\n",
              ":                       dependents <= 1:\n",
              ":                       :...months_loan_duration <= 16: no (21.8/6.7)\n",
              ":                           months_loan_duration > 16:\n",
              ":                           :...age <= 54: yes (24.2/3.4)\n",
              ":                               age > 54: no (2.1)\n",
              "checking_balance in {> 200 DM,1 - 200 DM,unknown}:\n",
              ":...amount > 7824:\n",
              "    :...savings_balance in {> 1000 DM,100 - 500 DM}: yes (12.4/2.8)\n",
              "    :   savings_balance in {500 - 1000 DM,unknown}: no (20.1/7.5)\n",
              "    :   savings_balance = < 100 DM:\n",
              "    :   :...percent_of_income > 2: yes (9.5)\n",
              "    :       percent_of_income <= 2:\n",
              "    :       :...purpose in {business,car0,education,renovations}: yes (9.4)\n",
              "    :           purpose in {car,furniture/appliances}: no (11.3/3.6)\n",
              "    amount <= 7824:\n",
              "    :...dependents > 1:\n",
              "        :...months_loan_duration <= 7: no (12.6/1.1)\n",
              "        :   months_loan_duration > 7:\n",
              "        :   :...checking_balance = > 200 DM: yes (7.7)\n",
              "        :       checking_balance in {1 - 200 DM,unknown}:\n",
              "        :       :...savings_balance in {> 1000 DM,100 - 500 DM}: yes (12.5/2.9)\n",
              "        :           savings_balance in {500 - 1000 DM,unknown}: no (23.5/5.2)\n",
              "        :           savings_balance = < 100 DM:\n",
              "        :           :...existing_loans_count > 2: no (2.8)\n",
              "        :               existing_loans_count <= 2:\n",
              "        :               :...age <= 35: no (6.2)\n",
              "        :                   age > 35:\n",
              "        :                   :...credit_history = critical: no (4.7/1.1)\n",
              "        :                       credit_history in {good,perfect,poor,\n",
              "        :                                          very good}: yes (20.6/0.8)\n",
              "        dependents <= 1:\n",
              "        :...employment_duration in {> 7 years,4 - 7 years}:\n",
              "            :...months_loan_duration <= 36: no (142.6/19.7)\n",
              "            :   months_loan_duration > 36: yes (11.1/4.1)\n",
              "            employment_duration in {< 1 year,1 - 4 years,unemployed}:\n",
              "            :...credit_history = very good: yes (9.2/3.6)\n",
              "                credit_history = perfect:\n",
              "                :...years_at_residence <= 2: no (11.1/4.3)\n",
              "                :   years_at_residence > 2: yes (9/1.1)\n",
              "                credit_history = critical:\n",
              "                :...phone = yes: no (29.6/5.2)\n",
              "                :   phone = no:\n",
              "                :   :...months_loan_duration <= 16: no (14.4)\n",
              "                :       months_loan_duration > 16: yes (19.8/5.7)\n",
              "                credit_history = poor:\n",
              "                :...percent_of_income <= 2: no (11.8)\n",
              "                :   percent_of_income > 2:\n",
              "                :   :...housing in {other,rent}: no (2.2)\n",
              "                :       housing = own:\n",
              "                :       :...job in {management,skilled,\n",
              "                :           :       unemployed}: yes (16.1/5.1)\n",
              "                :           job = unskilled: no (4)\n",
              "                credit_history = good:\n",
              "                :...existing_loans_count > 1: yes (16.4/4.5)\n",
              "                    existing_loans_count <= 1:\n",
              "                    :...months_loan_duration > 24:\n",
              "                        :...years_at_residence <= 1: no (6.6/1.1)\n",
              "                        :   years_at_residence > 1: yes (25.4/5.4)\n",
              "                        months_loan_duration <= 24:\n",
              "                        :...phone = yes:\n",
              "                            :...checking_balance in {> 200 DM,\n",
              "                            :   :                    unknown}: no (19.9)\n",
              "                            :   checking_balance = 1 - 200 DM:\n",
              "                            :   :...years_at_residence <= 2: yes (10.6/2.8)\n",
              "                            :       years_at_residence > 2: no (12.6/1.3)\n",
              "                            phone = no:\n",
              "                            :...other_credit = bank: yes (6.3/1.5)\n",
              "                                other_credit = store: no (5.6/2.4)\n",
              "                                other_credit = none: [S1]\n",
              "\n",
              "SubTree [S1]\n",
              "\n",
              "savings_balance in {> 1000 DM,100 - 500 DM}: no (11.7)\n",
              "savings_balance in {< 100 DM,500 - 1000 DM,unknown}:\n",
              ":...job in {management,unemployed}: no (3)\n",
              "    job = unskilled:\n",
              "    :...months_loan_duration > 16: no (5)\n",
              "    :   months_loan_duration <= 16:\n",
              "    :   :...age <= 24: no (5.8)\n",
              "    :       age > 24: yes (17/6.8)\n",
              "    job = skilled:\n",
              "    :...checking_balance = > 200 DM: no (5.6)\n",
              "        checking_balance in {1 - 200 DM,unknown}:\n",
              "        :...age > 33: no (5.7)\n",
              "            age <= 33:\n",
              "            :...age <= 21: no (4.3)\n",
              "                age > 21: yes (38.9/12.8)\n",
              "\n",
              "-----  Trial 5:  -----\n",
              "\n",
              "Decision tree:\n",
              "\n",
              "checking_balance = unknown:\n",
              ":...other_credit in {none,store}: no (220.1/56.2)\n",
              ":   other_credit = bank:\n",
              ":   :...age <= 44: yes (44.7/15.1)\n",
              ":       age > 44: no (11.8/2.1)\n",
              "checking_balance in {< 0 DM,> 200 DM,1 - 200 DM}:\n",
              ":...housing = other:\n",
              "    :...other_credit = store: yes (3.1)\n",
              "    :   other_credit = bank:\n",
              "    :   :...phone = no: yes (5.2/1.5)\n",
              "    :   :   phone = yes: no (13.2/2.2)\n",
              "    :   other_credit = none:\n",
              "    :   :...job in {skilled,unemployed,unskilled}: yes (44/10.8)\n",
              "    :       job = management:\n",
              "    :       :...credit_history in {critical,poor,very good}: no (7)\n",
              "    :           credit_history in {good,perfect}: yes (13.2/2.6)\n",
              "    housing = rent:\n",
              "    :...credit_history = perfect: yes (6)\n",
              "    :   credit_history = poor: no (9.5/1)\n",
              "    :   credit_history in {critical,good,very good}:\n",
              "    :   :...checking_balance = > 200 DM: no (6.9/1.2)\n",
              "    :       checking_balance in {< 0 DM,1 - 200 DM}:\n",
              "    :       :...purpose in {business,car0,education,\n",
              "    :           :           renovations}: yes (13/1.7)\n",
              "    :           purpose = car:\n",
              "    :           :...dependents > 1: no (3.6)\n",
              "    :           :   dependents <= 1:\n",
              "    :           :   :...existing_loans_count <= 1: no (19.2/7.9)\n",
              "    :           :       existing_loans_count > 1: yes (8.8/0.9)\n",
              "    :           purpose = furniture/appliances:\n",
              "    :           :...checking_balance = 1 - 200 DM: no (11.1/3.4)\n",
              "    :               checking_balance = < 0 DM:\n",
              "    :               :...years_at_residence <= 3: no (8.8/3.1)\n",
              "    :                   years_at_residence > 3:\n",
              "    :                   :...amount <= 1297: no (3.1)\n",
              "    :                       amount > 1297: yes (17.7/2.9)\n",
              "    housing = own:\n",
              "    :...amount > 6468:\n",
              "        :...other_credit = store: no (3.3/0.3)\n",
              "        :   other_credit in {bank,none}:\n",
              "        :   :...job in {management,skilled,unemployed}: yes (34.8/6.4)\n",
              "        :       job = unskilled: no (5.2/1.2)\n",
              "        amount <= 6468:\n",
              "        :...savings_balance in {> 1000 DM,500 - 1000 DM}: no (25.4/9.3)\n",
              "            savings_balance = 100 - 500 DM:\n",
              "            :...purpose in {car0,education}: no (0)\n",
              "            :   purpose = furniture/appliances: yes (16/1.8)\n",
              "            :   purpose in {business,car,renovations}:\n",
              "            :   :...employment_duration = < 1 year: yes (5.2/0.7)\n",
              "            :       employment_duration in {> 7 years,1 - 4 years,4 - 7 years,\n",
              "            :                               unemployed}: no (18.2)\n",
              "            savings_balance = unknown:\n",
              "            :...credit_history = perfect: no (0)\n",
              "            :   credit_history = very good: yes (2.1)\n",
              "            :   credit_history in {critical,good,poor}:\n",
              "            :   :...amount <= 1345: yes (7/2.5)\n",
              "            :       amount > 1345: no (35.1/3.2)\n",
              "            savings_balance = < 100 DM:\n",
              "            :...job = unemployed: no (6.4/2.1)\n",
              "                job = management:\n",
              "                :...years_at_residence <= 1: no (5.5)\n",
              "                :   years_at_residence > 1:\n",
              "                :   :...other_credit in {bank,store}: yes (2.2/0.3)\n",
              "                :       other_credit = none:\n",
              "                :       :...credit_history in {critical,perfect,poor,\n",
              "                :           :                  very good}: yes (15.2/2.1)\n",
              "                :           credit_history = good: no (4.1)\n",
              "                job = unskilled:\n",
              "                :...months_loan_duration <= 14: no (47.8/7.9)\n",
              "                :   months_loan_duration > 14:\n",
              "                :   :...other_credit in {bank,store}: no (4.3/0.9)\n",
              "                :       other_credit = none:\n",
              "                :       :...percent_of_income <= 3: yes (11.7/0.9)\n",
              "                :           percent_of_income > 3: no (12.2/4)\n",
              "                job = skilled:\n",
              "                :...credit_history = perfect: no (9.6/1.9)\n",
              "                    credit_history in {poor,very good}: yes (9.1/2.6)\n",
              "                    credit_history = critical:\n",
              "                    :...other_credit = bank: yes (3.4)\n",
              "                    :   other_credit in {none,store}: no (37.6/11.3)\n",
              "                    credit_history = good:\n",
              "                    :...other_credit = bank: no (7.9/3.5)\n",
              "                        other_credit = store: yes (4.4/1.2)\n",
              "                        other_credit = none:\n",
              "                        :...checking_balance in {> 200 DM,\n",
              "                            :                    1 - 200 DM}: no (53.7/21.5)\n",
              "                            checking_balance = < 0 DM:\n",
              "                            :...dependents > 1: no (6.1)\n",
              "                                dependents <= 1:\n",
              "                                :...purpose in {business,car,car0,education,\n",
              "                                    :           renovations}: yes (14.7/2.6)\n",
              "                                    purpose = furniture/appliances:\n",
              "                                    :...phone = no: no (18.2/5.8)\n",
              "                                        phone = yes: yes (3.4)\n",
              "\n",
              "-----  Trial 6:  -----\n",
              "\n",
              "Decision tree:\n",
              "\n",
              "months_loan_duration <= 7:\n",
              ":...existing_loans_count > 1: no (14.8)\n",
              ":   existing_loans_count <= 1:\n",
              ":   :...amount <= 3380: no (32.5/5.8)\n",
              ":       amount > 3380: yes (8.6/1.3)\n",
              "months_loan_duration > 7:\n",
              ":...checking_balance = > 200 DM:\n",
              "    :...dependents > 1: yes (5.2)\n",
              "    :   dependents <= 1:\n",
              "    :   :...age > 39: no (17.2)\n",
              "    :       age <= 39:\n",
              "    :       :...age <= 24: no (6.9)\n",
              "    :           age > 24:\n",
              "    :           :...amount <= 2337: yes (21.9/3.3)\n",
              "    :               amount > 2337: no (9.7/2.6)\n",
              "    checking_balance = < 0 DM:\n",
              "    :...savings_balance = > 1000 DM: no (2.1)\n",
              "    :   savings_balance in {100 - 500 DM,500 - 1000 DM}: yes (20/7.1)\n",
              "    :   savings_balance = unknown:\n",
              "    :   :...phone = no: yes (13.7/2.9)\n",
              "    :   :   phone = yes: no (13.3/3)\n",
              "    :   savings_balance = < 100 DM:\n",
              "    :   :...purpose in {business,car0}: no (11.4/2.4)\n",
              "    :       purpose in {car,education,renovations}: yes (93.4/33.9)\n",
              "    :       purpose = furniture/appliances:\n",
              "    :       :...credit_history = critical: no (14.5/4)\n",
              "    :           credit_history in {perfect,poor,very good}: yes (15.1/3.8)\n",
              "    :           credit_history = good:\n",
              "    :           :...phone = yes: yes (17.5/3.6)\n",
              "    :               phone = no:\n",
              "    :               :...job in {management,unemployed}: yes (4.4/1.3)\n",
              "    :                   job = unskilled: no (13.1/2)\n",
              "    :                   job = skilled:\n",
              "    :                   :...years_at_residence <= 1: no (6.5)\n",
              "    :                       years_at_residence > 1: yes (34.2/13.6)\n",
              "    checking_balance = unknown:\n",
              "    :...credit_history = perfect: yes (5.1/1.4)\n",
              "    :   credit_history = very good: no (11/4.5)\n",
              "    :   credit_history = poor:\n",
              "    :   :...years_at_residence <= 1: yes (6.3/0.7)\n",
              "    :   :   years_at_residence > 1:\n",
              "    :   :   :...percent_of_income <= 3: no (8.9/1)\n",
              "    :   :       percent_of_income > 3: yes (21.3/6.2)\n",
              "    :   credit_history = critical:\n",
              "    :   :...other_credit = none:\n",
              "    :   :   :...amount <= 11760: no (46/2.6)\n",
              "    :   :   :   amount > 11760: yes (3.9)\n",
              "    :   :   other_credit in {bank,store}:\n",
              "    :   :   :...age > 45: no (3)\n",
              "    :   :       age <= 45:\n",
              "    :   :       :...purpose in {business,car}: yes (11)\n",
              "    :   :           purpose in {car0,education,furniture/appliances,\n",
              "    :   :                       renovations}: no (13.4/3.7)\n",
              "    :   credit_history = good:\n",
              "    :   :...existing_loans_count > 1:\n",
              "    :       :...amount <= 1963: no (5.7)\n",
              "    :       :   amount > 1963: yes (20.8/3.7)\n",
              "    :       existing_loans_count <= 1:\n",
              "    :       :...savings_balance in {> 1000 DM,100 - 500 DM,\n",
              "    :           :                   unknown}: no (29.4/1)\n",
              "    :           savings_balance in {< 100 DM,500 - 1000 DM}:\n",
              "    :           :...percent_of_income <= 1: no (6.1)\n",
              "    :               percent_of_income > 1:\n",
              "    :               :...age <= 23: yes (13.4/1.4)\n",
              "    :                   age > 23:\n",
              "    :                   :...job in {management,skilled,\n",
              "    :                       :       unemployed}: no (35.4/9.2)\n",
              "    :                       job = unskilled: yes (12.2/3.4)\n",
              "    checking_balance = 1 - 200 DM:\n",
              "    :...savings_balance = unknown: no (39.8/7.2)\n",
              "        savings_balance in {< 100 DM,> 1000 DM,100 - 500 DM,500 - 1000 DM}:\n",
              "        :...months_loan_duration <= 20:\n",
              "            :...employment_duration = 4 - 7 years: no (11.1)\n",
              "            :   employment_duration in {< 1 year,> 7 years,1 - 4 years,\n",
              "            :   :                       unemployed}:\n",
              "            :   :...phone = yes: no (39.7/12)\n",
              "            :       phone = no:\n",
              "            :       :...percent_of_income <= 3:\n",
              "            :           :...amount <= 1659: yes (15.5/1.4)\n",
              "            :           :   amount > 1659: no (12.4/3.8)\n",
              "            :           percent_of_income > 3:\n",
              "            :           :...age <= 28: no (17.8/1.9)\n",
              "            :               age > 28: yes (22.8/6.3)\n",
              "            months_loan_duration > 20:\n",
              "            :...credit_history in {poor,very good}:\n",
              "                :...existing_loans_count > 3: yes (2.1)\n",
              "                :   existing_loans_count <= 3:\n",
              "                :   :...amount <= 2288: yes (6.8/0.7)\n",
              "                :       amount > 2288: no (15/1)\n",
              "                credit_history in {critical,good,perfect}:\n",
              "                :...years_at_residence <= 1: no (17.7/7.3)\n",
              "                    years_at_residence > 1:\n",
              "                    :...dependents > 1: yes (8.4)\n",
              "                        dependents <= 1:\n",
              "                        :...purpose in {business,car0,\n",
              "                            :           renovations}: yes (11.8/0.7)\n",
              "                            purpose = education: no (3.1/0.7)\n",
              "                            purpose = car:\n",
              "                            :...age <= 28: yes (13.1/1)\n",
              "                            :   age > 28: no (6.9/1.7)\n",
              "                            purpose = furniture/appliances: [S1]\n",
              "\n",
              "SubTree [S1]\n",
              "\n",
              "employment_duration in {< 1 year,1 - 4 years,4 - 7 years}: yes (23.3)\n",
              "employment_duration in {> 7 years,unemployed}: no (4)\n",
              "\n",
              "-----  Trial 7:  -----\n",
              "\n",
              "Decision tree:\n",
              "\n",
              "employment_duration in {< 1 year,unemployed}:\n",
              ":...housing = other:\n",
              ":   :...dependents > 1: yes (2.1)\n",
              ":   :   dependents <= 1:\n",
              ":   :   :...amount <= 12389: no (16.3)\n",
              ":   :       amount > 12389: yes (2.4)\n",
              ":   housing in {own,rent}:\n",
              ":   :...credit_history = critical: no (34.8/10.9)\n",
              ":       credit_history in {perfect,poor,very good}: yes (48.5/10.5)\n",
              ":       credit_history = good:\n",
              ":       :...savings_balance in {> 1000 DM,500 - 1000 DM}: no (5.6/1.3)\n",
              ":           savings_balance = 100 - 500 DM: yes (12.1/2.6)\n",
              ":           savings_balance = unknown:\n",
              ":           :...purpose = car: no (6.5/1.2)\n",
              ":           :   purpose in {business,car0,education,furniture/appliances,\n",
              ":           :               renovations}: yes (11.8/3.8)\n",
              ":           savings_balance = < 100 DM:\n",
              ":           :...age <= 25: yes (34.5/7.8)\n",
              ":               age > 25:\n",
              ":               :...dependents > 1: yes (7.1/1.6)\n",
              ":                   dependents <= 1:\n",
              ":                   :...months_loan_duration > 22: yes (28.1/11.1)\n",
              ":                       months_loan_duration <= 22:\n",
              ":                       :...phone = yes: no (7.1)\n",
              ":                           phone = no:\n",
              ":                           :...years_at_residence <= 3: no (18.1/1.7)\n",
              ":                               years_at_residence > 3: yes (3.1)\n",
              "employment_duration in {> 7 years,1 - 4 years,4 - 7 years}:\n",
              ":...housing = other:\n",
              "    :...credit_history in {perfect,very good}: yes (9.2)\n",
              "    :   credit_history in {critical,good,poor}:\n",
              "    :   :...other_credit = store: yes (4.8)\n",
              "    :       other_credit in {bank,none}:\n",
              "    :       :...amount > 11054: yes (10.6/0.6)\n",
              "    :           amount <= 11054:\n",
              "    :           :...years_at_residence <= 1: no (5.6)\n",
              "    :               years_at_residence > 1:\n",
              "    :               :...savings_balance = > 1000 DM: yes (3.3)\n",
              "    :                   savings_balance in {100 - 500 DM,500 - 1000 DM,\n",
              "    :                   :                   unknown}: no (21.7/8.4)\n",
              "    :                   savings_balance = < 100 DM:\n",
              "    :                   :...percent_of_income <= 2: no (12.7)\n",
              "    :                       percent_of_income > 2:\n",
              "    :                       :...checking_balance in {< 0 DM,\n",
              "    :                           :                    1 - 200 DM}: yes (18.9/4.3)\n",
              "    :                           checking_balance in {> 200 DM,\n",
              "    :                                                unknown}: no (10.6/0.8)\n",
              "    housing in {own,rent}:\n",
              "    :...percent_of_income <= 1: no (65.1/15.1)\n",
              "        percent_of_income > 1:\n",
              "        :...months_loan_duration <= 15:\n",
              "            :...months_loan_duration <= 7: no (14.8)\n",
              "            :   months_loan_duration > 7:\n",
              "            :   :...years_at_residence > 3: no (59.8/12.1)\n",
              "            :       years_at_residence <= 3:\n",
              "            :       :...employment_duration = > 7 years:\n",
              "            :           :...years_at_residence <= 2: no (4.9)\n",
              "            :           :   years_at_residence > 2: yes (19.4/4.6)\n",
              "            :           employment_duration = 1 - 4 years:\n",
              "            :           :...purpose in {business,car0,education,\n",
              "            :           :   :           furniture/appliances}: no (52/12.4)\n",
              "            :           :   purpose = renovations: yes (5.6/2.3)\n",
              "            :           :   purpose = car:\n",
              "            :           :   :...age <= 29: yes (14.4/3.4)\n",
              "            :           :       age > 29: no (15.2)\n",
              "            :           employment_duration = 4 - 7 years:\n",
              "            :           :...housing = rent: no (1.2)\n",
              "            :               housing = own:\n",
              "            :               :...checking_balance in {< 0 DM,> 200 DM,\n",
              "            :                   :                    unknown}: yes (16.7/6.1)\n",
              "            :                   checking_balance = 1 - 200 DM: no (5.3)\n",
              "            months_loan_duration > 15:\n",
              "            :...savings_balance in {> 1000 DM,100 - 500 DM,500 - 1000 DM,\n",
              "                :                   unknown}:\n",
              "                :...phone = yes:\n",
              "                :   :...existing_loans_count <= 2: no (54.8/7)\n",
              "                :   :   existing_loans_count > 2: yes (3.8)\n",
              "                :   phone = no:\n",
              "                :   :...savings_balance in {> 1000 DM,\n",
              "                :       :                   500 - 1000 DM}: no (10.9/1.3)\n",
              "                :       savings_balance in {100 - 500 DM,unknown}:\n",
              "                :       :...credit_history in {poor,very good}: no (7.6/0.7)\n",
              "                :           credit_history in {critical,good,perfect}: [S1]\n",
              "                savings_balance = < 100 DM:\n",
              "                :...dependents > 1:\n",
              "                    :...months_loan_duration <= 45: yes (27/5.4)\n",
              "                    :   months_loan_duration > 45: no (3.2)\n",
              "                    dependents <= 1:\n",
              "                    :...months_loan_duration > 45: yes (11.3/0.5)\n",
              "                        months_loan_duration <= 45:\n",
              "                        :...purpose in {business,car0,\n",
              "                            :           renovations}: no (17.9/6.4)\n",
              "                            purpose = education: yes (1.9)\n",
              "                            purpose = car:\n",
              "                            :...job = unemployed: yes (0)\n",
              "                            :   job = management: no (3.3)\n",
              "                            :   job in {skilled,unskilled}:\n",
              "                            :   :...amount <= 1042: no (3.2)\n",
              "                            :       amount > 1042: yes (19.7/4)\n",
              "                            purpose = furniture/appliances:\n",
              "                            :...years_at_residence > 3:\n",
              "                                :...age <= 25: yes (3.9/0.2)\n",
              "                                :   age > 25: no (17.5/1)\n",
              "                                years_at_residence <= 3:\n",
              "                                :...job = unemployed: yes (0)\n",
              "                                    job = unskilled: no (7/1.3)\n",
              "                                    job in {management,skilled}:\n",
              "                                    :...existing_loans_count <= 1: yes (40.9/9.4)\n",
              "                                        existing_loans_count > 1: no (15.6/4.6)\n",
              "\n",
              "SubTree [S1]\n",
              "\n",
              "employment_duration = > 7 years: no (10.8/2.9)\n",
              "employment_duration in {1 - 4 years,4 - 7 years}: yes (29.6/7.8)\n",
              "\n",
              "-----  Trial 8:  -----\n",
              "\n",
              "Decision tree:\n",
              "\n",
              "checking_balance in {> 200 DM,unknown}:\n",
              ":...employment_duration = unemployed: yes (15.5/5)\n",
              ":   employment_duration = 4 - 7 years:\n",
              ":   :...percent_of_income <= 3: no (24.3)\n",
              ":   :   percent_of_income > 3:\n",
              ":   :   :...age <= 22: yes (4.5)\n",
              ":   :       age > 22: no (22.8/4.2)\n",
              ":   employment_duration in {< 1 year,> 7 years,1 - 4 years}:\n",
              ":   :...other_credit = store:\n",
              ":       :...housing = other: yes (2.2)\n",
              ":       :   housing in {own,rent}: no (17.7/4.8)\n",
              ":       other_credit = bank:\n",
              ":       :...checking_balance = > 200 DM: no (2.7)\n",
              ":       :   checking_balance = unknown:\n",
              ":       :   :...age > 44: no (8.6)\n",
              ":       :       age <= 44:\n",
              ":       :       :...amount <= 709: no (3.4)\n",
              ":       :           amount > 709: yes (36.7/12)\n",
              ":       other_credit = none:\n",
              ":       :...job = unemployed: yes (1.6/0.4)\n",
              ":           job = management:\n",
              ":           :...existing_loans_count <= 1: no (15.6/5.4)\n",
              ":           :   existing_loans_count > 1: yes (7.4/1.6)\n",
              ":           job = unskilled:\n",
              ":           :...checking_balance = > 200 DM: yes (10/3.4)\n",
              ":           :   checking_balance = unknown: no (26.3/7)\n",
              ":           job = skilled:\n",
              ":           :...purpose = car0: no (0)\n",
              ":               purpose in {business,education,renovations}:\n",
              ":               :...months_loan_duration <= 22: yes (14.6/4.1)\n",
              ":               :   months_loan_duration > 22: no (13.2/3.7)\n",
              ":               purpose in {car,furniture/appliances}:\n",
              ":               :...employment_duration = > 7 years: no (23.9)\n",
              ":                   employment_duration in {< 1 year,1 - 4 years}:\n",
              ":                   :...housing = other: yes (4/0.9)\n",
              ":                       housing in {own,rent}:\n",
              ":                       :...credit_history in {critical,perfect,poor,\n",
              ":                           :                  very good}: no (16.8)\n",
              ":                           credit_history = good:\n",
              ":                           :...amount <= 4057: no (50/7.8)\n",
              ":                               amount > 4057: yes (11.3/2.7)\n",
              "checking_balance in {< 0 DM,1 - 200 DM}:\n",
              ":...housing = rent:\n",
              "    :...credit_history = perfect: yes (5.8)\n",
              "    :   credit_history = poor: no (7.4/1.1)\n",
              "    :   credit_history in {critical,good,very good}:\n",
              "    :   :...percent_of_income > 2: yes (51.9/13.9)\n",
              "    :       percent_of_income <= 2:\n",
              "    :       :...years_at_residence <= 1: yes (3.4)\n",
              "    :           years_at_residence > 1:\n",
              "    :           :...phone = yes: yes (13.1/3.3)\n",
              "    :               phone = no:\n",
              "    :               :...age <= 21: yes (4.6/0.9)\n",
              "    :                   age > 21: no (20.9/2.5)\n",
              "    housing in {other,own}:\n",
              "    :...years_at_residence <= 1:\n",
              "        :...other_credit in {bank,store}: no (12.9/1.8)\n",
              "        :   other_credit = none:\n",
              "        :   :...employment_duration in {< 1 year,> 7 years,1 - 4 years,\n",
              "        :       :                       4 - 7 years}: no (60.3/21.1)\n",
              "        :       employment_duration = unemployed: yes (4.9)\n",
              "        years_at_residence > 1:\n",
              "        :...checking_balance = < 0 DM:\n",
              "            :...credit_history in {critical,perfect}: no (62.5/18.5)\n",
              "            :   credit_history in {poor,very good}: yes (24.5/8.9)\n",
              "            :   credit_history = good:\n",
              "            :   :...dependents > 1:\n",
              "            :       :...amount <= 6468: no (21.7/3.4)\n",
              "            :       :   amount > 6468: yes (6.4/2)\n",
              "            :       dependents <= 1:\n",
              "            :       :...purpose in {business,car0}: no (4)\n",
              "            :           purpose in {car,education,renovations}: yes (23.8/7.2)\n",
              "            :           purpose = furniture/appliances:\n",
              "            :           :...amount > 4657: yes (6.3)\n",
              "            :               amount <= 4657:\n",
              "            :               :...job in {management,unemployed}: no (6.4)\n",
              "            :                   job in {skilled,unskilled}:\n",
              "            :                   :...months_loan_duration <= 16: no (12.7/2)\n",
              "            :                       months_loan_duration > 16:\n",
              "            :                       :...years_at_residence <= 3: yes (13.5/0.4)\n",
              "            :                           years_at_residence > 3: no (11.4/4.6)\n",
              "            checking_balance = 1 - 200 DM:\n",
              "            :...amount > 12204: yes (11.7)\n",
              "                amount <= 12204:\n",
              "                :...savings_balance = unknown: no (23.5/1.8)\n",
              "                    savings_balance in {< 100 DM,> 1000 DM,100 - 500 DM,\n",
              "                    :                   500 - 1000 DM}:\n",
              "                    :...dependents > 1: yes (19.2/4.6)\n",
              "                        dependents <= 1:\n",
              "                        :...months_loan_duration > 22: yes (56.7/15.6)\n",
              "                            months_loan_duration <= 22:\n",
              "                            :...employment_duration = < 1 year: yes (14.4/5.5)\n",
              "                                employment_duration in {> 7 years,4 - 7 years,\n",
              "                                :                       unemployed}: no (24.4/6.5)\n",
              "                                employment_duration = 1 - 4 years:\n",
              "                                :...phone = yes: no (4.9)\n",
              "                                    phone = no: [S1]\n",
              "\n",
              "SubTree [S1]\n",
              "\n",
              "savings_balance = 100 - 500 DM: no (5.7)\n",
              "savings_balance in {< 100 DM,> 1000 DM,500 - 1000 DM}:\n",
              ":...percent_of_income <= 3: yes (8.6/1.4)\n",
              "    percent_of_income > 3:\n",
              "    :...months_loan_duration <= 11: no (9.6)\n",
              "        months_loan_duration > 11: yes (9.7/1.6)\n",
              "\n",
              "-----  Trial 9:  -----\n",
              "\n",
              "Decision tree:\n",
              "\n",
              "checking_balance in {> 200 DM,unknown}:\n",
              ":...other_credit = store:\n",
              ":   :...years_at_residence <= 1: no (3.3)\n",
              ":   :   years_at_residence > 1: yes (20.1/8.7)\n",
              ":   other_credit = bank:\n",
              ":   :...purpose = business: yes (7.3/2.6)\n",
              ":   :   purpose in {car0,education,furniture/appliances,\n",
              ":   :   :           renovations}: no (33.7/6.6)\n",
              ":   :   purpose = car:\n",
              ":   :   :...months_loan_duration <= 16: no (3.7)\n",
              ":   :       months_loan_duration > 16:\n",
              ":   :       :...amount <= 7629: yes (11.3/0.7)\n",
              ":   :           amount > 7629: no (8.4/2.7)\n",
              ":   other_credit = none:\n",
              ":   :...age > 30: no (127.2/22.4)\n",
              ":       age <= 30:\n",
              ":       :...credit_history = perfect: no (1.1)\n",
              ":           credit_history in {poor,very good}: yes (16/4.4)\n",
              ":           credit_history in {critical,good}:\n",
              ":           :...years_at_residence <= 1: no (8)\n",
              ":               years_at_residence > 1:\n",
              ":               :...percent_of_income <= 2: no (27.1/3)\n",
              ":                   percent_of_income > 2:\n",
              ":                   :...employment_duration in {< 1 year,\n",
              ":                       :                       4 - 7 years}: no (19.9/5.8)\n",
              ":                       employment_duration in {> 7 years,\n",
              ":                       :                       unemployed}: yes (7.9/2.2)\n",
              ":                       employment_duration = 1 - 4 years:\n",
              ":                       :...checking_balance = > 200 DM: yes (5.2/0.5)\n",
              ":                           checking_balance = unknown:\n",
              ":                           :...age <= 22: yes (3.3/0.2)\n",
              ":                               age > 22: no (24.5/8.9)\n",
              "checking_balance in {< 0 DM,1 - 200 DM}:\n",
              ":...credit_history = perfect:\n",
              "    :...savings_balance in {< 100 DM,> 1000 DM,100 - 500 DM}: yes (24.5/5)\n",
              "    :   savings_balance in {500 - 1000 DM,unknown}: no (4.8)\n",
              "    credit_history = very good:\n",
              "    :...age <= 23: no (6.6)\n",
              "    :   age > 23: yes (37.9/11.2)\n",
              "    credit_history = poor:\n",
              "    :...percent_of_income <= 1: no (11.9)\n",
              "    :   percent_of_income > 1:\n",
              "    :   :...checking_balance = < 0 DM: yes (11.5/2)\n",
              "    :       checking_balance = 1 - 200 DM:\n",
              "    :       :...age <= 39: no (13.4/1.4)\n",
              "    :           age > 39: yes (13.2/3)\n",
              "    credit_history = critical:\n",
              "    :...savings_balance in {> 1000 DM,100 - 500 DM,500 - 1000 DM,\n",
              "    :   :                   unknown}: no (21.2/3.8)\n",
              "    :   savings_balance = < 100 DM:\n",
              "    :   :...months_loan_duration > 42: yes (5.6)\n",
              "    :       months_loan_duration <= 42:\n",
              "    :       :...housing = other: no (12.7/1.8)\n",
              "    :           housing in {own,rent}:\n",
              "    :           :...dependents > 1: no (11.5/2.1)\n",
              "    :               dependents <= 1:\n",
              "    :               :...purpose in {car0,education}: yes (4.9)\n",
              "    :                   purpose = renovations: no (2.2)\n",
              "    :                   purpose in {business,car,furniture/appliances}:\n",
              "    :                   :...years_at_residence <= 1: no (3.7)\n",
              "    :                       years_at_residence > 1:\n",
              "    :                       :...amount <= 1922: no (26.6/7.3)\n",
              "    :                           amount > 1922: yes (41.3/13.8)\n",
              "    credit_history = good:\n",
              "    :...amount > 8086: yes (24.1/4.8)\n",
              "        amount <= 8086:\n",
              "        :...savings_balance = > 1000 DM: no (7.9)\n",
              "            savings_balance in {< 100 DM,100 - 500 DM,500 - 1000 DM,unknown}:\n",
              "            :...months_loan_duration <= 7: no (16.5/1.4)\n",
              "                months_loan_duration > 7:\n",
              "                :...job = unemployed: no (2.1/0.8)\n",
              "                    job = management:\n",
              "                    :...savings_balance = 500 - 1000 DM: no (0)\n",
              "                    :   savings_balance = unknown: yes (5.6/0.8)\n",
              "                    :   savings_balance in {< 100 DM,100 - 500 DM}:\n",
              "                    :   :...employment_duration in {< 1 year,1 - 4 years,\n",
              "                    :       :                       4 - 7 years,\n",
              "                    :       :                       unemployed}: no (23/2.1)\n",
              "                    :       employment_duration = > 7 years: yes (4.1/0.2)\n",
              "                    job = unskilled:\n",
              "                    :...percent_of_income <= 3: no (25/7.5)\n",
              "                    :   percent_of_income > 3:\n",
              "                    :   :...age <= 31: no (12/3.7)\n",
              "                    :       age > 31: yes (23.8/6.5)\n",
              "                    job = skilled:\n",
              "                    :...months_loan_duration > 42: yes (14.5/2.3)\n",
              "                        months_loan_duration <= 42:\n",
              "                        :...housing = other: no (17.1/5.3)\n",
              "                            housing = rent:\n",
              "                            :...existing_loans_count > 1: yes (4.5)\n",
              "                            :   existing_loans_count <= 1: [S1]\n",
              "                            housing = own:\n",
              "                            :...existing_loans_count > 1: no (9/1.6)\n",
              "                                existing_loans_count <= 1:\n",
              "                                :...age <= 22: yes (16.5/3.9)\n",
              "                                    age > 22:\n",
              "                                    :...checking_balance = 1 - 200 DM:\n",
              "                                        :...years_at_residence <= 1: no (9.1)\n",
              "                                        :   years_at_residence > 1: yes (25.3/11.2)\n",
              "                                        checking_balance = < 0 DM:\n",
              "                                        :...dependents > 1: no (6.8/2)\n",
              "                                            dependents <= 1: [S2]\n",
              "\n",
              "SubTree [S1]\n",
              "\n",
              "employment_duration in {> 7 years,unemployed}: no (5.2)\n",
              "employment_duration in {< 1 year,1 - 4 years,4 - 7 years}:\n",
              ":...phone = no: yes (19.9/5.2)\n",
              "    phone = yes: no (5.3/1.1)\n",
              "\n",
              "SubTree [S2]\n",
              "\n",
              "months_loan_duration <= 16: no (15.9/3.2)\n",
              "months_loan_duration > 16: yes (21.1/7.9)\n",
              "\n",
              "\n",
              "Evaluation on training data (900 cases):\n",
              "\n",
              "Trial\t    Decision Tree   \n",
              "-----\t  ----------------  \n",
              "\t  Size      Errors  \n",
              "\n",
              "   0\t    69   99(11.0%)\n",
              "   1\t    50  167(18.6%)\n",
              "   2\t    48  182(20.2%)\n",
              "   3\t    64  175(19.4%)\n",
              "   4\t    63  176(19.6%)\n",
              "   5\t    50  178(19.8%)\n",
              "   6\t    56  162(18.0%)\n",
              "   7\t    55  179(19.9%)\n",
              "   8\t    54  191(21.2%)\n",
              "   9\t    57  171(19.0%)\n",
              "boost\t         13( 1.4%)   <<\n",
              "\n",
              "\n",
              "\t   (a)   (b)    <-classified as\n",
              "\t  ----  ----\n",
              "\t   635          (a): class no\n",
              "\t    13   252    (b): class yes\n",
              "\n",
              "\n",
              "\tAttribute usage:\n",
              "\n",
              "\t100.00%\tchecking_balance\n",
              "\t100.00%\tmonths_loan_duration\n",
              "\t100.00%\temployment_duration\n",
              "\t100.00%\thousing\n",
              "\t 99.33%\tamount\n",
              "\t 98.78%\tcredit_history\n",
              "\t 94.67%\tdependents\n",
              "\t 94.00%\tsavings_balance\n",
              "\t 92.56%\tpercent_of_income\n",
              "\t 92.33%\tpurpose\n",
              "\t 90.78%\tother_credit\n",
              "\t 86.22%\tjob\n",
              "\t 85.78%\tyears_at_residence\n",
              "\t 79.00%\tage\n",
              "\t 76.33%\texisting_loans_count\n",
              "\t 56.33%\tphone\n",
              "\n",
              "\n",
              "Time: 0.1 secs\n"
            ]
          },
          "metadata": {
            "tags": []
          }
        }
      ]
    },
    {
      "cell_type": "markdown",
      "metadata": {
        "id": "kZCSYZ0aVVGb",
        "colab_type": "text"
      },
      "source": [
        "##### The classifier made 13 mistakes on 900 training sample with 1.4% error rate. This is quite an improvement over the 11.8% training error rate before adding boosting in train set. Let's see if it shows similar improvement on the test data. "
      ]
    },
    {
      "cell_type": "code",
      "metadata": {
        "id": "XhfXuFkIVVGc",
        "colab_type": "code",
        "colab": {},
        "outputId": "926d6d4a-458d-4849-b36b-ec3b959a98f3"
      },
      "source": [
        "DTboostpred = predict(DTboost, test)\n",
        "CrossTable(test$default, DTboostpred,\n",
        "           prop.chisq = FALSE, prop.r = FALSE, prop.c = FALSE,\n",
        "           dnn = c('actual default', 'predicted default'))"
      ],
      "execution_count": 0,
      "outputs": [
        {
          "output_type": "stream",
          "text": [
            "\n",
            " \n",
            "   Cell Contents\n",
            "|-------------------------|\n",
            "|                       N |\n",
            "|         N / Table Total |\n",
            "|-------------------------|\n",
            "\n",
            " \n",
            "Total Observations in Table:  100 \n",
            "\n",
            " \n",
            "               | predicted default \n",
            "actual default |        no |       yes | Row Total | \n",
            "---------------|-----------|-----------|-----------|\n",
            "            no |        52 |        13 |        65 | \n",
            "               |     0.520 |     0.130 |           | \n",
            "---------------|-----------|-----------|-----------|\n",
            "           yes |        17 |        18 |        35 | \n",
            "               |     0.170 |     0.180 |           | \n",
            "---------------|-----------|-----------|-----------|\n",
            "  Column Total |        69 |        31 |       100 | \n",
            "---------------|-----------|-----------|-----------|\n",
            "\n",
            " \n"
          ],
          "name": "stdout"
        }
      ]
    },
    {
      "cell_type": "markdown",
      "metadata": {
        "id": "cDrQTAKxVVGd",
        "colab_type": "text"
      },
      "source": [
        "#### Evaluation Adaptive Boost"
      ]
    },
    {
      "cell_type": "code",
      "metadata": {
        "id": "WFlSPBSiVVGe",
        "colab_type": "code",
        "colab": {},
        "outputId": "b0653a07-e757-4c9f-8c1d-70f393692f8c"
      },
      "source": [
        "confusionMatrix(DTboostpred, test$default)"
      ],
      "execution_count": 0,
      "outputs": [
        {
          "output_type": "display_data",
          "data": {
            "text/plain": [
              "Confusion Matrix and Statistics\n",
              "\n",
              "          Reference\n",
              "Prediction no yes\n",
              "       no  52  17\n",
              "       yes 13  18\n",
              "                                          \n",
              "               Accuracy : 0.7             \n",
              "                 95% CI : (0.6002, 0.7876)\n",
              "    No Information Rate : 0.65            \n",
              "    P-Value [Acc > NIR] : 0.1730          \n",
              "                                          \n",
              "                  Kappa : 0.3228          \n",
              "                                          \n",
              " Mcnemar's Test P-Value : 0.5839          \n",
              "                                          \n",
              "            Sensitivity : 0.8000          \n",
              "            Specificity : 0.5143          \n",
              "         Pos Pred Value : 0.7536          \n",
              "         Neg Pred Value : 0.5806          \n",
              "             Prevalence : 0.6500          \n",
              "         Detection Rate : 0.5200          \n",
              "   Detection Prevalence : 0.6900          \n",
              "      Balanced Accuracy : 0.6571          \n",
              "                                          \n",
              "       'Positive' Class : no              \n",
              "                                          "
            ]
          },
          "metadata": {
            "tags": []
          }
        }
      ]
    },
    {
      "cell_type": "markdown",
      "metadata": {
        "id": "SOzr1-5jVVGf",
        "colab_type": "text"
      },
      "source": [
        " - Here, the total error rate on test data remain similar (30% typeII error) like default DT. On the other hand, the model is\n",
        "   still not doing well at predicting defaults, predicting only 18/35 = 51.43% correctly. Though predictive power of model has\n",
        "   imporved but not signifiant. As such, boosting the model was not that useful. The overall results are similar to our\n",
        "   original/default model. The lack of signifiant improvement may be a function of our relatively small training data set, or\n",
        "   it may just be a very difficult problem to solve.\n",
        "   \n",
        "#### Rule based DT"
      ]
    },
    {
      "cell_type": "code",
      "metadata": {
        "id": "EkG9EAmxVVGg",
        "colab_type": "code",
        "colab": {},
        "outputId": "cea7b253-d31e-43c8-bb98-a5229f20bc7f"
      },
      "source": [
        "DTrule = C5.0(train[-17], train$default, rules = TRUE)\n",
        "DTrule"
      ],
      "execution_count": 0,
      "outputs": [
        {
          "output_type": "display_data",
          "data": {
            "text/plain": [
              "\n",
              "Call:\n",
              "C5.0.default(x = train[-17], y = train$default, rules = TRUE)\n",
              "\n",
              "Rule-Based Model\n",
              "Number of samples: 900 \n",
              "Number of predictors: 16 \n",
              "\n",
              "Number of Rules: 32 \n",
              "\n",
              "Non-standard options: attempt to group attributes\n"
            ]
          },
          "metadata": {
            "tags": []
          }
        }
      ]
    },
    {
      "cell_type": "code",
      "metadata": {
        "id": "c3MA5XfRVVGi",
        "colab_type": "code",
        "colab": {},
        "outputId": "1b77ee14-433a-4ed6-d147-beaa4515c46f"
      },
      "source": [
        "summary(DTrule)"
      ],
      "execution_count": 0,
      "outputs": [
        {
          "output_type": "display_data",
          "data": {
            "text/plain": [
              "\n",
              "Call:\n",
              "C5.0.default(x = train[-17], y = train$default, rules = TRUE)\n",
              "\n",
              "\n",
              "C5.0 [Release 2.07 GPL Edition]  \tTue Aug 06 14:59:07 2019\n",
              "-------------------------------\n",
              "\n",
              "Class specified by attribute `outcome'\n",
              "\n",
              "Read 900 cases (17 attributes) from undefined.data\n",
              "\n",
              "Rules:\n",
              "\n",
              "Rule 1: (35, lift 1.4)\n",
              "\tcredit_history in {critical, good, poor}\n",
              "\tsavings_balance in {< 100 DM, 100 - 500 DM, 500 - 1000 DM}\n",
              "\temployment_duration = 4 - 7 years\n",
              "\tjob in {management, unskilled}\n",
              "\t->  class no  [0.973]\n",
              "\n",
              "Rule 2: (22, lift 1.4)\n",
              "\tchecking_balance in {< 0 DM, 1 - 200 DM}\n",
              "\tcredit_history in {critical, good, poor}\n",
              "\tamount <= 6110\n",
              "\tsavings_balance in {> 1000 DM, unknown}\n",
              "\tphone = yes\n",
              "\t->  class no  [0.958]\n",
              "\n",
              "Rule 3: (17, lift 1.3)\n",
              "\tmonths_loan_duration > 15\n",
              "\tmonths_loan_duration <= 47\n",
              "\tsavings_balance in {100 - 500 DM, 500 - 1000 DM}\n",
              "\temployment_duration = 4 - 7 years\n",
              "\t->  class no  [0.947]\n",
              "\n",
              "Rule 4: (16, lift 1.3)\n",
              "\tmonths_loan_duration <= 15\n",
              "\tcredit_history = good\n",
              "\tpurpose = car\n",
              "\temployment_duration in {< 1 year, 1 - 4 years, 4 - 7 years, unemployed}\n",
              "\tyears_at_residence > 3\n",
              "\texisting_loans_count <= 1\n",
              "\t->  class no  [0.944]\n",
              "\n",
              "Rule 5: (14, lift 1.3)\n",
              "\tchecking_balance in {< 0 DM, 1 - 200 DM}\n",
              "\tmonths_loan_duration > 15\n",
              "\tcredit_history in {critical, poor}\n",
              "\tsavings_balance in {> 1000 DM, unknown}\n",
              "\t->  class no  [0.938]\n",
              "\n",
              "Rule 6: (12, lift 1.3)\n",
              "\tpurpose = education\n",
              "\tsavings_balance = unknown\n",
              "\t->  class no  [0.929]\n",
              "\n",
              "Rule 7: (71/6, lift 1.3)\n",
              "\tmonths_loan_duration > 15\n",
              "\tmonths_loan_duration <= 47\n",
              "\tcredit_history in {critical, good, poor}\n",
              "\tamount <= 6999\n",
              "\temployment_duration = > 7 years\n",
              "\tother_credit = none\n",
              "\t->  class no  [0.904]\n",
              "\n",
              "Rule 8: (141/14, lift 1.3)\n",
              "\tmonths_loan_duration <= 15\n",
              "\tcredit_history in {critical, poor}\n",
              "\t->  class no  [0.895]\n",
              "\n",
              "Rule 9: (178/23, lift 1.2)\n",
              "\tmonths_loan_duration <= 15\n",
              "\tcredit_history in {critical, good, poor}\n",
              "\tpurpose = furniture/appliances\n",
              "\tsavings_balance in {< 100 DM, > 1000 DM, 500 - 1000 DM, unknown}\n",
              "\t->  class no  [0.867]\n",
              "\n",
              "Rule 10: (412/54, lift 1.2)\n",
              "\tchecking_balance in {> 200 DM, unknown}\n",
              "\t->  class no  [0.867]\n",
              "\n",
              "Rule 11: (635/163, lift 1.1)\n",
              "\thousing = own\n",
              "\t->  class no  [0.743]\n",
              "\n",
              "Rule 12: (12, lift 3.2)\n",
              "\tchecking_balance in {< 0 DM, 1 - 200 DM}\n",
              "\tmonths_loan_duration > 22\n",
              "\tsavings_balance = < 100 DM\n",
              "\temployment_duration = 4 - 7 years\n",
              "\tjob = skilled\n",
              "\tdependents <= 1\n",
              "\t->  class yes  [0.929]\n",
              "\n",
              "Rule 13: (10, lift 3.1)\n",
              "\tcredit_history in {perfect, very good}\n",
              "\temployment_duration in {> 7 years, 1 - 4 years, 4 - 7 years}\n",
              "\thousing = other\n",
              "\t->  class yes  [0.917]\n",
              "\n",
              "Rule 14: (10, lift 3.1)\n",
              "\tchecking_balance in {< 0 DM, 1 - 200 DM}\n",
              "\tmonths_loan_duration <= 18\n",
              "\tcredit_history in {perfect, very good}\n",
              "\tpurpose = car\n",
              "\t->  class yes  [0.917]\n",
              "\n",
              "Rule 15: (9, lift 3.1)\n",
              "\tchecking_balance = 1 - 200 DM\n",
              "\tcredit_history = good\n",
              "\tamount > 9629\n",
              "\t->  class yes  [0.909]\n",
              "\n",
              "Rule 16: (7, lift 3.0)\n",
              "\tchecking_balance in {< 0 DM, 1 - 200 DM}\n",
              "\tmonths_loan_duration > 15\n",
              "\tcredit_history in {critical, good}\n",
              "\tpurpose = furniture/appliances\n",
              "\tsavings_balance in {100 - 500 DM, 500 - 1000 DM}\n",
              "\temployment_duration = 1 - 4 years\n",
              "\t->  class yes  [0.889]\n",
              "\n",
              "Rule 17: (7, lift 3.0)\n",
              "\tchecking_balance in {< 0 DM, 1 - 200 DM}\n",
              "\tmonths_loan_duration > 15\n",
              "\tcredit_history in {critical, good, poor}\n",
              "\temployment_duration = unemployed\n",
              "\tyears_at_residence <= 2\n",
              "\t->  class yes  [0.889]\n",
              "\n",
              "Rule 18: (7, lift 3.0)\n",
              "\tchecking_balance in {< 0 DM, 1 - 200 DM}\n",
              "\tmonths_loan_duration <= 15\n",
              "\tcredit_history = good\n",
              "\tpurpose = car\n",
              "\tsavings_balance = < 100 DM\n",
              "\tpercent_of_income > 2\n",
              "\tyears_at_residence <= 3\n",
              "\t->  class yes  [0.889]\n",
              "\n",
              "Rule 19: (16/1, lift 3.0)\n",
              "\tchecking_balance in {< 0 DM, 1 - 200 DM}\n",
              "\tcredit_history in {perfect, very good}\n",
              "\thousing = rent\n",
              "\t->  class yes  [0.889]\n",
              "\n",
              "Rule 20: (15/1, lift 3.0)\n",
              "\tchecking_balance in {< 0 DM, 1 - 200 DM}\n",
              "\tmonths_loan_duration > 15\n",
              "\tsavings_balance in {< 100 DM, 100 - 500 DM, 500 - 1000 DM}\n",
              "\temployment_duration = < 1 year\n",
              "\tpercent_of_income > 2\n",
              "\tyears_at_residence > 1\n",
              "\tjob = skilled\n",
              "\t->  class yes  [0.882]\n",
              "\n",
              "Rule 21: (6, lift 3.0)\n",
              "\tchecking_balance in {< 0 DM, 1 - 200 DM}\n",
              "\tmonths_loan_duration > 15\n",
              "\tcredit_history in {critical, good, poor}\n",
              "\tsavings_balance = < 100 DM\n",
              "\temployment_duration = > 7 years\n",
              "\tother_credit = bank\n",
              "\tjob = skilled\n",
              "\t->  class yes  [0.875]\n",
              "\n",
              "Rule 22: (6, lift 3.0)\n",
              "\tchecking_balance = < 0 DM\n",
              "\tmonths_loan_duration > 15\n",
              "\tcredit_history in {critical, good, poor}\n",
              "\tpurpose = car\n",
              "\temployment_duration = 1 - 4 years\n",
              "\tphone = no\n",
              "\t->  class yes  [0.875]\n",
              "\n",
              "Rule 23: (6, lift 3.0)\n",
              "\tchecking_balance in {< 0 DM, 1 - 200 DM}\n",
              "\tcredit_history in {perfect, very good}\n",
              "\tpurpose = furniture/appliances\n",
              "\tother_credit in {bank, none}\n",
              "\thousing = own\n",
              "\texisting_loans_count <= 1\n",
              "\t->  class yes  [0.875]\n",
              "\n",
              "Rule 24: (5, lift 2.9)\n",
              "\tchecking_balance in {< 0 DM, 1 - 200 DM}\n",
              "\tmonths_loan_duration > 15\n",
              "\tpurpose = education\n",
              "\tsavings_balance in {< 100 DM, 100 - 500 DM}\n",
              "\temployment_duration = 1 - 4 years\n",
              "\t->  class yes  [0.857]\n",
              "\n",
              "Rule 25: (12/1, lift 2.9)\n",
              "\tchecking_balance in {< 0 DM, 1 - 200 DM}\n",
              "\tmonths_loan_duration > 15\n",
              "\tmonths_loan_duration <= 22\n",
              "\tcredit_history in {critical, good}\n",
              "\tpurpose = furniture/appliances\n",
              "\tsavings_balance = < 100 DM\n",
              "\temployment_duration = 1 - 4 years\n",
              "\t->  class yes  [0.857]\n",
              "\n",
              "Rule 26: (12/1, lift 2.9)\n",
              "\tchecking_balance in {< 0 DM, 1 - 200 DM}\n",
              "\tmonths_loan_duration > 15\n",
              "\tcredit_history in {critical, good, poor}\n",
              "\tsavings_balance in {< 100 DM, 100 - 500 DM}\n",
              "\temployment_duration = < 1 year\n",
              "\tyears_at_residence > 1\n",
              "\tjob in {management, unskilled}\n",
              "\t->  class yes  [0.857]\n",
              "\n",
              "Rule 27: (23/3, lift 2.9)\n",
              "\tchecking_balance in {< 0 DM, 1 - 200 DM}\n",
              "\tmonths_loan_duration > 47\n",
              "\tcredit_history in {critical, good, poor}\n",
              "\tsavings_balance in {< 100 DM, 100 - 500 DM}\n",
              "\t->  class yes  [0.840]\n",
              "\n",
              "Rule 28: (4, lift 2.8)\n",
              "\tchecking_balance in {< 0 DM, 1 - 200 DM}\n",
              "\tmonths_loan_duration <= 15\n",
              "\tcredit_history = good\n",
              "\tpurpose = car\n",
              "\tsavings_balance = < 100 DM\n",
              "\temployment_duration = > 7 years\n",
              "\t->  class yes  [0.833]\n",
              "\n",
              "Rule 29: (3, lift 2.7)\n",
              "\tchecking_balance = < 0 DM\n",
              "\tmonths_loan_duration <= 15\n",
              "\tpurpose = furniture/appliances\n",
              "\tsavings_balance = 100 - 500 DM\n",
              "\t->  class yes  [0.800]\n",
              "\n",
              "Rule 30: (3, lift 2.7)\n",
              "\tchecking_balance in {< 0 DM, 1 - 200 DM}\n",
              "\tcredit_history in {perfect, very good}\n",
              "\tpurpose in {car0, renovations}\n",
              "\t->  class yes  [0.800]\n",
              "\n",
              "Rule 31: (7/1, lift 2.6)\n",
              "\tchecking_balance in {< 0 DM, 1 - 200 DM}\n",
              "\tmonths_loan_duration <= 15\n",
              "\tcredit_history in {critical, good}\n",
              "\tpurpose = education\n",
              "\tsavings_balance in {< 100 DM, > 1000 DM}\n",
              "\t->  class yes  [0.778]\n",
              "\n",
              "Rule 32: (290/139, lift 1.8)\n",
              "\tchecking_balance in {< 0 DM, 1 - 200 DM}\n",
              "\tmonths_loan_duration > 15\n",
              "\t->  class yes  [0.521]\n",
              "\n",
              "Default class: no\n",
              "\n",
              "\n",
              "Evaluation on training data (900 cases):\n",
              "\n",
              "\t        Rules     \n",
              "\t  ----------------\n",
              "\t    No      Errors\n",
              "\n",
              "\t    32  126(14.0%)   <<\n",
              "\n",
              "\n",
              "\t   (a)   (b)    <-classified as\n",
              "\t  ----  ----\n",
              "\t   610    25    (a): class no\n",
              "\t   101   164    (b): class yes\n",
              "\n",
              "\n",
              "\tAttribute usage:\n",
              "\n",
              "\t 82.78%\tchecking_balance\n",
              "\t 73.44%\thousing\n",
              "\t 71.11%\tmonths_loan_duration\n",
              "\t 57.89%\tcredit_history\n",
              "\t 40.33%\tsavings_balance\n",
              "\t 30.67%\tpurpose\n",
              "\t 25.56%\temployment_duration\n",
              "\t 11.00%\tamount\n",
              "\t  9.22%\tother_credit\n",
              "\t  8.89%\tjob\n",
              "\t  6.33%\tyears_at_residence\n",
              "\t  3.11%\tphone\n",
              "\t  2.44%\tpercent_of_income\n",
              "\t  2.44%\texisting_loans_count\n",
              "\t  1.33%\tdependents\n",
              "\n",
              "\n",
              "Time: 0.0 secs\n"
            ]
          },
          "metadata": {
            "tags": []
          }
        }
      ]
    },
    {
      "cell_type": "markdown",
      "metadata": {
        "id": "nXpcABaMVVGl",
        "colab_type": "text"
      },
      "source": [
        "We can see that 32 sets of rules are created with top most rule as \n",
        " - credit_history in {critical, good, poor}\n",
        " - savings_balance in {< 100 DM, 100 - 500 DM, 500 - 1000 DM}\n",
        " - employment_duration = 4 - 7 years\n",
        " - job in {management, unskilled}\n",
        " \n",
        "But the error rate has gone upto 14%. Let's see the model performance on test data."
      ]
    },
    {
      "cell_type": "code",
      "metadata": {
        "id": "Q0LSOkLHVVGm",
        "colab_type": "code",
        "colab": {},
        "outputId": "ded400d4-d9b4-4a2d-8df5-cd6ba8a62592"
      },
      "source": [
        "DTrulepred = predict(DTrule, test)\n",
        "CrossTable(test$default, DTrulepred,\n",
        "           prop.chisq = FALSE, prop.r = FALSE, prop.c = FALSE,\n",
        "           dnn = c('actual default', 'predicted default'))"
      ],
      "execution_count": 0,
      "outputs": [
        {
          "output_type": "stream",
          "text": [
            "\n",
            " \n",
            "   Cell Contents\n",
            "|-------------------------|\n",
            "|                       N |\n",
            "|         N / Table Total |\n",
            "|-------------------------|\n",
            "\n",
            " \n",
            "Total Observations in Table:  100 \n",
            "\n",
            " \n",
            "               | predicted default \n",
            "actual default |        no |       yes | Row Total | \n",
            "---------------|-----------|-----------|-----------|\n",
            "            no |        57 |         8 |        65 | \n",
            "               |     0.570 |     0.080 |           | \n",
            "---------------|-----------|-----------|-----------|\n",
            "           yes |        19 |        16 |        35 | \n",
            "               |     0.190 |     0.160 |           | \n",
            "---------------|-----------|-----------|-----------|\n",
            "  Column Total |        76 |        24 |       100 | \n",
            "---------------|-----------|-----------|-----------|\n",
            "\n",
            " \n"
          ],
          "name": "stdout"
        }
      ]
    },
    {
      "cell_type": "code",
      "metadata": {
        "id": "nPvx5Ym6VVGp",
        "colab_type": "code",
        "colab": {},
        "outputId": "883f556d-fb89-4db1-ad00-30e5792cb5c6"
      },
      "source": [
        "confusionMatrix(DTrulepred, test$default)"
      ],
      "execution_count": 0,
      "outputs": [
        {
          "output_type": "display_data",
          "data": {
            "text/plain": [
              "Confusion Matrix and Statistics\n",
              "\n",
              "          Reference\n",
              "Prediction no yes\n",
              "       no  57  19\n",
              "       yes  8  16\n",
              "                                         \n",
              "               Accuracy : 0.73           \n",
              "                 95% CI : (0.632, 0.8139)\n",
              "    No Information Rate : 0.65           \n",
              "    P-Value [Acc > NIR] : 0.05581        \n",
              "                                         \n",
              "                  Kappa : 0.3602         \n",
              "                                         \n",
              " Mcnemar's Test P-Value : 0.05429        \n",
              "                                         \n",
              "            Sensitivity : 0.8769         \n",
              "            Specificity : 0.4571         \n",
              "         Pos Pred Value : 0.7500         \n",
              "         Neg Pred Value : 0.6667         \n",
              "             Prevalence : 0.6500         \n",
              "         Detection Rate : 0.5700         \n",
              "   Detection Prevalence : 0.7600         \n",
              "      Balanced Accuracy : 0.6670         \n",
              "                                         \n",
              "       'Positive' Class : no             \n",
              "                                         "
            ]
          },
          "metadata": {
            "tags": []
          }
        }
      ]
    },
    {
      "cell_type": "markdown",
      "metadata": {
        "id": "wQr3S-MCVVGq",
        "colab_type": "text"
      },
      "source": [
        "Here, we see that, on test data, the overall accuracy has gone upto 73%. The total error rate on test data is reduced to 27% typeII error). This model corrrectly predicted 16 of 35 application with 45.71% accuracy. Let's dig into more details to decide on the right model.\n",
        "\n",
        "### Diagnostic analytic\n",
        "\n",
        "##### Making mistakes more costlier than others\n",
        "Giving a loan out to an applicant who is likely to default can be an expensive mistake. One solution to reduce the number of false negatives may be to reject a larger number of borderline applicants, under the assumption that the interest the bank would earn from a risky loan is far outweighed by the massive loss it would incur if the money is not paid back at all.\n",
        "\n",
        "Four types of credit default:\n",
        " - Predicted no, actual no\n",
        " - Predicted yes, actual no\n",
        " - Predicted no, actual yes\n",
        " - Predicted yes, actual yes\n",
        " - Creating Matrix dimensions\n",
        "\n",
        "A cost matrix will specify how much costlier each errors is"
      ]
    },
    {
      "cell_type": "code",
      "metadata": {
        "id": "30wB4XRcVVGr",
        "colab_type": "code",
        "colab": {},
        "outputId": "38cbfdd2-d823-48c2-b1ac-2f75f0a26a08"
      },
      "source": [
        "matrix = list(c(\"no\", \"yes\"), c(\"no\", \"yes\"))\n",
        "names(matrix) = c(\"predicted\", \"actual\")\n",
        "matrix"
      ],
      "execution_count": 0,
      "outputs": [
        {
          "output_type": "display_data",
          "data": {
            "text/html": [
              "<dl>\n",
              "\t<dt>$predicted</dt>\n",
              "\t\t<dd><ol class=list-inline>\n",
              "\t<li>'no'</li>\n",
              "\t<li>'yes'</li>\n",
              "</ol>\n",
              "</dd>\n",
              "\t<dt>$actual</dt>\n",
              "\t\t<dd><ol class=list-inline>\n",
              "\t<li>'no'</li>\n",
              "\t<li>'yes'</li>\n",
              "</ol>\n",
              "</dd>\n",
              "</dl>\n"
            ],
            "text/latex": "\\begin{description}\n\\item[\\$predicted] \\begin{enumerate*}\n\\item 'no'\n\\item 'yes'\n\\end{enumerate*}\n\n\\item[\\$actual] \\begin{enumerate*}\n\\item 'no'\n\\item 'yes'\n\\end{enumerate*}\n\n\\end{description}\n",
            "text/markdown": "$predicted\n:   1. 'no'\n2. 'yes'\n\n\n\n$actual\n:   1. 'no'\n2. 'yes'\n\n\n\n\n\n",
            "text/plain": [
              "$predicted\n",
              "[1] \"no\"  \"yes\"\n",
              "\n",
              "$actual\n",
              "[1] \"no\"  \"yes\"\n"
            ]
          },
          "metadata": {
            "tags": []
          }
        }
      ]
    },
    {
      "cell_type": "markdown",
      "metadata": {
        "id": "jVdoU0zKVVGs",
        "colab_type": "text"
      },
      "source": [
        " - Suppose a loan default costs the bank four times as much as a missed opportunity. The penalty values could then be defined \n",
        "   as:"
      ]
    },
    {
      "cell_type": "code",
      "metadata": {
        "id": "Sk7NDbOIVVGs",
        "colab_type": "code",
        "colab": {},
        "outputId": "5c5d7a04-2f71-4f30-ef37-21ac0bf159ec"
      },
      "source": [
        "err_cost = matrix(c(0, 1, 4, 0), nrow = 2, dimnames = matrix)\n",
        "credit_cost = C5.0(train[-17], train$default, cost = err_cost)\n",
        "err_cost"
      ],
      "execution_count": 0,
      "outputs": [
        {
          "output_type": "display_data",
          "data": {
            "text/html": [
              "<table>\n",
              "<thead><tr><th></th><th scope=col>no</th><th scope=col>yes</th></tr></thead>\n",
              "<tbody>\n",
              "\t<tr><th scope=row>no</th><td>0</td><td>4</td></tr>\n",
              "\t<tr><th scope=row>yes</th><td>1</td><td>0</td></tr>\n",
              "</tbody>\n",
              "</table>\n"
            ],
            "text/latex": "\\begin{tabular}{r|ll}\n  & no & yes\\\\\n\\hline\n\tno & 0 & 4\\\\\n\tyes & 1 & 0\\\\\n\\end{tabular}\n",
            "text/markdown": "\n| <!--/--> | no | yes |\n|---|---|---|\n| no | 0 | 4 |\n| yes | 1 | 0 |\n\n",
            "text/plain": [
              "         actual\n",
              "predicted no yes\n",
              "      no  0  4  \n",
              "      yes 1  0  "
            ]
          },
          "metadata": {
            "tags": []
          }
        }
      ]
    },
    {
      "cell_type": "markdown",
      "metadata": {
        "id": "m-RnaGxaVVGv",
        "colab_type": "text"
      },
      "source": [
        " - As defined by this matrix, there is no cost assigned when the algorithm classifies a no or yes correctly, but a false\n",
        "   negative has a cost of 4 versus a false positive’s cost of 1."
      ]
    },
    {
      "cell_type": "code",
      "metadata": {
        "id": "rIOlIomlVVGv",
        "colab_type": "code",
        "colab": {},
        "outputId": "680e4940-63a6-415e-ffbf-9cdd86e6467c"
      },
      "source": [
        "cost_pred = predict(credit_cost, test)\n",
        "CrossTable(test$default, cost_pred,\n",
        "           prop.chisq = FALSE, prop.c = FALSE, prop.r = FALSE,\n",
        "           dnn = c('actual default', 'predicted default'))"
      ],
      "execution_count": 0,
      "outputs": [
        {
          "output_type": "stream",
          "text": [
            "\n",
            " \n",
            "   Cell Contents\n",
            "|-------------------------|\n",
            "|                       N |\n",
            "|         N / Table Total |\n",
            "|-------------------------|\n",
            "\n",
            " \n",
            "Total Observations in Table:  100 \n",
            "\n",
            " \n",
            "               | predicted default \n",
            "actual default |        no |       yes | Row Total | \n",
            "---------------|-----------|-----------|-----------|\n",
            "            no |        39 |        26 |        65 | \n",
            "               |     0.390 |     0.260 |           | \n",
            "---------------|-----------|-----------|-----------|\n",
            "           yes |         7 |        28 |        35 | \n",
            "               |     0.070 |     0.280 |           | \n",
            "---------------|-----------|-----------|-----------|\n",
            "  Column Total |        46 |        54 |       100 | \n",
            "---------------|-----------|-----------|-----------|\n",
            "\n",
            " \n"
          ],
          "name": "stdout"
        }
      ]
    },
    {
      "cell_type": "code",
      "metadata": {
        "id": "_dNYql6zVVGx",
        "colab_type": "code",
        "colab": {},
        "outputId": "6b22dda6-1950-4b0b-e00c-9d44c96b865c"
      },
      "source": [
        "confusionMatrix(cost_pred, test$default)"
      ],
      "execution_count": 0,
      "outputs": [
        {
          "output_type": "display_data",
          "data": {
            "text/plain": [
              "Confusion Matrix and Statistics\n",
              "\n",
              "          Reference\n",
              "Prediction no yes\n",
              "       no  39   7\n",
              "       yes 26  28\n",
              "                                          \n",
              "               Accuracy : 0.67            \n",
              "                 95% CI : (0.5688, 0.7608)\n",
              "    No Information Rate : 0.65            \n",
              "    P-Value [Acc > NIR] : 0.380291        \n",
              "                                          \n",
              "                  Kappa : 0.3555          \n",
              "                                          \n",
              " Mcnemar's Test P-Value : 0.001728        \n",
              "                                          \n",
              "            Sensitivity : 0.6000          \n",
              "            Specificity : 0.8000          \n",
              "         Pos Pred Value : 0.8478          \n",
              "         Neg Pred Value : 0.5185          \n",
              "             Prevalence : 0.6500          \n",
              "         Detection Rate : 0.3900          \n",
              "   Detection Prevalence : 0.4600          \n",
              "      Balanced Accuracy : 0.7000          \n",
              "                                          \n",
              "       'Positive' Class : no              \n",
              "                                          "
            ]
          },
          "metadata": {
            "tags": []
          }
        }
      ]
    },
    {
      "cell_type": "markdown",
      "metadata": {
        "id": "nueZYyiEVVG0",
        "colab_type": "text"
      },
      "source": [
        " - With the addition of error cost in the Cross Table, the overall number of mistakes increased. There’s 33% margin of error\n",
        "   among applicants; the boosted case had 30% margin of error. However, the types of mistakes are very different. Where the\n",
        "   previous models incorrectly classified only 42.85% and 51.43% of defaults correctly, in this model, 80% (28/35) of the\n",
        "   actual defaults were predicted to be non-defaults. This trade resulting in a reduction of false negatives at the expense of\n",
        "   increasing false positives may be acceptable if our cost estimates were accurate. Although the error is the largest out of\n",
        "   three models, this model is the best in minimizing wrong prediction on default status which result in a false negative since\n",
        "   a bank will experience more loss on these cases.\n",
        "## Random Forest"
      ]
    },
    {
      "cell_type": "code",
      "metadata": {
        "id": "2bHb3eAjVVG0",
        "colab_type": "code",
        "colab": {},
        "outputId": "2874edc3-ed3d-42af-a406-4a526810b0ed"
      },
      "source": [
        "install.packages('mlbench')"
      ],
      "execution_count": 0,
      "outputs": [
        {
          "output_type": "stream",
          "text": [
            "package 'mlbench' successfully unpacked and MD5 sums checked\n",
            "\n",
            "The downloaded binary packages are in\n",
            "\tC:\\Users\\Sarit\\AppData\\Local\\Temp\\RtmpO2aNXG\\downloaded_packages\n"
          ],
          "name": "stdout"
        }
      ]
    },
    {
      "cell_type": "code",
      "metadata": {
        "id": "2X_R1YvUVVG1",
        "colab_type": "code",
        "colab": {},
        "outputId": "ed0900bb-3a98-4d68-d056-8b3744e23572"
      },
      "source": [
        "library(mlbench)\n",
        "library(caret)"
      ],
      "execution_count": 0,
      "outputs": [
        {
          "output_type": "stream",
          "text": [
            "Warning message:\n",
            "\"package 'mlbench' was built under R version 3.6.1\""
          ],
          "name": "stderr"
        }
      ]
    },
    {
      "cell_type": "code",
      "metadata": {
        "id": "_MRipvEsVVG3",
        "colab_type": "code",
        "colab": {},
        "outputId": "34cff8eb-1b22-4bc9-c8ee-72a02edd7f3a"
      },
      "source": [
        "install.packages(\"rpart\")"
      ],
      "execution_count": 0,
      "outputs": [
        {
          "output_type": "stream",
          "text": [
            "package 'rpart' successfully unpacked and MD5 sums checked\n"
          ],
          "name": "stdout"
        },
        {
          "output_type": "stream",
          "text": [
            "Warning message:\n",
            "\"cannot remove prior installation of package 'rpart'\""
          ],
          "name": "stderr"
        },
        {
          "output_type": "stream",
          "text": [
            "\n",
            "The downloaded binary packages are in\n",
            "\tC:\\Users\\Sarit\\AppData\\Local\\Temp\\RtmpO2aNXG\\downloaded_packages\n"
          ],
          "name": "stdout"
        }
      ]
    },
    {
      "cell_type": "code",
      "metadata": {
        "id": "mh2kXi4NVVG4",
        "colab_type": "code",
        "colab": {},
        "outputId": "1445f978-189f-48fa-afef-4f339503944b"
      },
      "source": [
        "install.packages('svmRadial')"
      ],
      "execution_count": 0,
      "outputs": [
        {
          "output_type": "stream",
          "text": [
            "Warning message:\n",
            "\"package 'svmRadial' is not available (for R version 3.6.0)\""
          ],
          "name": "stderr"
        }
      ]
    },
    {
      "cell_type": "code",
      "metadata": {
        "id": "clpnKwZoVVG5",
        "colab_type": "code",
        "colab": {}
      },
      "source": [
        "library(class)"
      ],
      "execution_count": 0,
      "outputs": []
    },
    {
      "cell_type": "code",
      "metadata": {
        "id": "KieTUdlTVVG6",
        "colab_type": "code",
        "colab": {},
        "outputId": "de60cd8f-f0c1-44ca-fbb9-1602572cbb7b"
      },
      "source": [
        "library(randomForest)"
      ],
      "execution_count": 0,
      "outputs": [
        {
          "output_type": "stream",
          "text": [
            "randomForest 4.6-14\n",
            "Type rfNews() to see new features/changes/bug fixes.\n",
            "\n",
            "Attaching package: 'randomForest'\n",
            "\n",
            "The following object is masked from 'package:ggplot2':\n",
            "\n",
            "    margin\n",
            "\n",
            "The following object is masked from 'package:dplyr':\n",
            "\n",
            "    combine\n",
            "\n"
          ],
          "name": "stderr"
        }
      ]
    },
    {
      "cell_type": "code",
      "metadata": {
        "id": "X1TBhAtYVVG8",
        "colab_type": "code",
        "colab": {},
        "outputId": "6aa1a039-c705-4c61-99ea-876364d8a84f"
      },
      "source": [
        "glimpse(train)"
      ],
      "execution_count": 0,
      "outputs": [
        {
          "output_type": "stream",
          "text": [
            "Observations: 900\n",
            "Variables: 17\n",
            "$ checking_balance     <fct> < 0 DM, 1 - 200 DM, unknown, 1 - 200 DM, 1 - 2...\n",
            "$ months_loan_duration <int> 24, 12, 12, 26, 45, 6, 6, 10, 18, 9, 12, 24, 6...\n",
            "$ credit_history       <fct> good, good, good, good, good, good, critical, ...\n",
            "$ purpose              <fct> car, furniture/appliances, furniture/appliance...\n",
            "$ amount               <int> 1381, 3017, 1963, 7966, 3031, 2063, 1554, 2132...\n",
            "$ savings_balance      <fct> unknown, < 100 DM, < 100 DM, < 100 DM, 100 - 5...\n",
            "$ employment_duration  <fct> 1 - 4 years, < 1 year, 4 - 7 years, < 1 year, ...\n",
            "$ percent_of_income    <int> 4, 3, 4, 2, 4, 4, 1, 2, 3, 4, 3, 4, 2, 2, 4, 4...\n",
            "$ years_at_residence   <int> 2, 1, 2, 3, 4, 3, 2, 3, 4, 2, 2, 4, 4, 4, 1, 4...\n",
            "$ age                  <int> 35, 34, 31, 30, 21, 30, 24, 27, 43, 22, 27, 60...\n",
            "$ other_credit         <fct> none, none, none, none, none, none, none, none...\n",
            "$ housing              <fct> own, rent, rent, own, rent, rent, rent, rent, ...\n",
            "$ existing_loans_count <int> 1, 1, 2, 2, 1, 1, 2, 2, 1, 1, 2, 2, 1, 1, 1, 1...\n",
            "$ job                  <fct> skilled, management, management, skilled, skil...\n",
            "$ dependents           <int> 1, 1, 2, 1, 1, 1, 1, 1, 1, 1, 1, 1, 1, 1, 1, 1...\n",
            "$ phone                <fct> no, no, yes, no, no, yes, yes, no, yes, no, no...\n",
            "$ default              <fct> yes, no, no, no, yes, no, no, no, no, yes, no,...\n"
          ],
          "name": "stdout"
        }
      ]
    },
    {
      "cell_type": "code",
      "metadata": {
        "id": "7lVjuwZRVVG9",
        "colab_type": "code",
        "colab": {},
        "outputId": "cc651776-0535-43c6-87f7-ba7be1204872"
      },
      "source": [
        "head(train)"
      ],
      "execution_count": 0,
      "outputs": [
        {
          "output_type": "display_data",
          "data": {
            "text/html": [
              "<table>\n",
              "<thead><tr><th></th><th scope=col>checking_balance</th><th scope=col>months_loan_duration</th><th scope=col>credit_history</th><th scope=col>purpose</th><th scope=col>amount</th><th scope=col>savings_balance</th><th scope=col>employment_duration</th><th scope=col>percent_of_income</th><th scope=col>years_at_residence</th><th scope=col>age</th><th scope=col>other_credit</th><th scope=col>housing</th><th scope=col>existing_loans_count</th><th scope=col>job</th><th scope=col>dependents</th><th scope=col>phone</th><th scope=col>default</th></tr></thead>\n",
              "<tbody>\n",
              "\t<tr><th scope=row>415</th><td><span style=white-space:pre-wrap>&lt; 0 DM    </span>       </td><td>24                                                          </td><td>good                                                        </td><td><span style=white-space:pre-wrap>car                 </span></td><td>1381                                                        </td><td><span style=white-space:pre-wrap>unknown     </span>        </td><td>1 - 4 years                                                 </td><td>4                                                           </td><td>2                                                           </td><td>35                                                          </td><td>none                                                        </td><td>own                                                         </td><td>1                                                           </td><td><span style=white-space:pre-wrap>skilled   </span>          </td><td>1                                                           </td><td>no                                                          </td><td>yes                                                         </td></tr>\n",
              "\t<tr><th scope=row>463</th><td>1 - 200 DM                                             </td><td>12                                                     </td><td>good                                                   </td><td>furniture/appliances                                   </td><td>3017                                                   </td><td><span style=white-space:pre-wrap>&lt; 100 DM    </span></td><td><span style=white-space:pre-wrap>&lt; 1 year   </span> </td><td>3                                                      </td><td>1                                                      </td><td>34                                                     </td><td>none                                                   </td><td>rent                                                   </td><td>1                                                      </td><td>management                                             </td><td>1                                                      </td><td>no                                                     </td><td>no                                                     </td></tr>\n",
              "\t<tr><th scope=row>179</th><td><span style=white-space:pre-wrap>unknown   </span>     </td><td>12                                                     </td><td>good                                                   </td><td>furniture/appliances                                   </td><td>1963                                                   </td><td><span style=white-space:pre-wrap>&lt; 100 DM    </span></td><td>4 - 7 years                                            </td><td>4                                                      </td><td>2                                                      </td><td>31                                                     </td><td>none                                                   </td><td>rent                                                   </td><td>2                                                      </td><td>management                                             </td><td>2                                                      </td><td>yes                                                    </td><td>no                                                     </td></tr>\n",
              "\t<tr><th scope=row>526</th><td>1 - 200 DM                                                  </td><td>26                                                          </td><td>good                                                        </td><td><span style=white-space:pre-wrap>car                 </span></td><td>7966                                                        </td><td><span style=white-space:pre-wrap>&lt; 100 DM    </span>     </td><td><span style=white-space:pre-wrap>&lt; 1 year   </span>      </td><td>2                                                           </td><td>3                                                           </td><td>30                                                          </td><td>none                                                        </td><td>own                                                         </td><td>2                                                           </td><td><span style=white-space:pre-wrap>skilled   </span>          </td><td>1                                                           </td><td>no                                                          </td><td>no                                                          </td></tr>\n",
              "\t<tr><th scope=row>195</th><td>1 - 200 DM          </td><td>45                  </td><td>good                </td><td>furniture/appliances</td><td>3031                </td><td>100 - 500 DM        </td><td>1 - 4 years         </td><td>4                   </td><td>4                   </td><td>21                  </td><td>none                </td><td>rent                </td><td>1                   </td><td>skilled             </td><td>1                   </td><td>no                  </td><td>yes                 </td></tr>\n",
              "\t<tr><th scope=row>938</th><td>1 - 200 DM                                             </td><td> 6                                                     </td><td>good                                                   </td><td>furniture/appliances                                   </td><td>2063                                                   </td><td><span style=white-space:pre-wrap>&lt; 100 DM    </span></td><td><span style=white-space:pre-wrap>&lt; 1 year   </span> </td><td>4                                                      </td><td>3                                                      </td><td>30                                                     </td><td>none                                                   </td><td>rent                                                   </td><td>1                                                      </td><td>management                                             </td><td>1                                                      </td><td>yes                                                    </td><td>no                                                     </td></tr>\n",
              "</tbody>\n",
              "</table>\n"
            ],
            "text/latex": "\\begin{tabular}{r|lllllllllllllllll}\n  & checking\\_balance & months\\_loan\\_duration & credit\\_history & purpose & amount & savings\\_balance & employment\\_duration & percent\\_of\\_income & years\\_at\\_residence & age & other\\_credit & housing & existing\\_loans\\_count & job & dependents & phone & default\\\\\n\\hline\n\t415 & < 0 DM               & 24                   & good                 & car                  & 1381                 & unknown              & 1 - 4 years          & 4                    & 2                    & 35                   & none                 & own                  & 1                    & skilled              & 1                    & no                   & yes                 \\\\\n\t463 & 1 - 200 DM           & 12                   & good                 & furniture/appliances & 3017                 & < 100 DM             & < 1 year             & 3                    & 1                    & 34                   & none                 & rent                 & 1                    & management           & 1                    & no                   & no                  \\\\\n\t179 & unknown              & 12                   & good                 & furniture/appliances & 1963                 & < 100 DM             & 4 - 7 years          & 4                    & 2                    & 31                   & none                 & rent                 & 2                    & management           & 2                    & yes                  & no                  \\\\\n\t526 & 1 - 200 DM           & 26                   & good                 & car                  & 7966                 & < 100 DM             & < 1 year             & 2                    & 3                    & 30                   & none                 & own                  & 2                    & skilled              & 1                    & no                   & no                  \\\\\n\t195 & 1 - 200 DM           & 45                   & good                 & furniture/appliances & 3031                 & 100 - 500 DM         & 1 - 4 years          & 4                    & 4                    & 21                   & none                 & rent                 & 1                    & skilled              & 1                    & no                   & yes                 \\\\\n\t938 & 1 - 200 DM           &  6                   & good                 & furniture/appliances & 2063                 & < 100 DM             & < 1 year             & 4                    & 3                    & 30                   & none                 & rent                 & 1                    & management           & 1                    & yes                  & no                  \\\\\n\\end{tabular}\n",
            "text/markdown": "\n| <!--/--> | checking_balance | months_loan_duration | credit_history | purpose | amount | savings_balance | employment_duration | percent_of_income | years_at_residence | age | other_credit | housing | existing_loans_count | job | dependents | phone | default |\n|---|---|---|---|---|---|---|---|---|---|---|---|---|---|---|---|---|---|\n| 415 | < 0 DM               | 24                   | good                 | car                  | 1381                 | unknown              | 1 - 4 years          | 4                    | 2                    | 35                   | none                 | own                  | 1                    | skilled              | 1                    | no                   | yes                  |\n| 463 | 1 - 200 DM           | 12                   | good                 | furniture/appliances | 3017                 | < 100 DM             | < 1 year             | 3                    | 1                    | 34                   | none                 | rent                 | 1                    | management           | 1                    | no                   | no                   |\n| 179 | unknown              | 12                   | good                 | furniture/appliances | 1963                 | < 100 DM             | 4 - 7 years          | 4                    | 2                    | 31                   | none                 | rent                 | 2                    | management           | 2                    | yes                  | no                   |\n| 526 | 1 - 200 DM           | 26                   | good                 | car                  | 7966                 | < 100 DM             | < 1 year             | 2                    | 3                    | 30                   | none                 | own                  | 2                    | skilled              | 1                    | no                   | no                   |\n| 195 | 1 - 200 DM           | 45                   | good                 | furniture/appliances | 3031                 | 100 - 500 DM         | 1 - 4 years          | 4                    | 4                    | 21                   | none                 | rent                 | 1                    | skilled              | 1                    | no                   | yes                  |\n| 938 | 1 - 200 DM           |  6                   | good                 | furniture/appliances | 2063                 | < 100 DM             | < 1 year             | 4                    | 3                    | 30                   | none                 | rent                 | 1                    | management           | 1                    | yes                  | no                   |\n\n",
            "text/plain": [
              "    checking_balance months_loan_duration credit_history purpose             \n",
              "415 < 0 DM           24                   good           car                 \n",
              "463 1 - 200 DM       12                   good           furniture/appliances\n",
              "179 unknown          12                   good           furniture/appliances\n",
              "526 1 - 200 DM       26                   good           car                 \n",
              "195 1 - 200 DM       45                   good           furniture/appliances\n",
              "938 1 - 200 DM        6                   good           furniture/appliances\n",
              "    amount savings_balance employment_duration percent_of_income\n",
              "415 1381   unknown         1 - 4 years         4                \n",
              "463 3017   < 100 DM        < 1 year            3                \n",
              "179 1963   < 100 DM        4 - 7 years         4                \n",
              "526 7966   < 100 DM        < 1 year            2                \n",
              "195 3031   100 - 500 DM    1 - 4 years         4                \n",
              "938 2063   < 100 DM        < 1 year            4                \n",
              "    years_at_residence age other_credit housing existing_loans_count job       \n",
              "415 2                  35  none         own     1                    skilled   \n",
              "463 1                  34  none         rent    1                    management\n",
              "179 2                  31  none         rent    2                    management\n",
              "526 3                  30  none         own     2                    skilled   \n",
              "195 4                  21  none         rent    1                    skilled   \n",
              "938 3                  30  none         rent    1                    management\n",
              "    dependents phone default\n",
              "415 1          no    yes    \n",
              "463 1          no    no     \n",
              "179 2          yes   no     \n",
              "526 1          no    no     \n",
              "195 1          no    yes    \n",
              "938 1          yes   no     "
            ]
          },
          "metadata": {
            "tags": []
          }
        }
      ]
    },
    {
      "cell_type": "code",
      "metadata": {
        "id": "GprHJU4sVVG-",
        "colab_type": "code",
        "colab": {},
        "outputId": "ac02a63c-ae70-41b8-8fea-f7eb678a80d8"
      },
      "source": [
        "library(randomForest)"
      ],
      "execution_count": 0,
      "outputs": [
        {
          "output_type": "stream",
          "text": [
            "randomForest 4.6-14\n",
            "Type rfNews() to see new features/changes/bug fixes.\n",
            "\n",
            "Attaching package: 'randomForest'\n",
            "\n",
            "The following object is masked from 'package:ggplot2':\n",
            "\n",
            "    margin\n",
            "\n",
            "The following object is masked from 'package:dplyr':\n",
            "\n",
            "    combine\n",
            "\n"
          ],
          "name": "stderr"
        }
      ]
    },
    {
      "cell_type": "code",
      "metadata": {
        "id": "GbfT_KaEVVHA",
        "colab_type": "code",
        "colab": {},
        "outputId": "20cdda47-6f46-4d92-bcce-3f8c1cff572e"
      },
      "source": [
        "library(caret)\n",
        "library(e1071)"
      ],
      "execution_count": 0,
      "outputs": [
        {
          "output_type": "error",
          "ename": "ERROR",
          "evalue": "Error in library(e1071): there is no package called 'e1071'\n",
          "traceback": [
            "Error in library(e1071): there is no package called 'e1071'\nTraceback:\n",
            "1. library(e1071)"
          ]
        }
      ]
    },
    {
      "cell_type": "code",
      "metadata": {
        "id": "XfAhT_zmVVHB",
        "colab_type": "code",
        "colab": {},
        "outputId": "a3ffdf63-8541-4df7-8803-4fc5e4800276"
      },
      "source": [
        "# Create the forest.\n",
        "RF = randomForest(default ~ checking_balance + months_loan_duration+credit_history+\n",
        "                              purpose+amount+savings_balance+employment_duration+percent_of_income+\n",
        "                              years_at_residence+age+other_credit+housing+existing_loans_count+job+dependents+phone, \n",
        "           data = train, importance = TRUE)\n",
        "# View the forest results.\n",
        "print(RF) \n",
        "\n",
        "# Importance of each predictor.\n",
        "print(importance(RF,type = 2)) "
      ],
      "execution_count": 0,
      "outputs": [
        {
          "output_type": "stream",
          "text": [
            "\n",
            "Call:\n",
            " randomForest(formula = default ~ checking_balance + months_loan_duration +      credit_history + purpose + amount + savings_balance + employment_duration +      percent_of_income + years_at_residence + age + other_credit +      housing + existing_loans_count + job + dependents + phone,      data = train, importance = TRUE) \n",
            "               Type of random forest: classification\n",
            "                     Number of trees: 500\n",
            "No. of variables tried at each split: 4\n",
            "\n",
            "        OOB estimate of  error rate: 23.44%\n",
            "Confusion matrix:\n",
            "     no yes class.error\n",
            "no  584  51  0.08031496\n",
            "yes 160 105  0.60377358\n",
            "                     MeanDecreaseGini\n",
            "checking_balance            43.247028\n",
            "months_loan_duration        41.145762\n",
            "credit_history              26.527692\n",
            "purpose                     21.615452\n",
            "amount                      56.113151\n",
            "savings_balance             21.270004\n",
            "employment_duration         25.371822\n",
            "percent_of_income           17.429442\n",
            "years_at_residence          17.785354\n",
            "age                         43.045875\n",
            "other_credit                10.589603\n",
            "housing                     11.667858\n",
            "existing_loans_count         8.665350\n",
            "job                         13.331728\n",
            "dependents                   5.949914\n",
            "phone                        7.087689\n"
          ],
          "name": "stdout"
        }
      ]
    },
    {
      "cell_type": "markdown",
      "metadata": {
        "id": "fkVDzzphVVHC",
        "colab_type": "text"
      },
      "source": [
        " - The algorithm uses 500 trees and and number of variables tried at each split is 4 in this case. Error rate is 23.44%.\n",
        " - The checking_balance and months_loan_duration are the important factors deciding if someone would be able to pay back or\n",
        "   not. \n",
        "\n",
        "#### Prediction on test test"
      ]
    },
    {
      "cell_type": "code",
      "metadata": {
        "id": "bOiumcnoVVHC",
        "colab_type": "code",
        "colab": {},
        "outputId": "ee2861ee-8294-477c-e1f5-ae4dfa3421ec"
      },
      "source": [
        "RFpred = predict(RF, test)\n",
        "confusionMatrix(RFpred, test$default)"
      ],
      "execution_count": 0,
      "outputs": [
        {
          "output_type": "display_data",
          "data": {
            "text/plain": [
              "Confusion Matrix and Statistics\n",
              "\n",
              "          Reference\n",
              "Prediction no yes\n",
              "       no  60  20\n",
              "       yes  5  15\n",
              "                                          \n",
              "               Accuracy : 0.75            \n",
              "                 95% CI : (0.6534, 0.8312)\n",
              "    No Information Rate : 0.65            \n",
              "    P-Value [Acc > NIR] : 0.02114         \n",
              "                                          \n",
              "                  Kappa : 0.3902          \n",
              "                                          \n",
              " Mcnemar's Test P-Value : 0.00511         \n",
              "                                          \n",
              "            Sensitivity : 0.9231          \n",
              "            Specificity : 0.4286          \n",
              "         Pos Pred Value : 0.7500          \n",
              "         Neg Pred Value : 0.7500          \n",
              "             Prevalence : 0.6500          \n",
              "         Detection Rate : 0.6000          \n",
              "   Detection Prevalence : 0.8000          \n",
              "      Balanced Accuracy : 0.6758          \n",
              "                                          \n",
              "       'Positive' Class : no              \n",
              "                                          "
            ]
          },
          "metadata": {
            "tags": []
          }
        }
      ]
    },
    {
      "cell_type": "markdown",
      "metadata": {
        "id": "i9gqoivbVVHF",
        "colab_type": "text"
      },
      "source": [
        " - It had a 75% accuracy with a confidence interval of 0.65/0.83. It has 5 false negative and 20 false positive"
      ]
    },
    {
      "cell_type": "code",
      "metadata": {
        "id": "Q5qg-FUfVVHF",
        "colab_type": "code",
        "colab": {},
        "outputId": "56ca51a9-39e9-439b-c02a-0c0dd4324844"
      },
      "source": [
        "CrossTable(test$default, RFpred,\n",
        "           prop.chisq = FALSE, prop.c = FALSE, prop.r = FALSE,\n",
        "           dnn = c('actual default', 'predicted default'))"
      ],
      "execution_count": 0,
      "outputs": [
        {
          "output_type": "stream",
          "text": [
            "\n",
            " \n",
            "   Cell Contents\n",
            "|-------------------------|\n",
            "|                       N |\n",
            "|         N / Table Total |\n",
            "|-------------------------|\n",
            "\n",
            " \n",
            "Total Observations in Table:  100 \n",
            "\n",
            " \n",
            "               | predicted default \n",
            "actual default |        no |       yes | Row Total | \n",
            "---------------|-----------|-----------|-----------|\n",
            "            no |        60 |         5 |        65 | \n",
            "               |     0.600 |     0.050 |           | \n",
            "---------------|-----------|-----------|-----------|\n",
            "           yes |        20 |        15 |        35 | \n",
            "               |     0.200 |     0.150 |           | \n",
            "---------------|-----------|-----------|-----------|\n",
            "  Column Total |        80 |        20 |       100 | \n",
            "---------------|-----------|-----------|-----------|\n",
            "\n",
            " \n"
          ],
          "name": "stdout"
        }
      ]
    },
    {
      "cell_type": "markdown",
      "metadata": {
        "id": "VH92oBO3VVHH",
        "colab_type": "text"
      },
      "source": [
        "There is no need for cross-validation or a separate test set to get an unbiased estimate of the test set error (Breiman & Cutler) (https://www.stat.berkeley.edu/~breiman/RandomForests/cc_home.htm#ooberr). However, using the testing set, the prediction out-of-sample estimate of error can be confirmed through cross-validation. The accuracy is reported at 75%, the in-sample estimate of error rate of 0.52%. \n",
        " - From the Cross Table, 25% margin of error among applicants; the DTboosted case had 30% margin of error. However, this model\n",
        "   42.85% (15/35) of the actual defaults were predicted to be non-defaults, the output that we have seen before. \n",
        "###  Fine tuning parameters of Random Forest model"
      ]
    },
    {
      "cell_type": "code",
      "metadata": {
        "id": "Gc_5d8PhVVHH",
        "colab_type": "code",
        "colab": {},
        "outputId": "d016e05c-ebd4-4983-8c90-7c598294841a"
      },
      "source": [
        "install.packages(\"ROCR\")\n",
        "library(ROCR)"
      ],
      "execution_count": 0,
      "outputs": [
        {
          "output_type": "stream",
          "text": [
            "also installing the dependencies 'bitops', 'caTools', 'gplots'\n",
            "\n"
          ],
          "name": "stderr"
        },
        {
          "output_type": "stream",
          "text": [
            "package 'bitops' successfully unpacked and MD5 sums checked\n",
            "package 'caTools' successfully unpacked and MD5 sums checked\n",
            "package 'gplots' successfully unpacked and MD5 sums checked\n",
            "package 'ROCR' successfully unpacked and MD5 sums checked\n",
            "\n",
            "The downloaded binary packages are in\n",
            "\tC:\\Users\\Sarit\\AppData\\Local\\Temp\\RtmpM1UrMh\\downloaded_packages\n"
          ],
          "name": "stdout"
        },
        {
          "output_type": "stream",
          "text": [
            "Warning message:\n",
            "\"package 'ROCR' was built under R version 3.6.1\"Loading required package: gplots\n",
            "Warning message:\n",
            "\"package 'gplots' was built under R version 3.6.1\"\n",
            "Attaching package: 'gplots'\n",
            "\n",
            "The following object is masked from 'package:stats':\n",
            "\n",
            "    lowess\n",
            "\n"
          ],
          "name": "stderr"
        }
      ]
    },
    {
      "cell_type": "code",
      "metadata": {
        "id": "JGDtunc0VVHI",
        "colab_type": "code",
        "colab": {},
        "outputId": "1eefbb80-c536-4f4f-aa17-23d3d65530a7"
      },
      "source": [
        "RF1 = randomForest(default ~ checking_balance + months_loan_duration+credit_history+\n",
        "                              purpose+amount+savings_balance+employment_duration+percent_of_income+\n",
        "                              years_at_residence+age+other_credit+housing+existing_loans_count+job+dependents+phone, \n",
        "           data = train, ntree = 500, mtry = 16, importance = TRUE)\n",
        "RF1"
      ],
      "execution_count": 0,
      "outputs": [
        {
          "output_type": "display_data",
          "data": {
            "text/plain": [
              "\n",
              "Call:\n",
              " randomForest(formula = default ~ checking_balance + months_loan_duration +      credit_history + purpose + amount + savings_balance + employment_duration +      percent_of_income + years_at_residence + age + other_credit +      housing + existing_loans_count + job + dependents + phone,      data = train, ntree = 500, mtry = 16, importance = TRUE) \n",
              "               Type of random forest: classification\n",
              "                     Number of trees: 500\n",
              "No. of variables tried at each split: 16\n",
              "\n",
              "        OOB estimate of  error rate: 23.22%\n",
              "Confusion matrix:\n",
              "     no yes class.error\n",
              "no  570  65   0.1023622\n",
              "yes 144 121   0.5433962"
            ]
          },
          "metadata": {
            "tags": []
          }
        }
      ]
    },
    {
      "cell_type": "markdown",
      "metadata": {
        "id": "JE_5Fi-BVVHJ",
        "colab_type": "text"
      },
      "source": [
        " - I have increased the mtry from 4 to 16, but error rate remains same. Let's try with another mtry"
      ]
    },
    {
      "cell_type": "code",
      "metadata": {
        "id": "WqQUcno-VVHK",
        "colab_type": "code",
        "colab": {},
        "outputId": "01eadd9a-256f-474e-d533-691036d6b076"
      },
      "source": [
        "RF2 = randomForest(default ~ checking_balance + months_loan_duration+credit_history+\n",
        "                              purpose+amount+savings_balance+employment_duration+percent_of_income+\n",
        "                              years_at_residence+age+other_credit+housing+existing_loans_count+job+dependents+phone, \n",
        "           data = train, importance = TRUE,\n",
        "           mtry = 10, ntree = 500)\n",
        "RF2"
      ],
      "execution_count": 0,
      "outputs": [
        {
          "output_type": "display_data",
          "data": {
            "text/plain": [
              "\n",
              "Call:\n",
              " randomForest(formula = default ~ checking_balance + months_loan_duration +      credit_history + purpose + amount + savings_balance + employment_duration +      percent_of_income + years_at_residence + age + other_credit +      housing + existing_loans_count + job + dependents + phone,      data = train, importance = TRUE, mtry = 10, ntree = 500) \n",
              "               Type of random forest: classification\n",
              "                     Number of trees: 500\n",
              "No. of variables tried at each split: 10\n",
              "\n",
              "        OOB estimate of  error rate: 23.33%\n",
              "Confusion matrix:\n",
              "     no yes class.error\n",
              "no  573  62   0.0976378\n",
              "yes 148 117   0.5584906"
            ]
          },
          "metadata": {
            "tags": []
          }
        }
      ]
    },
    {
      "cell_type": "code",
      "metadata": {
        "id": "eHCDqnh5VVHL",
        "colab_type": "code",
        "colab": {},
        "outputId": "1f5e4a52-fe29-44ad-b32a-2457fd267b97"
      },
      "source": [
        "RF3 = randomForest(default ~ checking_balance + months_loan_duration+credit_history+\n",
        "                              purpose+amount+savings_balance+employment_duration+percent_of_income+\n",
        "                              years_at_residence+age+other_credit+housing+existing_loans_count+job+dependents+phone, \n",
        "           data = train, importance = TRUE,\n",
        "           mtry = 8, ntree = 500)\n",
        "RF3"
      ],
      "execution_count": 0,
      "outputs": [
        {
          "output_type": "display_data",
          "data": {
            "text/plain": [
              "\n",
              "Call:\n",
              " randomForest(formula = default ~ checking_balance + months_loan_duration +      credit_history + purpose + amount + savings_balance + employment_duration +      percent_of_income + years_at_residence + age + other_credit +      housing + existing_loans_count + job + dependents + phone,      data = train, importance = TRUE, mtry = 8, ntree = 500) \n",
              "               Type of random forest: classification\n",
              "                     Number of trees: 500\n",
              "No. of variables tried at each split: 8\n",
              "\n",
              "        OOB estimate of  error rate: 23.67%\n",
              "Confusion matrix:\n",
              "     no yes class.error\n",
              "no  572  63   0.0992126\n",
              "yes 150 115   0.5660377"
            ]
          },
          "metadata": {
            "tags": []
          }
        }
      ]
    },
    {
      "cell_type": "markdown",
      "metadata": {
        "id": "pCEoJq-EVVHO",
        "colab_type": "text"
      },
      "source": [
        "#### Accuracy is more or less same on training and testing data (74%) and this is higher than the DecesionTree (67%)\n",
        " \n",
        "### Visualize Result"
      ]
    },
    {
      "cell_type": "code",
      "metadata": {
        "id": "pCUIc5TiVVHP",
        "colab_type": "code",
        "colab": {},
        "outputId": "d016b257-9dfb-4e4a-d718-d4a0c5018fe7"
      },
      "source": [
        "varImp(RF)"
      ],
      "execution_count": 0,
      "outputs": [
        {
          "output_type": "display_data",
          "data": {
            "text/html": [
              "<table>\n",
              "<thead><tr><th></th><th scope=col>no</th><th scope=col>yes</th></tr></thead>\n",
              "<tbody>\n",
              "\t<tr><th scope=row>checking_balance</th><td>24.4219055</td><td>24.4219055</td></tr>\n",
              "\t<tr><th scope=row>months_loan_duration</th><td>14.5803340</td><td>14.5803340</td></tr>\n",
              "\t<tr><th scope=row>credit_history</th><td>10.3708681</td><td>10.3708681</td></tr>\n",
              "\t<tr><th scope=row>purpose</th><td> 3.3778283</td><td> 3.3778283</td></tr>\n",
              "\t<tr><th scope=row>amount</th><td> 7.9428077</td><td> 7.9428077</td></tr>\n",
              "\t<tr><th scope=row>savings_balance</th><td> 7.1336910</td><td> 7.1336910</td></tr>\n",
              "\t<tr><th scope=row>employment_duration</th><td> 4.4369892</td><td> 4.4369892</td></tr>\n",
              "\t<tr><th scope=row>percent_of_income</th><td> 4.2151847</td><td> 4.2151847</td></tr>\n",
              "\t<tr><th scope=row>years_at_residence</th><td> 4.1341952</td><td> 4.1341952</td></tr>\n",
              "\t<tr><th scope=row>age</th><td> 5.5278685</td><td> 5.5278685</td></tr>\n",
              "\t<tr><th scope=row>other_credit</th><td> 3.8677553</td><td> 3.8677553</td></tr>\n",
              "\t<tr><th scope=row>housing</th><td> 4.5276745</td><td> 4.5276745</td></tr>\n",
              "\t<tr><th scope=row>existing_loans_count</th><td> 0.7816286</td><td> 0.7816286</td></tr>\n",
              "\t<tr><th scope=row>job</th><td> 1.3520092</td><td> 1.3520092</td></tr>\n",
              "\t<tr><th scope=row>dependents</th><td> 1.2214335</td><td> 1.2214335</td></tr>\n",
              "\t<tr><th scope=row>phone</th><td> 2.0388349</td><td> 2.0388349</td></tr>\n",
              "</tbody>\n",
              "</table>\n"
            ],
            "text/latex": "\\begin{tabular}{r|ll}\n  & no & yes\\\\\n\\hline\n\tchecking\\_balance & 24.4219055 & 24.4219055\\\\\n\tmonths\\_loan\\_duration & 14.5803340 & 14.5803340\\\\\n\tcredit\\_history & 10.3708681 & 10.3708681\\\\\n\tpurpose &  3.3778283 &  3.3778283\\\\\n\tamount &  7.9428077 &  7.9428077\\\\\n\tsavings\\_balance &  7.1336910 &  7.1336910\\\\\n\temployment\\_duration &  4.4369892 &  4.4369892\\\\\n\tpercent\\_of\\_income &  4.2151847 &  4.2151847\\\\\n\tyears\\_at\\_residence &  4.1341952 &  4.1341952\\\\\n\tage &  5.5278685 &  5.5278685\\\\\n\tother\\_credit &  3.8677553 &  3.8677553\\\\\n\thousing &  4.5276745 &  4.5276745\\\\\n\texisting\\_loans\\_count &  0.7816286 &  0.7816286\\\\\n\tjob &  1.3520092 &  1.3520092\\\\\n\tdependents &  1.2214335 &  1.2214335\\\\\n\tphone &  2.0388349 &  2.0388349\\\\\n\\end{tabular}\n",
            "text/markdown": "\n| <!--/--> | no | yes |\n|---|---|---|\n| checking_balance | 24.4219055 | 24.4219055 |\n| months_loan_duration | 14.5803340 | 14.5803340 |\n| credit_history | 10.3708681 | 10.3708681 |\n| purpose |  3.3778283 |  3.3778283 |\n| amount |  7.9428077 |  7.9428077 |\n| savings_balance |  7.1336910 |  7.1336910 |\n| employment_duration |  4.4369892 |  4.4369892 |\n| percent_of_income |  4.2151847 |  4.2151847 |\n| years_at_residence |  4.1341952 |  4.1341952 |\n| age |  5.5278685 |  5.5278685 |\n| other_credit |  3.8677553 |  3.8677553 |\n| housing |  4.5276745 |  4.5276745 |\n| existing_loans_count |  0.7816286 |  0.7816286 |\n| job |  1.3520092 |  1.3520092 |\n| dependents |  1.2214335 |  1.2214335 |\n| phone |  2.0388349 |  2.0388349 |\n\n",
            "text/plain": [
              "                     no         yes       \n",
              "checking_balance     24.4219055 24.4219055\n",
              "months_loan_duration 14.5803340 14.5803340\n",
              "credit_history       10.3708681 10.3708681\n",
              "purpose               3.3778283  3.3778283\n",
              "amount                7.9428077  7.9428077\n",
              "savings_balance       7.1336910  7.1336910\n",
              "employment_duration   4.4369892  4.4369892\n",
              "percent_of_income     4.2151847  4.2151847\n",
              "years_at_residence    4.1341952  4.1341952\n",
              "age                   5.5278685  5.5278685\n",
              "other_credit          3.8677553  3.8677553\n",
              "housing               4.5276745  4.5276745\n",
              "existing_loans_count  0.7816286  0.7816286\n",
              "job                   1.3520092  1.3520092\n",
              "dependents            1.2214335  1.2214335\n",
              "phone                 2.0388349  2.0388349"
            ]
          },
          "metadata": {
            "tags": []
          }
        }
      ]
    },
    {
      "cell_type": "markdown",
      "metadata": {
        "id": "zHapjiiSVVHQ",
        "colab_type": "text"
      },
      "source": [
        " - The most important features are the checking_balance and months_loan_duration. That is not surprising because\n",
        "   the important features are likely to appear closer to the root of the tree, while less important features will often appear\n",
        "   closed to the leaves."
      ]
    },
    {
      "cell_type": "code",
      "metadata": {
        "id": "Lsd3kktPVVHQ",
        "colab_type": "code",
        "colab": {},
        "outputId": "42c9ecd5-7ef2-4226-d1e5-d16b76b13a47"
      },
      "source": [
        "importance(RF) "
      ],
      "execution_count": 0,
      "outputs": [
        {
          "output_type": "display_data",
          "data": {
            "text/html": [
              "<table>\n",
              "<thead><tr><th></th><th scope=col>no</th><th scope=col>yes</th><th scope=col>MeanDecreaseAccuracy</th><th scope=col>MeanDecreaseGini</th></tr></thead>\n",
              "<tbody>\n",
              "\t<tr><th scope=row>checking_balance</th><td>19.353449 </td><td>29.4903621</td><td>31.942094 </td><td>43.247028 </td></tr>\n",
              "\t<tr><th scope=row>months_loan_duration</th><td>19.286923 </td><td> 9.8737449</td><td>21.747647 </td><td>41.145762 </td></tr>\n",
              "\t<tr><th scope=row>credit_history</th><td>12.241003 </td><td> 8.5007330</td><td>14.860589 </td><td>26.527692 </td></tr>\n",
              "\t<tr><th scope=row>purpose</th><td> 4.864286 </td><td> 1.8913709</td><td> 4.892251 </td><td>21.615452 </td></tr>\n",
              "\t<tr><th scope=row>amount</th><td>12.750185 </td><td> 3.1354300</td><td>13.063879 </td><td>56.113151 </td></tr>\n",
              "\t<tr><th scope=row>savings_balance</th><td> 5.088300 </td><td> 9.1790822</td><td> 9.516596 </td><td>21.270004 </td></tr>\n",
              "\t<tr><th scope=row>employment_duration</th><td> 5.528857 </td><td> 3.3451212</td><td> 6.347124 </td><td>25.371822 </td></tr>\n",
              "\t<tr><th scope=row>percent_of_income</th><td> 7.046569 </td><td> 1.3838001</td><td> 6.318595 </td><td>17.429442 </td></tr>\n",
              "\t<tr><th scope=row>years_at_residence</th><td> 5.871589 </td><td> 2.3968013</td><td> 6.252983 </td><td>17.785354 </td></tr>\n",
              "\t<tr><th scope=row>age</th><td> 8.481011 </td><td> 2.5747262</td><td> 8.354128 </td><td>43.045875 </td></tr>\n",
              "\t<tr><th scope=row>other_credit</th><td> 6.633654 </td><td> 1.1018567</td><td> 6.039070 </td><td>10.589603 </td></tr>\n",
              "\t<tr><th scope=row>housing</th><td> 4.686537 </td><td> 4.3688122</td><td> 6.758538 </td><td>11.667858 </td></tr>\n",
              "\t<tr><th scope=row>existing_loans_count</th><td> 4.525659 </td><td>-2.9624022</td><td> 2.500256 </td><td> 8.665350 </td></tr>\n",
              "\t<tr><th scope=row>job</th><td> 2.109571 </td><td> 0.5944478</td><td> 2.100709 </td><td>13.331728 </td></tr>\n",
              "\t<tr><th scope=row>dependents</th><td> 2.227581 </td><td> 0.2152862</td><td> 1.958570 </td><td> 5.949914 </td></tr>\n",
              "\t<tr><th scope=row>phone</th><td> 1.490717 </td><td> 2.5869532</td><td> 2.670916 </td><td> 7.087689 </td></tr>\n",
              "</tbody>\n",
              "</table>\n"
            ],
            "text/latex": "\\begin{tabular}{r|llll}\n  & no & yes & MeanDecreaseAccuracy & MeanDecreaseGini\\\\\n\\hline\n\tchecking\\_balance & 19.353449  & 29.4903621 & 31.942094  & 43.247028 \\\\\n\tmonths\\_loan\\_duration & 19.286923  &  9.8737449 & 21.747647  & 41.145762 \\\\\n\tcredit\\_history & 12.241003  &  8.5007330 & 14.860589  & 26.527692 \\\\\n\tpurpose &  4.864286  &  1.8913709 &  4.892251  & 21.615452 \\\\\n\tamount & 12.750185  &  3.1354300 & 13.063879  & 56.113151 \\\\\n\tsavings\\_balance &  5.088300  &  9.1790822 &  9.516596  & 21.270004 \\\\\n\temployment\\_duration &  5.528857  &  3.3451212 &  6.347124  & 25.371822 \\\\\n\tpercent\\_of\\_income &  7.046569  &  1.3838001 &  6.318595  & 17.429442 \\\\\n\tyears\\_at\\_residence &  5.871589  &  2.3968013 &  6.252983  & 17.785354 \\\\\n\tage &  8.481011  &  2.5747262 &  8.354128  & 43.045875 \\\\\n\tother\\_credit &  6.633654  &  1.1018567 &  6.039070  & 10.589603 \\\\\n\thousing &  4.686537  &  4.3688122 &  6.758538  & 11.667858 \\\\\n\texisting\\_loans\\_count &  4.525659  & -2.9624022 &  2.500256  &  8.665350 \\\\\n\tjob &  2.109571  &  0.5944478 &  2.100709  & 13.331728 \\\\\n\tdependents &  2.227581  &  0.2152862 &  1.958570  &  5.949914 \\\\\n\tphone &  1.490717  &  2.5869532 &  2.670916  &  7.087689 \\\\\n\\end{tabular}\n",
            "text/markdown": "\n| <!--/--> | no | yes | MeanDecreaseAccuracy | MeanDecreaseGini |\n|---|---|---|---|---|\n| checking_balance | 19.353449  | 29.4903621 | 31.942094  | 43.247028  |\n| months_loan_duration | 19.286923  |  9.8737449 | 21.747647  | 41.145762  |\n| credit_history | 12.241003  |  8.5007330 | 14.860589  | 26.527692  |\n| purpose |  4.864286  |  1.8913709 |  4.892251  | 21.615452  |\n| amount | 12.750185  |  3.1354300 | 13.063879  | 56.113151  |\n| savings_balance |  5.088300  |  9.1790822 |  9.516596  | 21.270004  |\n| employment_duration |  5.528857  |  3.3451212 |  6.347124  | 25.371822  |\n| percent_of_income |  7.046569  |  1.3838001 |  6.318595  | 17.429442  |\n| years_at_residence |  5.871589  |  2.3968013 |  6.252983  | 17.785354  |\n| age |  8.481011  |  2.5747262 |  8.354128  | 43.045875  |\n| other_credit |  6.633654  |  1.1018567 |  6.039070  | 10.589603  |\n| housing |  4.686537  |  4.3688122 |  6.758538  | 11.667858  |\n| existing_loans_count |  4.525659  | -2.9624022 |  2.500256  |  8.665350  |\n| job |  2.109571  |  0.5944478 |  2.100709  | 13.331728  |\n| dependents |  2.227581  |  0.2152862 |  1.958570  |  5.949914  |\n| phone |  1.490717  |  2.5869532 |  2.670916  |  7.087689  |\n\n",
            "text/plain": [
              "                     no        yes        MeanDecreaseAccuracy MeanDecreaseGini\n",
              "checking_balance     19.353449 29.4903621 31.942094            43.247028       \n",
              "months_loan_duration 19.286923  9.8737449 21.747647            41.145762       \n",
              "credit_history       12.241003  8.5007330 14.860589            26.527692       \n",
              "purpose               4.864286  1.8913709  4.892251            21.615452       \n",
              "amount               12.750185  3.1354300 13.063879            56.113151       \n",
              "savings_balance       5.088300  9.1790822  9.516596            21.270004       \n",
              "employment_duration   5.528857  3.3451212  6.347124            25.371822       \n",
              "percent_of_income     7.046569  1.3838001  6.318595            17.429442       \n",
              "years_at_residence    5.871589  2.3968013  6.252983            17.785354       \n",
              "age                   8.481011  2.5747262  8.354128            43.045875       \n",
              "other_credit          6.633654  1.1018567  6.039070            10.589603       \n",
              "housing               4.686537  4.3688122  6.758538            11.667858       \n",
              "existing_loans_count  4.525659 -2.9624022  2.500256             8.665350       \n",
              "job                   2.109571  0.5944478  2.100709            13.331728       \n",
              "dependents            2.227581  0.2152862  1.958570             5.949914       \n",
              "phone                 1.490717  2.5869532  2.670916             7.087689       "
            ]
          },
          "metadata": {
            "tags": []
          }
        }
      ]
    },
    {
      "cell_type": "markdown",
      "metadata": {
        "id": "E6neHpUAVVHT",
        "colab_type": "text"
      },
      "source": [
        " - The MeanDecreaseGini measures the Gini importance i.e. how important the features are over all splits done in the\n",
        "   tree/forest - whereas for each individual split the Gini importance indicates how much the Gini criterion =\n",
        "   \"unequality/heterogeneity\" was reduced using this split. A classification tree essentially tries to built homogeneous groups\n",
        "   of samples, so that one (homogeneous) class label can be predicted per group.\n",
        " - So it makes sense to check how much features contributed to obtaining such homogeneous groups - which is the end is the\n",
        "   MeanDecreaseGini = \"variable importance\". So, as we can clearly see, checking_balance and months_loan_duration contributed\n",
        "   most to obtaining such splits, so they are considered more important."
      ]
    },
    {
      "cell_type": "code",
      "metadata": {
        "id": "EnwSZMd-VVHV",
        "colab_type": "code",
        "colab": {},
        "outputId": "9212a141-62ad-45c7-d7e7-7f94036c48e2"
      },
      "source": [
        "varImpPlot(RF)"
      ],
      "execution_count": 0,
      "outputs": [
        {
          "output_type": "display_data",
          "data": {
            "image/png": "[encoded data removed]",
            "text/plain": [
              "plot without title"
            ]
          },
          "metadata": {
            "tags": []
          }
        }
      ]
    },
    {
      "cell_type": "code",
      "metadata": {
        "id": "yOHWPE0vVVHW",
        "colab_type": "code",
        "colab": {},
        "outputId": "129172b7-edc0-427e-d1c1-5b355538438a"
      },
      "source": [
        "plot(RF)"
      ],
      "execution_count": 0,
      "outputs": [
        {
          "output_type": "display_data",
          "data": {
            "image/png": "[encoded data removed]",
            "text/plain": [
              "Plot with title \"RF\""
            ]
          },
          "metadata": {
            "tags": []
          }
        }
      ]
    },
    {
      "cell_type": "markdown",
      "metadata": {
        "id": "vTjKPhtTVVHX",
        "colab_type": "text"
      },
      "source": [
        " - The first plot indicates the error for different classes (colored) and out-of-bag (OOB) samples (black) over the amount of\n",
        "   trees. Classes are in the same order as the results we get from print(model), so will be red=setosa and green=virginica. We\n",
        "   essentially see that the error seems to be lowest around 500 trees."
      ]
    },
    {
      "cell_type": "code",
      "metadata": {
        "id": "9q3e9N5xVVHZ",
        "colab_type": "code",
        "colab": {}
      },
      "source": [
        ""
      ],
      "execution_count": 0,
      "outputs": []
    }
  ]
}